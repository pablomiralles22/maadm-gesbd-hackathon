{
 "cells": [
  {
   "cell_type": "code",
   "execution_count": 1,
   "metadata": {},
   "outputs": [],
   "source": [
    "from dotenv import dotenv_values\n",
    "from SPARQLWrapper import SPARQLWrapper, POST"
   ]
  },
  {
   "cell_type": "code",
   "execution_count": 2,
   "metadata": {},
   "outputs": [],
   "source": [
    "env_config = dotenv_values(\"../environment/.env\")"
   ]
  },
  {
   "cell_type": "code",
   "execution_count": 4,
   "metadata": {},
   "outputs": [],
   "source": [
    "sparql = SPARQLWrapper(\n",
    "    f\"http://{env_config['GRAPHDB_HOST']}:{env_config['GRAPHDB_PORT']}\"\n",
    "    f\"/repositories/{env_config['GRAPHDB_REPOSITORY']}/statements\"\n",
    ")\n",
    "sparql.setMethod(POST)"
   ]
  },
  {
   "cell_type": "code",
   "execution_count": 5,
   "metadata": {},
   "outputs": [],
   "source": [
    "PREFIXES = \"\"\"\n",
    "PREFIX  :     <http://www.semanticweb.org/hackathon/ontology/>\n",
    "PREFIX  owl:  <http://www.w3.org/2002/07/owl#>\n",
    "PREFIX  rdf:  <http://www.w3.org/1999/02/22-rdf-syntax-ns#>\n",
    "PREFIX  xml:  <http://www.w3.org/XML/1998/namespace>\n",
    "PREFIX  xsd:  <http://www.w3.org/2001/XMLSchema#>\n",
    "PREFIX  rdfs: <http://www.w3.org/2000/01/rdf-schema#>\n",
    "\"\"\""
   ]
  },
  {
   "cell_type": "code",
   "execution_count": null,
   "metadata": {},
   "outputs": [],
   "source": []
  }
 ],
 "metadata": {
  "kernelspec": {
   "display_name": "Python 3",
   "language": "python",
   "name": "python3"
  },
  "language_info": {
   "codemirror_mode": {
    "name": "ipython",
    "version": 3
   },
   "file_extension": ".py",
   "mimetype": "text/x-python",
   "name": "python",
   "nbconvert_exporter": "python",
   "pygments_lexer": "ipython3",
   "version": "3.11.5"
  }
 },
 "nbformat": 4,
 "nbformat_minor": 2
}
