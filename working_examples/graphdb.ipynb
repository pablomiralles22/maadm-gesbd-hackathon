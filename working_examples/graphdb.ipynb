{
 "cells": [
  {
   "cell_type": "code",
   "execution_count": 1,
   "metadata": {},
   "outputs": [],
   "source": [
    "from dotenv import dotenv_values\n",
    "from SPARQLWrapper import SPARQLWrapper, POST, JSON\n",
    "import requests"
   ]
  },
  {
   "cell_type": "markdown",
   "metadata": {},
   "source": [
    "### Selección de BOE"
   ]
  },
  {
   "cell_type": "code",
   "execution_count": 2,
   "metadata": {},
   "outputs": [],
   "source": [
    "boe_id = \"BOE-A-2023-8320\""
   ]
  },
  {
   "cell_type": "code",
   "execution_count": 3,
   "metadata": {},
   "outputs": [],
   "source": [
    "env_config = dotenv_values(\"../.env\")"
   ]
  },
  {
   "cell_type": "code",
   "execution_count": 4,
   "metadata": {},
   "outputs": [],
   "source": [
    "sparql = SPARQLWrapper(\n",
    "    f\"http://{env_config['GRAPHDB_HOST']}:{env_config['GRAPHDB_PORT']}\"\n",
    "    f\"/repositories/{env_config['GRAPHDB_REPOSITORY']}\"\n",
    ")\n",
    "sparql.setMethod(POST)"
   ]
  },
  {
   "cell_type": "code",
   "execution_count": 5,
   "metadata": {},
   "outputs": [],
   "source": [
    "PREFIXES = \"\"\"\n",
    "PREFIX  :     <http://www.semanticweb.org/hackathon/ontology/>\n",
    "PREFIX  owl:  <http://www.w3.org/2002/07/owl#>\n",
    "PREFIX  rdf:  <http://www.w3.org/1999/02/22-rdf-syntax-ns#>\n",
    "PREFIX  xml:  <http://www.w3.org/XML/1998/namespace>\n",
    "PREFIX  xsd:  <http://www.w3.org/2001/XMLSchema#>\n",
    "PREFIX  rdfs: <http://www.w3.org/2000/01/rdf-schema#>\n",
    "\"\"\""
   ]
  },
  {
   "cell_type": "code",
   "execution_count": 6,
   "metadata": {},
   "outputs": [],
   "source": [
    "def get_titulos(boe_ids):\n",
    "    sparql.setQuery(PREFIXES + f\"\"\"\n",
    "    SELECT ?entradaBOE ?titulo\n",
    "    WHERE {{\n",
    "    ?entradaBOE rdf:type :EntradaBOE .\n",
    "    ?entradaBOE :identificador \"{boe_id}\" .\n",
    "    ?entradaBOE :titulo ?titulo .\n",
    "    }}\n",
    "    \"\"\")\n",
    "    sparql.setReturnFormat(JSON)\n",
    "    results = sparql.query().convert()\n",
    "    return results[\"results\"][\"bindings\"][0]"
   ]
  },
  {
   "cell_type": "markdown",
   "metadata": {},
   "source": [
    "### Obtención anteriores y posteriores"
   ]
  },
  {
   "cell_type": "code",
   "execution_count": 7,
   "metadata": {},
   "outputs": [],
   "source": [
    "def get_referenced_boes(boe_id):\n",
    "    query = f\"\"\"\n",
    "                PREFIX  :     <http://www.semanticweb.org/hackathon/ontology/>\n",
    "                PREFIX  rdf:  <http://www.w3.org/1999/02/22-rdf-syntax-ns#>\n",
    "\n",
    "                SELECT ?entradaBOE ?boe_anterior_correccion ?boe_posterior_correccion ?boe_anterior ?boe_posterior\n",
    "                WHERE {{\n",
    "                ?entradaBOE rdf:type :EntradaBOE .\n",
    "                ?entradaBOE :identificador \"{boe_id}\" .\n",
    "                \n",
    "                OPTIONAL {{\n",
    "                    ?entradaBOE :publica ?boe_anterior .\n",
    "                    FILTER EXISTS {{ ?entradaBOE :publica ?boe_anterior }}\n",
    "                }}\n",
    "                \n",
    "                OPTIONAL {{\n",
    "                    ?entradaBOE :sePublica ?boe_posterior .\n",
    "                    FILTER EXISTS {{ ?entradaBOE :sePublica ?boe_posterior }}\n",
    "                }}\n",
    "                \n",
    "                OPTIONAL {{\n",
    "                    ?entradaBOE :corrigeErrores ?boe_anterior_correccion .\n",
    "                    FILTER EXISTS {{ ?entradaBOE :corrigeErrores ?boe_anterior_correccion }}\n",
    "                }}\n",
    "                \n",
    "                OPTIONAL {{\n",
    "                    ?entradaBOE :seCorrigenErrores ?boe_posterior_correccion .\n",
    "                    FILTER EXISTS {{ ?entradaBOE :seCorrigenErrores ?boe_posterior_correccion }}\n",
    "                }}\n",
    "                }}\n",
    "            \"\"\"\n",
    "\n",
    "    sparql.setQuery(query)\n",
    "    sparql.setReturnFormat(JSON)\n",
    "    sparql.addParameter('Content-Type', 'application/sparql-query')\n",
    "    results = sparql.query().convert()\n",
    "    anteriores = []\n",
    "    posteriores = []\n",
    "    for result in results[\"results\"][\"bindings\"]:\n",
    "        entradaBOE = result[\"entradaBOE\"][\"value\"].split(\"/\")[-1]\n",
    "        try:\n",
    "            anteriores.append(result[\"boe_anterior\"][\"value\"].split(\"/\")[-1])\n",
    "        except:\n",
    "            pass\n",
    "        try:\n",
    "            anteriores.append(result[\"boe_anterior_correccion\"][\"value\"].split(\"/\")[-1])\n",
    "        except:\n",
    "            pass\n",
    "        try:\n",
    "            posteriores.append(result[\"boe_posterior\"][\"value\"].split(\"/\")[-1])\n",
    "        except:\n",
    "            pass\n",
    "        try:\n",
    "            posteriores.append(result[\"boe_posterior_correccion\"][\"value\"].split(\"/\")[-1])\n",
    "        except:\n",
    "            pass\n",
    "    \n",
    "    return {'anteriores': anteriores, 'posteriores': posteriores}"
   ]
  },
  {
   "cell_type": "code",
   "execution_count": 8,
   "metadata": {},
   "outputs": [
    {
     "name": "stdout",
     "output_type": "stream",
     "text": [
      "Entrada seleccionada del BOE: BOE-A-2023-8320\n",
      "\n",
      "BOEs anteriores:\n",
      "\t*BOE-A-2023-7897: Resolución de 31 de marzo de 2023, de la Subsecretaría, por la que se corrigen errores de la de 23 de marzo de 2023, por la que se resuelve el concurso específico convocado por la Resolución de 20 de enero de 2023.\n",
      "\n",
      "BOEs posteriores:\n",
      "\t*BOE-A-2023-8500: Resolución de 31 de marzo de 2023, de la Subsecretaría, por la que se corrigen errores de la de 23 de marzo de 2023, por la que se resuelve el concurso específico convocado por la Resolución de 20 de enero de 2023.\n"
     ]
    }
   ],
   "source": [
    "refs = get_referenced_boes(boe_id)\n",
    "print(f\"Entrada seleccionada del BOE: {boe_id}\")\n",
    "\n",
    "print(\"\\nBOEs anteriores:\")\n",
    "for ref in refs['anteriores']:\n",
    "    print(f\"\\t*{ref}: {get_titulos(ref)['titulo']['value']}\")\n",
    "\n",
    "print(\"\\nBOEs posteriores:\")\n",
    "for ref in refs['posteriores']:\n",
    "    print(f\"\\t*{ref}: {get_titulos(ref)['titulo']['value']}\")"
   ]
  }
 ],
 "metadata": {
  "kernelspec": {
   "display_name": "Python 3",
   "language": "python",
   "name": "python3"
  },
  "language_info": {
   "codemirror_mode": {
    "name": "ipython",
    "version": 3
   },
   "file_extension": ".py",
   "mimetype": "text/x-python",
   "name": "python",
   "nbconvert_exporter": "python",
   "pygments_lexer": "ipython3",
   "version": "3.10.0rc2"
  }
 },
 "nbformat": 4,
 "nbformat_minor": 2
}
