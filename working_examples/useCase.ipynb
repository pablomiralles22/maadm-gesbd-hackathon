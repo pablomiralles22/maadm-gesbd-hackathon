{
 "cells": [
  {
   "cell_type": "markdown",
   "metadata": {},
   "source": [
    "# Caso de uso para la aplicación"
   ]
  },
  {
   "cell_type": "code",
   "execution_count": 1,
   "metadata": {},
   "outputs": [
    {
     "name": "stderr",
     "output_type": "stream",
     "text": [
      "d:\\Proyectos\\venv310\\lib\\site-packages\\tqdm\\auto.py:21: TqdmWarning: IProgress not found. Please update jupyter and ipywidgets. See https://ipywidgets.readthedocs.io/en/stable/user_install.html\n",
      "  from .autonotebook import tqdm as notebook_tqdm\n"
     ]
    }
   ],
   "source": [
    "import pymongo\n",
    "from elasticsearch import Elasticsearch\n",
    "from sentence_transformers import SentenceTransformer\n",
    "from dotenv import dotenv_values\n",
    "from pprint import pprint\n",
    "from SPARQLWrapper import SPARQLWrapper, POST, JSON\n",
    "import requests\n",
    "import pprint\n",
    "import re"
   ]
  },
  {
   "cell_type": "code",
   "execution_count": 2,
   "metadata": {},
   "outputs": [],
   "source": [
    "env_config = dotenv_values(\"../.env\")"
   ]
  },
  {
   "cell_type": "markdown",
   "metadata": {},
   "source": [
    "### Aux functions"
   ]
  },
  {
   "cell_type": "code",
   "execution_count": 3,
   "metadata": {},
   "outputs": [],
   "source": [
    "def to_title_case(s):\n",
    "    return re.sub(r\"(\\s+|[;,.])\", \"\", s.title())\n",
    "\n",
    "def to_camel_case(s):\n",
    "    title_case = to_title_case(s)\n",
    "    return title_case[0].lower() + title_case[1:]\n",
    "\n",
    "def get_titulos(boe_ids):\n",
    "    sparql.setQuery(PREFIXES + f\"\"\"\n",
    "    SELECT ?entradaBOE ?titulo\n",
    "    WHERE {{\n",
    "    ?entradaBOE rdf:type :EntradaBOE .\n",
    "    ?entradaBOE :identificador \"{boe_id}\" .\n",
    "    ?entradaBOE :titulo ?titulo .\n",
    "    }}\n",
    "    \"\"\")\n",
    "    sparql.setReturnFormat(JSON)\n",
    "    results = sparql.query().convert()\n",
    "    return results[\"results\"][\"bindings\"][0]"
   ]
  },
  {
   "cell_type": "markdown",
   "metadata": {},
   "source": [
    "### Creando conexiones"
   ]
  },
  {
   "cell_type": "code",
   "execution_count": 4,
   "metadata": {},
   "outputs": [],
   "source": [
    "mongo_client = pymongo.MongoClient(\n",
    "    host=env_config['MONGODB_HOST'],\n",
    "    port=int(env_config['MONGODB_PORT']),\n",
    "    username=env_config['MONGO_USER'],\n",
    "    password=env_config['MONGO_PASSWORD'],\n",
    ")\n",
    "mongo_collection = mongo_client[\"boe_db\"][\"boe\"]"
   ]
  },
  {
   "cell_type": "code",
   "execution_count": 5,
   "metadata": {},
   "outputs": [],
   "source": [
    "es_client = Elasticsearch(f\"http://{env_config['ELASTICSEARCH_HOST']}:{env_config['ELASTICSEARCH_PORT']}\")\n",
    "model = SentenceTransformer(env_config[\"SENTENCE_TRANSFORMER_MODEL\"])"
   ]
  },
  {
   "cell_type": "code",
   "execution_count": 6,
   "metadata": {},
   "outputs": [],
   "source": [
    "sparql = SPARQLWrapper(\n",
    "    f\"http://{env_config['GRAPHDB_HOST']}:{env_config['GRAPHDB_PORT']}\"\n",
    "    f\"/repositories/{env_config['GRAPHDB_REPOSITORY']}\"\n",
    ")\n",
    "sparql.setMethod(POST)"
   ]
  },
  {
   "cell_type": "markdown",
   "metadata": {},
   "source": [
    "## Selección del BOE(s) que aplican al tema elegido"
   ]
  },
  {
   "cell_type": "code",
   "execution_count": 7,
   "metadata": {},
   "outputs": [],
   "source": [
    "tema_elegido = \"(1E-2023) para la provisión de puestos de trabajo\""
   ]
  },
  {
   "cell_type": "markdown",
   "metadata": {},
   "source": [
    "### Búsqueda semántica"
   ]
  },
  {
   "cell_type": "code",
   "execution_count": 10,
   "metadata": {},
   "outputs": [
    {
     "name": "stdout",
     "output_type": "stream",
     "text": [
      "{'hits': [], 'max_score': None, 'total': {'relation': 'eq', 'value': 0}}\n"
     ]
    }
   ],
   "source": [
    "query_text = \"cantidad de agua tope\"\n",
    "knn_params = {\n",
    "    \"field\": \"embedding\",\n",
    "    \"query_vector\": model.encode(query_text),\n",
    "    \"k\": 10,\n",
    "    \"num_candidates\": 10,\n",
    "}\n",
    "params = {\n",
    "    \"index\": \"boe\",\n",
    "    \"knn\": knn_params,\n",
    "    \"_source\": [\"doc_id\", \"text\"]\n",
    "}\n",
    "res = es_client.search(**params)\n",
    "pprint.pprint(res[\"hits\"])"
   ]
  },
  {
   "cell_type": "markdown",
   "metadata": {},
   "source": [
    "## Tratamiento del BOE objetivo en GraphDB"
   ]
  },
  {
   "cell_type": "code",
   "execution_count": null,
   "metadata": {},
   "outputs": [],
   "source": [
    "boe_id = \"BOE-A-2023-8320\""
   ]
  },
  {
   "cell_type": "markdown",
   "metadata": {},
   "source": [
    "### Mapeando posibles relaciones"
   ]
  },
  {
   "cell_type": "code",
   "execution_count": null,
   "metadata": {},
   "outputs": [],
   "source": [
    "posteriores = dict()\n",
    "## get all from collection with a \"materias\" field of more than 1 element\n",
    "for item in mongo_collection.find({\"posteriores\": {\"$exists\": True, \"$not\": {\"$size\": 0}}}):\n",
    "    for anterior in item[\"posteriores\"]:\n",
    "        relacion = anterior[\"relacion\"]\n",
    "        posteriores[relacion[\"codigo\"]] = to_camel_case(relacion[\"texto\"])\n",
    "\n",
    "anteriores = dict()\n",
    "## get all from collection with a \"materias\" field of more than 1 element\n",
    "for item in mongo_collection.find({\"anteriores\": {\"$exists\": True, \"$not\": {\"$size\": 0}}}):\n",
    "    for anterior in item[\"anteriores\"]:\n",
    "        relacion = anterior[\"relacion\"]\n",
    "        anteriores[relacion[\"codigo\"]] = to_camel_case(relacion[\"texto\"])"
   ]
  },
  {
   "cell_type": "code",
   "execution_count": null,
   "metadata": {},
   "outputs": [],
   "source": [
    "v_relaciones = dict()\n",
    "v_relaciones['anteriores'] = list(anteriores.values())\n",
    "v_relaciones['posteriores'] = list(posteriores.values())"
   ]
  },
  {
   "cell_type": "markdown",
   "metadata": {},
   "source": [
    "### Consulta documento objetivo"
   ]
  },
  {
   "cell_type": "code",
   "execution_count": null,
   "metadata": {},
   "outputs": [],
   "source": [
    "PREFIXES = \"\"\"\n",
    "PREFIX  :     <http://www.semanticweb.org/hackathon/ontology/>\n",
    "PREFIX  owl:  <http://www.w3.org/2002/07/owl#>\n",
    "PREFIX  rdf:  <http://www.w3.org/1999/02/22-rdf-syntax-ns#>\n",
    "PREFIX  xml:  <http://www.w3.org/XML/1998/namespace>\n",
    "PREFIX  xsd:  <http://www.w3.org/2001/XMLSchema#>\n",
    "PREFIX  rdfs: <http://www.w3.org/2000/01/rdf-schema#>\n",
    "\"\"\""
   ]
  },
  {
   "cell_type": "markdown",
   "metadata": {},
   "source": [
    "#### Procesamos el documento elegido y todos sus atributos y relaciones"
   ]
  },
  {
   "cell_type": "code",
   "execution_count": null,
   "metadata": {},
   "outputs": [],
   "source": [
    "describe_query = PREFIXES + f\"\"\"\n",
    "                DESCRIBE ?entradaBOE\n",
    "                WHERE {{\n",
    "                ?entradaBOE rdf:type :EntradaBOE .\n",
    "                ?entradaBOE :identificador \"{boe_id}\" .\n",
    "                }}\n",
    "                \"\"\"\n",
    "sparql.setQuery(query=describe_query)\n",
    "sparql.setReturnFormat(JSON)\n",
    "sparql.addParameter('Content-Type', 'application/sparql-query')\n",
    "results = sparql.query().convert().decode(\"utf-8\")"
   ]
  },
  {
   "cell_type": "code",
   "execution_count": null,
   "metadata": {},
   "outputs": [],
   "source": [
    "found_rels = dict()\n",
    "for relacion in v_relaciones['anteriores']:\n",
    "    if relacion in results:\n",
    "        found_rels[relacion] = 'anterior'\n",
    "\n",
    "for relacion in v_relaciones['posteriores']:\n",
    "    if relacion in results:\n",
    "        found_rels[relacion] = 'posterior'"
   ]
  },
  {
   "cell_type": "markdown",
   "metadata": {},
   "source": [
    "#### Obtención de BOEs relacionados"
   ]
  },
  {
   "cell_type": "code",
   "execution_count": null,
   "metadata": {},
   "outputs": [],
   "source": [
    "def get_referenced_boes(boe_id, relaciones):\n",
    "    select = \"SELECT ?entradaBOE \" + \" \".join([f\"?boe_anterior_{relacion} ?boe_posterior_{relacion} \" for relacion in relaciones.keys()])\n",
    "    where = f\"\"\"\n",
    "            WHERE {{\n",
    "                ?entradaBOE rdf:type :EntradaBOE .\n",
    "                ?entradaBOE :identificador \"{boe_id}\" .\n",
    "            \"\"\"\n",
    "    for relacion in relaciones.keys():\n",
    "        if relaciones[relacion] == 'anterior':\n",
    "            get_relacion_ant = f\"\"\"\n",
    "                OPTIONAL {{\n",
    "                        ?entradaBOE :{relacion} ?boe_anterior_{relacion} .\n",
    "                        FILTER EXISTS {{ ?entradaBOE :{relacion} ?boe_anterior_{relacion} }}\n",
    "                    }}\n",
    "            \"\"\"\n",
    "            where += get_relacion_ant\n",
    "        else:\n",
    "            get_relacion_post = f\"\"\"\n",
    "                OPTIONAL {{\n",
    "                            ?entradaBOE :{relacion} ?boe_posterior_{relacion} .\n",
    "                            FILTER EXISTS {{ ?entradaBOE :{relacion} ?boe_posterior_{relacion} }}\n",
    "                        }}\n",
    "            \"\"\"\n",
    "            where += get_relacion_post\n",
    "    where += \"\\n}\"\n",
    "\n",
    "    query_relaciones = PREFIXES + select + where\n",
    "    sparql.setQuery(query_relaciones)\n",
    "    sparql.setReturnFormat(JSON)\n",
    "    sparql.addParameter('Content-Type', 'application/sparql-query')\n",
    "    results = sparql.query().convert()\n",
    "    \n",
    "    anteriores = []\n",
    "    posteriores = []\n",
    "    headers = results[\"head\"][\"vars\"]\n",
    "    for result in results[\"results\"][\"bindings\"]:\n",
    "        entradaBOE = result[\"entradaBOE\"][\"value\"].split(\"/\")[-1]\n",
    "        for header in headers:\n",
    "            try:    \n",
    "                if result[header][\"value\"].split(\"/\")[-1] == boe_id: continue\n",
    "            except:\n",
    "                continue\n",
    "            if header.startswith(\"boe_anterior\"):\n",
    "                anteriores.append((result[header][\"value\"].split(\"/\")[-1], header.split(\"_\")[-1]))\n",
    "            else:\n",
    "                posteriores.append((result[header][\"value\"].split(\"/\")[-1], header.split(\"_\")[-1]))\n",
    "    \n",
    "    return {'anteriores': anteriores, 'posteriores': posteriores}"
   ]
  },
  {
   "cell_type": "markdown",
   "metadata": {},
   "source": [
    "#### Muestra de los BOEs relacionados"
   ]
  },
  {
   "cell_type": "code",
   "execution_count": null,
   "metadata": {},
   "outputs": [],
   "source": [
    "refs = get_referenced_boes(boe_id, found_rels)\n",
    "print(f\"Entrada seleccionada del BOE: {boe_id}\")\n",
    "\n",
    "print(\"\\nBOEs anteriores:\")\n",
    "for ref in refs['anteriores']:\n",
    "    print(f\"\\t*{ref[1]} de {ref[0]}: {get_titulos(ref[0])['titulo']['value']}\")\n",
    "\n",
    "print(\"\\nBOEs posteriores:\")\n",
    "for ref in refs['posteriores']:\n",
    "    print(f\"\\t*{ref[1]} en {ref[0]}: {get_titulos(ref[0])['titulo']['value']}\")"
   ]
  }
 ],
 "metadata": {
  "kernelspec": {
   "display_name": "venv310",
   "language": "python",
   "name": "python3"
  },
  "language_info": {
   "codemirror_mode": {
    "name": "ipython",
    "version": 3
   },
   "file_extension": ".py",
   "mimetype": "text/x-python",
   "name": "python",
   "nbconvert_exporter": "python",
   "pygments_lexer": "ipython3",
   "version": "3.10.0rc2"
  }
 },
 "nbformat": 4,
 "nbformat_minor": 2
}
