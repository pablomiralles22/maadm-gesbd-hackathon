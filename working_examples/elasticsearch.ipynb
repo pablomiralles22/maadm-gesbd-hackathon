{
 "cells": [
  {
   "cell_type": "code",
   "execution_count": 17,
   "metadata": {},
   "outputs": [],
   "source": [
    "from elasticsearch import Elasticsearch\n",
    "from sentence_transformers import SentenceTransformer\n",
    "from dotenv import dotenv_values\n",
    "from pprint import pprint"
   ]
  },
  {
   "cell_type": "code",
   "execution_count": 18,
   "metadata": {},
   "outputs": [],
   "source": [
    "env_config = dotenv_values(\"../.env\")"
   ]
  },
  {
   "cell_type": "code",
   "execution_count": 19,
   "metadata": {},
   "outputs": [],
   "source": [
    "es_client = Elasticsearch(f\"http://{env_config['ELASTICSEARCH_HOST']}:{env_config['ELASTICSEARCH_PORT']}\")"
   ]
  },
  {
   "cell_type": "code",
   "execution_count": 20,
   "metadata": {},
   "outputs": [],
   "source": [
    "model = SentenceTransformer(env_config[\"SENTENCE_TRANSFORMER_MODEL\"])"
   ]
  },
  {
   "cell_type": "markdown",
   "metadata": {},
   "source": [
    "## Todos los resultados"
   ]
  },
  {
   "cell_type": "code",
   "execution_count": 21,
   "metadata": {},
   "outputs": [
    {
     "name": "stdout",
     "output_type": "stream",
     "text": [
      "{'hits': [{'_id': '-qdYwIsBVcU9L_wxWx7Z',\n",
      "           '_index': 'boe',\n",
      "           '_score': 1.0,\n",
      "           '_source': {'doc_id': 'BOE-A-2023-20397',\n",
      "                       'text': '2.\\u2003Don Óscar Raúl Donaire Bravo.'}},\n",
      "          {'_id': 'AadYwIsBVcU9L_wxXx9d',\n",
      "           '_index': 'boe',\n",
      "           '_score': 1.0,\n",
      "           '_source': {'doc_id': 'BOE-A-2023-20399',\n",
      "                       'text': 'De acuerdo con lo dispuesto en la Orden '\n",
      "                               'PRE/189/2016, de\\xa017 de febrero, por la que '\n",
      "                               'se regula el reconocimiento de cualificaciones '\n",
      "                               'profesionales adquiridas en otros Estados '\n",
      "                               'miembros de la Unión Europea para el ejercicio '\n",
      "                               'en España de la profesión de '\n",
      "                               'Traductor-Intérprete Jurado, se dictó la '\n",
      "                               'Resolución de\\xa02 de marzo de\\xa02016, de la '\n",
      "                               'Subsecretaría, por la que se nombraban los '\n",
      "                               'miembros de la Comisión de Evaluación prevista '\n",
      "                               'en la mencionada orden, cuya composición se '\n",
      "                               'modificó posteriormente mediante la Resolución '\n",
      "                               'de\\xa029 de julio de\\xa02022, de la '\n",
      "                               'Subsecretaría, por la que se renuevan los '\n",
      "                               'miembros de la Comisión de Evaluación prevista '\n",
      "                               'en la Orden PRE/189/2016, de\\xa017 de febrero, '\n",
      "                               'por la que se regula el reconocimiento de '\n",
      "                               'cualificaciones profesionales adquiridas en '\n",
      "                               'otros Estados miembros de la Unión Europea '\n",
      "                               'para el ejercicio en España de la profesión de '\n",
      "                               'Traductor-Intérprete Jurado.'}},\n",
      "          {'_id': 'AqdYwIsBVcU9L_wxXx-3',\n",
      "           '_index': 'boe',\n",
      "           '_score': 1.0,\n",
      "           '_source': {'doc_id': 'BOE-A-2023-20399',\n",
      "                       'text': 'Según lo señalado en el artículo\\xa011 de la '\n",
      "                               'Orden PRE/189/2016, de\\xa017 de febrero, la '\n",
      "                               'presidencia de la Comisión de Evaluación '\n",
      "                               'corresponde a quien ejerza la jefatura de la '\n",
      "                               'Oficina de Interpretación de Lenguas. Por su '\n",
      "                               'parte, las vocalías de la Comisión de '\n",
      "                               'Evaluación deben recaer en personal '\n",
      "                               'funcionario del grupo A, subgrupo A1, adscrito '\n",
      "                               'a la Secretaría General Técnica de este '\n",
      "                               'ministerio.'}},\n",
      "          {'_id': 'A6dYwIsBVcU9L_wxXx_9',\n",
      "           '_index': 'boe',\n",
      "           '_score': 1.0,\n",
      "           '_source': {'doc_id': 'BOE-A-2023-20399',\n",
      "                       'text': 'Habida cuenta de que algunos de los miembros '\n",
      "                               'de la Comisión de Evaluación nombrados por la '\n",
      "                               'Resolución de\\xa029 de julio de\\xa02022 ya no '\n",
      "                               'reúnen los requisitos para formar parte de '\n",
      "                               'ella, es necesario proceder a la renovación de '\n",
      "                               'su composición.'}},\n",
      "          {'_id': 'BKdYwIsBVcU9L_wxYB9C',\n",
      "           '_index': 'boe',\n",
      "           '_score': 1.0,\n",
      "           '_source': {'doc_id': 'BOE-A-2023-20399',\n",
      "                       'text': 'En su virtud, resuelvo:'}},\n",
      "          {'_id': 'BadYwIsBVcU9L_wxYB-I',\n",
      "           '_index': 'boe',\n",
      "           '_score': 1.0,\n",
      "           '_source': {'doc_id': 'BOE-A-2023-20399',\n",
      "                       'text': 'Primero.\\u2003Nombramiento.'}},\n",
      "          {'_id': 'B6dYwIsBVcU9L_wxYR8f',\n",
      "           '_index': 'boe',\n",
      "           '_score': 1.0,\n",
      "           '_source': {'doc_id': 'BOE-A-2023-20399',\n",
      "                       'text': 'Presidenta: Naomí Ramírez Díaz, Directora de '\n",
      "                               'la Oficina de Interpretación de Lenguas, '\n",
      "                               'funcionaria del Cuerpo de Traductores e '\n",
      "                               'Intérpretes del Estado.'}},\n",
      "          {'_id': 'CKdYwIsBVcU9L_wxYR95',\n",
      "           '_index': 'boe',\n",
      "           '_score': 1.0,\n",
      "           '_source': {'doc_id': 'BOE-A-2023-20399',\n",
      "                       'text': '–\\u2002Sophie Courgeon, funcionaria del Cuerpo '\n",
      "                               'de Traductores e Intérpretes del Estado.'}},\n",
      "          {'_id': 'C6dYwIsBVcU9L_wxYh9K',\n",
      "           '_index': 'boe',\n",
      "           '_score': 1.0,\n",
      "           '_source': {'doc_id': 'BOE-A-2023-20399',\n",
      "                       'text': 'Presidenta: Montserrat Alfaro García, '\n",
      "                               'funcionaria del Cuerpo de Traductores e '\n",
      "                               'Intérpretes del Estado.'}},\n",
      "          {'_id': 'DadYwIsBVcU9L_wxYh_W',\n",
      "           '_index': 'boe',\n",
      "           '_score': 1.0,\n",
      "           '_source': {'doc_id': 'BOE-A-2023-20399',\n",
      "                       'text': '–\\u2002María José Gabaldón García, funcionaria '\n",
      "                               'del Cuerpo de Traductores e Intérpretes del '\n",
      "                               'Estado.'}}],\n",
      " 'max_score': 1.0,\n",
      " 'total': {'relation': 'eq', 'value': 101}}\n"
     ]
    }
   ],
   "source": [
    "params = {\n",
    "    \"index\": \"boe\",\n",
    "    \"query\": {\"match_all\": {}},\n",
    "    \"_source\": [\"doc_id\", \"text\"]\n",
    "}\n",
    "res = es_client.search(**params)\n",
    "pprint(res[\"hits\"])"
   ]
  },
  {
   "cell_type": "markdown",
   "metadata": {},
   "source": [
    "## Resultados semánticos con KNN"
   ]
  },
  {
   "cell_type": "code",
   "execution_count": 22,
   "metadata": {},
   "outputs": [
    {
     "name": "stdout",
     "output_type": "stream",
     "text": [
      "{'hits': [{'_id': 'I6dYwIsBVcU9L_wxaR-3',\n",
      "           '_index': 'boe',\n",
      "           '_score': 0.67210853,\n",
      "           '_source': {'doc_id': 'BOE-A-2023-20400',\n",
      "                       'text': 'Número de orden: 1. Puesto de trabajo: Jefe/a '\n",
      "                               'de Departamento del fondo de cooperación para '\n",
      "                               'agua y saneamiento (5109142). Dirección de '\n",
      "                               'Cooperación con América Latina y el Caribe. '\n",
      "                               'Dirección de la Agencia Española de '\n",
      "                               'Cooperación Internacional para el Desarrollo. '\n",
      "                               'Nivel: 30. Complemento Específico: 28.265,44 '\n",
      "                               'euros. Localidad: Madrid. Subgrupo: A1. '\n",
      "                               'Adscripción: AE.'}},\n",
      "          {'_id': 'EqdYwIsBVcU9L_wxZB9S',\n",
      "           '_index': 'boe',\n",
      "           '_score': 0.6185689,\n",
      "           '_source': {'doc_id': 'BOE-A-2023-20399',\n",
      "                       'text': 'Cuarto.\\u2003Adscripción orgánica.'}},\n",
      "          {'_id': 'IqdYwIsBVcU9L_wxaR9J',\n",
      "           '_index': 'boe',\n",
      "           '_score': 0.6076534,\n",
      "           '_source': {'doc_id': 'BOE-A-2023-20400',\n",
      "                       'text': 'Resolución\\xa019 de julio de\\xa02023 (BOE '\n",
      "                               'número 182, de\\xa01 de agosto de\\xa02023)'}},\n",
      "          {'_id': 'BKdYwIsBVcU9L_wxYB9C',\n",
      "           '_index': 'boe',\n",
      "           '_score': 0.59005624,\n",
      "           '_source': {'doc_id': 'BOE-A-2023-20399',\n",
      "                       'text': 'En su virtud, resuelvo:'}},\n",
      "          {'_id': 'SqdYwIsBVcU9L_wxdh-k',\n",
      "           '_index': 'boe',\n",
      "           '_score': 0.58022165,\n",
      "           '_source': {'doc_id': 'BOE-A-2023-20404',\n",
      "                       'text': 'Publíquese el presente Decreto en el «Boletín '\n",
      "                               'Oficial del Estado».'}},\n",
      "          {'_id': 'JadYwIsBVcU9L_wxah9W',\n",
      "           '_index': 'boe',\n",
      "           '_score': 0.57681733,\n",
      "           '_source': {'doc_id': 'BOE-A-2023-20400',\n",
      "                       'text': 'Número de orden: 2. Puesto de trabajo: '\n",
      "                               'Secretario/a de Director (5083019). Unidad de '\n",
      "                               'Apoyo. Dirección de Cooperación Multilateral, '\n",
      "                               'Horizontal y Financiera. Dirección de la '\n",
      "                               'Agencia Española de Cooperación Internacional '\n",
      "                               'para el Desarrollo. Nivel: 17. Complemento '\n",
      "                               'Específico: 8.201,76 euros. Localidad: Madrid. '\n",
      "                               'Subgrupo: C1/C2. Adscripción: AE. Agrupaciones '\n",
      "                               'Cuerpos: EX11.'}},\n",
      "          {'_id': 'RadYwIsBVcU9L_wxdR8o',\n",
      "           '_index': 'boe',\n",
      "           '_score': 0.5754738,\n",
      "           '_source': {'doc_id': 'BOE-A-2023-20404',\n",
      "                       'text': 'La LOPDGDD establece que los adjuntos del DPD '\n",
      "                               'del MF no pueden ocupar un cargo en la '\n",
      "                               'organización que le lleve a determinar los '\n",
      "                               'fines y medios del tratamiento (artículo\\xa0'\n",
      "                               '36.2). La determinación de los medios, '\n",
      "                               'conforme al criterio del GT\\xa029, implica '\n",
      "                               'decidir cómo se realizan las actividades de '\n",
      "                               'tratamiento. Los «medios» no solo se refieren '\n",
      "                               'a los medios técnicos para tratar los datos '\n",
      "                               'personales, sino también al «cómo» el '\n",
      "                               'tratamiento, que incluye preguntas como ¿qué '\n",
      "                               'datos deben tratarse?, ¿qué terceros deben '\n",
      "                               'tener acceso a estos datos?, ¿cuándo deben '\n",
      "                               'borrarse los datos?, ¿cómo deben comunicarse '\n",
      "                               'esos datos?, etc. En definitiva, en la '\n",
      "                               'determinación de los medios se incluyen '\n",
      "                               'preguntas técnicas y organizativas.'}},\n",
      "          {'_id': 'JKdYwIsBVcU9L_wxah8G',\n",
      "           '_index': 'boe',\n",
      "           '_score': 0.5665767,\n",
      "           '_source': {'doc_id': 'BOE-A-2023-20400',\n",
      "                       'text': 'Datos personales adjudicatario/a: Don '\n",
      "                               'Alejandro David Martos Rodríguez, N.R.P.:\\xa0'\n",
      "                               '******7935 A1000. Subgrupo A1. Cuerpo o '\n",
      "                               'Escala: Cuerpo de Ingenieros de caminos, '\n",
      "                               'canales y puertos del Estado. Estado: Servicio '\n",
      "                               'Activo. Puesto de procedencia: Agencia '\n",
      "                               'Española de Cooperación Internacional para el '\n",
      "                               'Desarrollo.'}},\n",
      "          {'_id': 'N6dYwIsBVcU9L_wxcB-N',\n",
      "           '_index': 'boe',\n",
      "           '_score': 0.5648386,\n",
      "           '_source': {'doc_id': 'BOE-A-2023-20403',\n",
      "                       'text': 'Esta Subsecretaría resuelve:'}},\n",
      "          {'_id': 'GKdYwIsBVcU9L_wxZh8f',\n",
      "           '_index': 'boe',\n",
      "           '_score': 0.5643184,\n",
      "           '_source': {'doc_id': 'BOE-A-2023-20399',\n",
      "                       'text': 'Esta resolución, que no pone fin a la vía '\n",
      "                               'administrativa, podrá ser recurrida en alzada '\n",
      "                               'ante el Sr. Ministro de Asuntos Exteriores, '\n",
      "                               'Unión Europea y Cooperación, en el plazo de un '\n",
      "                               'mes, de acuerdo con lo establecido en los '\n",
      "                               'artículos\\xa0121 y\\xa0122 de la Ley\\xa0'\n",
      "                               '39/2015, de\\xa01 de octubre, del Procedimiento '\n",
      "                               'Administrativo Común de las Administraciones '\n",
      "                               'Públicas.'}}],\n",
      " 'max_score': 0.67210853,\n",
      " 'total': {'relation': 'eq', 'value': 10}}\n"
     ]
    }
   ],
   "source": [
    "query_text = \"cantidad de agua tope\"\n",
    "knn_params = {\n",
    "    \"field\": \"embedding\",\n",
    "    \"query_vector\": model.encode(query_text),\n",
    "    \"k\": 10,\n",
    "    \"num_candidates\": 10,\n",
    "}\n",
    "params = {\n",
    "    \"index\": \"boe\",\n",
    "    \"knn\": knn_params,\n",
    "    \"_source\": [\"doc_id\", \"text\"]\n",
    "}\n",
    "res = es_client.search(**params)\n",
    "pprint(res[\"hits\"])"
   ]
  },
  {
   "cell_type": "markdown",
   "metadata": {},
   "source": [
    "## Combinado"
   ]
  },
  {
   "cell_type": "code",
   "execution_count": 23,
   "metadata": {},
   "outputs": [
    {
     "name": "stdout",
     "output_type": "stream",
     "text": [
      "{'hits': [], 'max_score': None, 'total': {'relation': 'eq', 'value': 0}}\n"
     ]
    }
   ],
   "source": [
    "query_text = \"cantidad de agua\"\n",
    "knn_params = {\n",
    "    \"field\": \"embedding\",\n",
    "    \"query_vector\": model.encode(query_text),\n",
    "    \"k\": 10,\n",
    "    \"num_candidates\": 10,\n",
    "    \"filter\": {\n",
    "        \"match\": {\n",
    "            \"text\": \"liquidez\",\n",
    "        },\n",
    "    },\n",
    "}\n",
    "params = {\n",
    "    \"index\": \"boe\",\n",
    "    \"knn\": knn_params,\n",
    "    \"_source\": [\"doc_id\", \"text\"]\n",
    "}\n",
    "res = es_client.search(**params)\n",
    "pprint(res[\"hits\"])"
   ]
  },
  {
   "cell_type": "markdown",
   "metadata": {},
   "source": [
    "## Caso de Uso"
   ]
  },
  {
   "cell_type": "code",
   "execution_count": 36,
   "metadata": {},
   "outputs": [
    {
     "name": "stdout",
     "output_type": "stream",
     "text": [
      "BOE\t -> \tn_apariciones\n",
      "BOE-A-2023-20471 -> 2\n",
      "BOE-A-2023-20470 -> 4\n",
      "BOE-A-2023-20397 -> 1\n",
      "BOE-B-2023-28351 -> 1\n",
      "BOE-B-2023-28350 -> 1\n",
      "BOE-A-2023-20468 -> 1\n"
     ]
    }
   ],
   "source": [
    "query_text = \"Convocatiores de oposiciones de bibliotecarios y bibliotecarias de las Cortes\"\n",
    "knn_params = {\n",
    "    \"field\": \"embedding\",\n",
    "    \"query_vector\": model.encode(query_text),\n",
    "    \"k\": 10,\n",
    "    \"num_candidates\": 10,\n",
    "}\n",
    "params = {\n",
    "    \"index\": \"boe\",\n",
    "    \"knn\": knn_params,\n",
    "    \"_source\": [\"doc_id\", \"text\"]\n",
    "}\n",
    "res = es_client.search(**params)\n",
    "#pprint(res[\"hits\"])\n",
    "hits = {}\n",
    "for hit in res[\"hits\"][\"hits\"]:\n",
    "    try:\n",
    "        hits[hit[\"_source\"][\"doc_id\"]] = hits[hit[\"_source\"][\"doc_id\"]] + 1\n",
    "    except:\n",
    "        hits[hit[\"_source\"][\"doc_id\"]] = 1\n",
    "\n",
    "print(\"BOE\\t -> \\tn_apariciones\")\n",
    "for hit in hits:\n",
    "    print(f\"{hit} -> {hits[hit]}\")"
   ]
  }
 ],
 "metadata": {
  "kernelspec": {
   "display_name": "Python 3",
   "language": "python",
   "name": "python3"
  },
  "language_info": {
   "codemirror_mode": {
    "name": "ipython",
    "version": 3
   },
   "file_extension": ".py",
   "mimetype": "text/x-python",
   "name": "python",
   "nbconvert_exporter": "python",
   "pygments_lexer": "ipython3",
   "version": "3.10.0rc2"
  }
 },
 "nbformat": 4,
 "nbformat_minor": 2
}
