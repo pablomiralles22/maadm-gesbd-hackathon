{
 "cells": [
  {
   "cell_type": "code",
   "execution_count": 13,
   "metadata": {},
   "outputs": [],
   "source": [
    "import pymongo\n",
    "\n",
    "from elasticsearch import Elasticsearch\n",
    "from sentence_transformers import SentenceTransformer\n",
    "from dotenv import dotenv_values\n",
    "from pprint import pprint"
   ]
  },
  {
   "cell_type": "code",
   "execution_count": 2,
   "metadata": {},
   "outputs": [],
   "source": [
    "env_config = dotenv_values(\"../.env\")"
   ]
  },
  {
   "cell_type": "code",
   "execution_count": 3,
   "metadata": {},
   "outputs": [],
   "source": [
    "es_client = Elasticsearch(f\"http://{env_config['ELASTICSEARCH_HOST']}:{env_config['ELASTICSEARCH_PORT']}\")"
   ]
  },
  {
   "cell_type": "code",
   "execution_count": 14,
   "metadata": {},
   "outputs": [],
   "source": [
    "mongo_client = pymongo.MongoClient(\n",
    "    host=env_config['MONGODB_HOST'],\n",
    "    port=int(env_config['MONGODB_PORT']),\n",
    "    username=env_config['MONGO_USER'],\n",
    "    password=env_config['MONGO_PASSWORD'],\n",
    ")\n",
    "mongo_collection = mongo_client[\"boe_db\"][\"boe\"]"
   ]
  },
  {
   "cell_type": "code",
   "execution_count": 4,
   "metadata": {},
   "outputs": [],
   "source": [
    "model = SentenceTransformer(env_config[\"SENTENCE_TRANSFORMER_MODEL\"])"
   ]
  },
  {
   "cell_type": "markdown",
   "metadata": {},
   "source": [
    "## Caso de uso 1 - Búsqueda de convocatorias de oposiciones a bibliotecario/as de las Cortes"
   ]
  },
  {
   "cell_type": "markdown",
   "metadata": {},
   "source": [
    "Esto requiere de una búsqueda léxica con palabras clave."
   ]
  },
  {
   "cell_type": "code",
   "execution_count": 26,
   "metadata": {},
   "outputs": [],
   "source": [
    "query_params = {\n",
    "    \"match\": {\n",
    "        \"text\": \"convocatoria oposiciones bibliotecario cortes\"\n",
    "    }\n",
    "}\n",
    "params = {\n",
    "    \"index\": \"boe\",\n",
    "    \"query\": query_params,\n",
    "    \"_source\": [\"doc_id\", \"text\"]\n",
    "}\n",
    "results = es_client.search(**params)\n",
    "matches = set(hit[\"_source\"][\"doc_id\"] for hit in results[\"hits\"][\"hits\"])"
   ]
  },
  {
   "cell_type": "code",
   "execution_count": 27,
   "metadata": {},
   "outputs": [
    {
     "name": "stdout",
     "output_type": "stream",
     "text": [
      "Resolución de 25 de abril de 2023, del Instituto Cervantes, por la que se publica el Convenio con Repsol Exploración Argelia, SA, para el desarrollo de actividades culturales y académicas del Instituto Cervantes en Argelia en 2023.\n",
      "Resolución de 25 de abril de 2023, de la Universidad de Jaén, por la que se convoca proceso selectivo para la provisión, por el sistema general de acceso libre, de plaza de personal laboral en la categoría de Titulado/a de Grado Medio de Apoyo a la Docencia e Investigación.\n",
      "Real Decreto 340/2023, de 3 de mayo, por el que se aprueba la provisión de plazas de las Fuerzas Armadas y de la Escala de Oficiales de la Guardia Civil para el año 2023.\n",
      "Resolución de 25 de abril de 2023, de la Secretaría General del Tribunal Constitucional, por la que se convoca beca de formación en biblioteconomía y documentación relacionada con los fondos bibliográficos del Tribunal Constitucional.\n",
      "Ley 5/2023, de 13 de abril, integral de medidas contra el despoblamiento y por la equidad territorial en la Comunitat Valenciana.\n",
      "Resolución de 26 de abril de 2023, de la Universidad de Málaga, por la que se convocan pruebas selectivas para ingreso, por el sistema general de acceso libre, en la Escala de Ayudantes de Archivos, Bibliotecas y Museos.\n"
     ]
    }
   ],
   "source": [
    "mongo_query = {\"identificador\": {\"$in\": list(matches)}}\n",
    "mongo_result = mongo_collection.find(mongo_query)\n",
    "for item in mongo_result:\n",
    "    print(item[\"titulo\"])"
   ]
  },
  {
   "cell_type": "markdown",
   "metadata": {},
   "source": [
    "## Caso de uso 2 - Búsqueda de entradas relacionadas con el control de inundaciones"
   ]
  },
  {
   "cell_type": "code",
   "execution_count": 24,
   "metadata": {},
   "outputs": [],
   "source": [
    "query_text = \"control de inundaciones\"\n",
    "knn_params = {\n",
    "    \"field\": \"embedding\",\n",
    "    \"query_vector\": model.encode(query_text),\n",
    "    \"k\": 10,\n",
    "    \"num_candidates\": 10,\n",
    "    \"filter\": {\n",
    "        \"match\": {\n",
    "            \"text\": \"control de inundaciones\",\n",
    "        },\n",
    "    },\n",
    "}\n",
    "params = {\n",
    "    \"index\": \"boe\",\n",
    "    \"knn\": knn_params,\n",
    "    \"_source\": [\"doc_id\", \"text\"]\n",
    "}\n",
    "results = es_client.search(**params)\n",
    "matches = set(hit[\"_source\"][\"doc_id\"] for hit in results[\"hits\"][\"hits\"])"
   ]
  },
  {
   "cell_type": "code",
   "execution_count": 25,
   "metadata": {},
   "outputs": [
    {
     "name": "stdout",
     "output_type": "stream",
     "text": [
      "Resolución de 27 de abril de 2023, de la Confederación Hidrográfica del Guadalquivir, O.A., por la que se publica el Convenio con el Ayuntamiento de Jaén, para ejecución y financiación de las obras \"Proyecto de intervención en el ámbito de los Cañones de Rio Frío en Jaén\".\n",
      "Resolución de 18 de abril de 2023, de la Dirección General de Política Energética y Minas, por la que se otorga a Green Capital Power, SL, autorización administrativa previa para la instalación fotovoltaica La Vega, de 109,26 MW de potencia instalada, y sus infraestructuras de evacuación asociadas, en Fuenlabrada, Humanes de Madrid, Parla, Griñón y Moraleja de Enmedio (Madrid).\n",
      "Resolución de 18 de abril de 2023, de la Dirección General de Política Energética y Minas, por la que se otorga a Cobra Concesiones, SL, autorización administrativa previa para la Planta Solar Fotovoltaica \"FV Castalla\" con una potencia de 100 MW, y su infraestructura de evacuación, en Castalla (Alicante).\n",
      "Resolución de 18 de abril de 2023, de la Dirección General de Política Energética y Minas, por la que se otorga a Green Capital Power, SL, autorización administrativa previa para la instalación fotovoltaica Cruz, de 64,1 MW de potencia instalada, y sus infraestructuras de evacuación asociadas, en Fuenlabrada, Humanes de Madrid y Parla (Madrid).\n"
     ]
    }
   ],
   "source": [
    "mongo_query = {\"identificador\": {\"$in\": list(matches)}}\n",
    "mongo_result = mongo_collection.find(mongo_query)\n",
    "for item in mongo_result:\n",
    "    print(item[\"titulo\"])"
   ]
  }
 ],
 "metadata": {
  "kernelspec": {
   "display_name": "Python 3",
   "language": "python",
   "name": "python3"
  },
  "language_info": {
   "codemirror_mode": {
    "name": "ipython",
    "version": 3
   },
   "file_extension": ".py",
   "mimetype": "text/x-python",
   "name": "python",
   "nbconvert_exporter": "python",
   "pygments_lexer": "ipython3",
   "version": "3.11.5"
  }
 },
 "nbformat": 4,
 "nbformat_minor": 2
}
