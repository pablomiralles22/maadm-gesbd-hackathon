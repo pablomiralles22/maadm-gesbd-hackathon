{
 "cells": [
  {
   "cell_type": "code",
   "execution_count": 10,
   "metadata": {},
   "outputs": [],
   "source": [
    "from elasticsearch import Elasticsearch\n",
    "from sentence_transformers import SentenceTransformer\n",
    "from dotenv import dotenv_values\n",
    "from pprint import pprint"
   ]
  },
  {
   "cell_type": "code",
   "execution_count": 6,
   "metadata": {},
   "outputs": [],
   "source": [
    "env_config = dotenv_values(\"../environment/.env\")"
   ]
  },
  {
   "cell_type": "code",
   "execution_count": 8,
   "metadata": {},
   "outputs": [],
   "source": [
    "es_client = Elasticsearch(f\"http://{env_config['ELASTICSEARCH_HOST']}:{env_config['ELASTICSEARCH_PORT']}\")"
   ]
  },
  {
   "cell_type": "code",
   "execution_count": 9,
   "metadata": {},
   "outputs": [],
   "source": [
    "model = SentenceTransformer(env_config[\"SENTENCE_TRANSFORMER_MODEL\"])"
   ]
  },
  {
   "cell_type": "markdown",
   "metadata": {},
   "source": [
    "## Todos los resultados"
   ]
  },
  {
   "cell_type": "code",
   "execution_count": 17,
   "metadata": {},
   "outputs": [
    {
     "name": "stdout",
     "output_type": "stream",
     "text": [
      "{'hits': [{'_id': 'desUtIsBir71ATlveUwl',\n",
      "           '_index': 'boe',\n",
      "           '_score': 1.0,\n",
      "           '_source': {'doc_id': 'BOE-B-2023-32033',\n",
      "                       'texto': 'REF.: MC-0019/2022 (INTEGRA AYE) VA'}},\n",
      "          {'_id': 'dusUtIsBir71ATlveUz6',\n",
      "           '_ignored': ['texto.keyword'],\n",
      "           '_index': 'boe',\n",
      "           '_score': 1.0,\n",
      "           '_source': {'doc_id': 'BOE-B-2023-32033',\n",
      "                       'texto': 'D. David Martín García (***4191**), en '\n",
      "                                'representación de la Comunidad de Regantes '\n",
      "                                'Finca Valijara (en formación), solicita de la '\n",
      "                                'Confederación Hidrográfica del Duero una '\n",
      "                                'modificación de características de concesión '\n",
      "                                'de un aprovechamiento de aguas subterráneas, '\n",
      "                                'otorgada a favor de D. Sebastián Martín '\n",
      "                                'Martín y D. David Martín García, expediente '\n",
      "                                'de referencia CP-22550-VA, con un caudal '\n",
      "                                'máximo instantáneo de 18 l/s, un volumen '\n",
      "                                'máximo anual de 47.700 m³ y con destino a '\n",
      "                                'riego de 30,82 ha, en el término municipal de '\n",
      "                                'Valbuena de Duero (Valladolid).'}},\n",
      "          {'_id': 'eesUtIsBir71ATlvekyH',\n",
      "           '_index': 'boe',\n",
      "           '_score': 1.0,\n",
      "           '_source': {'doc_id': 'BOE-B-2023-32033',\n",
      "                       'texto': '- Sondeo existente de 300 m de profundidad, '\n",
      "                                '500 mm de diámetro y 300 mm de diámetro '\n",
      "                                'entubado, situado en la parcela 54 del '\n",
      "                                'polígono 504, paraje Valdecarros, en el '\n",
      "                                'término municipal de Valbuena de Duero '\n",
      "                                '(Valladolid).'}},\n",
      "          {'_id': 'eusUtIsBir71ATlveky2',\n",
      "           '_index': 'boe',\n",
      "           '_score': 1.0,\n",
      "           '_source': {'doc_id': 'BOE-B-2023-32033',\n",
      "                       'texto': '- La finalidad del aprovechamiento es para el '\n",
      "                                'siguiente uso: riego de una superficie de '\n",
      "                                '50,55 ha (38,92 ha de viñedo y 11,63 ha de '\n",
      "                                'cultivos herbáceos), repartida entre las '\n",
      "                                'siguientes parcelas:'}},\n",
      "          {'_id': 'e-sUtIsBir71ATlvekze',\n",
      "           '_index': 'boe',\n",
      "           '_score': 1.0,\n",
      "           '_source': {'doc_id': 'BOE-B-2023-32033',\n",
      "                       'texto': 'SUPERFICIE CON DERECHO A RIEGO'}},\n",
      "          {'_id': 'fOsUtIsBir71ATlve0wB',\n",
      "           '_index': 'boe',\n",
      "           '_score': 1.0,\n",
      "           '_source': {'doc_id': 'BOE-B-2023-32033',\n",
      "                       'texto': '- El volumen máximo anual solicitado es de '\n",
      "                                '47.700 m3/año.'}},\n",
      "          {'_id': 'f-sUtIsBir71ATlve0yN',\n",
      "           '_ignored': ['texto.keyword'],\n",
      "           '_index': 'boe',\n",
      "           '_score': 1.0,\n",
      "           '_source': {'doc_id': 'BOE-B-2023-32033',\n",
      "                       'texto': 'Lo que se hace público, en cumplimiento de lo '\n",
      "                                'dispuesto en el artículo 109 del Reglamento '\n",
      "                                'del Dominio Público Hidráulico, aprobado por '\n",
      "                                'el Real Decreto 849/1986, de 11 de abril, a '\n",
      "                                'fin de que, en el plazo de UN MES contado a '\n",
      "                                'partir de la publicación de este anuncio en '\n",
      "                                'el Boletín Oficial del Estado y en el portal '\n",
      "                                'de internet de este organismo de cuenca, '\n",
      "                                'puedan presentar reclamaciones los que tengan '\n",
      "                                'la condición de interesados, pudiendo '\n",
      "                                'examinar el expediente y documentos técnicos '\n",
      "                                'tanto como por medios electrónicos o físicos, '\n",
      "                                'previa solicitud, en la sede de esta '\n",
      "                                'Confederación Hidrográfica a donde deberán '\n",
      "                                'dirigir por escrito las alegaciones '\n",
      "                                'pertinentes, por los medios establecidos en '\n",
      "                                'la Ley 39/2015, de 1 de octubre, dentro del '\n",
      "                                'mismo plazo\" (art. 109.2).'}},\n",
      "          {'_id': 'gOsUtIsBir71ATlve0zO',\n",
      "           '_ignored': ['texto.keyword'],\n",
      "           '_index': 'boe',\n",
      "           '_score': 1.0,\n",
      "           '_source': {'doc_id': 'BOE-B-2023-32033',\n",
      "                       'texto': 'Quien desee examinar la documentación técnica '\n",
      "                                'del expediente de referencias MC-0019/2022 '\n",
      "                                '(INTEGRA AYE) VA, deberá remitir antes de la '\n",
      "                                'finalización de dicho plazo, una petición '\n",
      "                                'expresa a la Confederación Hidrográfica del '\n",
      "                                'Duero presentada a través del Registro '\n",
      "                                'Electrónico Común (REC). En el caso de '\n",
      "                                'personas físicas, podrán optar por presentar '\n",
      "                                'la solicitud directamente en el Registro de '\n",
      "                                'esta Confederación Hidrográfica, así como en '\n",
      "                                'el Registro de cualquier otro órgano '\n",
      "                                'administrativo y demás lugares previstos en '\n",
      "                                'el art. 16 de la Ley 39/2015, de 1de octubre, '\n",
      "                                'del Procedimiento Administrativo Común de las '\n",
      "                                'Administraciones Públicas. En el asunto se '\n",
      "                                'deberá indicar \"Solicitud acceso a la '\n",
      "                                'documentación en fase de información pública\" '\n",
      "                                'y la referencia del expediente en información '\n",
      "                                'pública a cuya documentación técnica se '\n",
      "                                'quiere acceder. En el cuerpo del texto deberá '\n",
      "                                'indicar su nombre y apellidos, DNI, dirección '\n",
      "                                'de notificación, correo electrónico y la '\n",
      "                                'forma preferente por la que quiera acceder a '\n",
      "                                'la documentación (presencial o en soporte '\n",
      "                                'electrónico). En caso de optarse por la vía '\n",
      "                                'presencial, el expediente podrá ser '\n",
      "                                'consultado previa cita en las oficinas de la '\n",
      "                                'Confederación Hidrográfica del Duero. De '\n",
      "                                'optarse por el acceso en soporte electrónico, '\n",
      "                                'a la dirección de correo electrónico indicada '\n",
      "                                'le llegará un aviso informándole de la puesta '\n",
      "                                'a disposición de la documentación en soporte '\n",
      "                                'electrónico en su carpeta ciudadano, a la que '\n",
      "                                'podrá acceder previa identificación para su '\n",
      "                                'consulta.'}},\n",
      "          {'_id': 'd-sUtIsBir71ATlvekw1',\n",
      "           '_ignored': ['texto.keyword'],\n",
      "           '_index': 'boe',\n",
      "           '_score': 1.0,\n",
      "           '_source': {'doc_id': 'BOE-B-2023-32033',\n",
      "                       'texto': 'Con la modificación solicitada a favor de los '\n",
      "                                'actuales titulares, se pretende trasladar la '\n",
      "                                'superficie de riego a otras parcelas, '\n",
      "                                'aumentándola hasta 50,55 ha (38,92 ha de '\n",
      "                                'viñedo y 11,63 ha de cultivos herbáceos). '\n",
      "                                'Todo ello manteniendo el caudal máximo '\n",
      "                                'instantáneo y el volumen máximo anual '\n",
      "                                'otorgados.'}},\n",
      "          {'_id': 'eOsUtIsBir71ATlvekxd',\n",
      "           '_index': 'boe',\n",
      "           '_score': 1.0,\n",
      "           '_source': {'doc_id': 'BOE-B-2023-32033',\n",
      "                       'texto': 'Las obras ya realizadas y descritas en la '\n",
      "                                'documentación presentada son las '\n",
      "                                'siguientes:'}}],\n",
      " 'max_score': 1.0,\n",
      " 'total': {'relation': 'eq', 'value': 13}}\n"
     ]
    }
   ],
   "source": [
    "params = {\n",
    "    \"index\": \"boe\",\n",
    "    \"query\": {\"match_all\": {}},\n",
    "    \"_source\": [\"doc_id\", \"text\"]\n",
    "}\n",
    "res = es_client.search(**params)\n",
    "pprint(res[\"hits\"])"
   ]
  },
  {
   "cell_type": "markdown",
   "metadata": {},
   "source": [
    "## Resultados semánticos con KNN"
   ]
  },
  {
   "cell_type": "code",
   "execution_count": 21,
   "metadata": {},
   "outputs": [
    {
     "name": "stdout",
     "output_type": "stream",
     "text": [
      "{'hits': [{'_id': 'fusUtIsBir71ATlve0xK',\n",
      "           '_index': 'boe',\n",
      "           '_score': 0.804345,\n",
      "           '_source': {'doc_id': 'BOE-B-2023-32033',\n",
      "                       'texto': '- Las aguas captadas se prevén tomar de la '\n",
      "                                'Masa de agua subterránea: Terciario Detrítico '\n",
      "                                'Bajo los Páramos (2º ciclo).'}},\n",
      "          {'_id': 'dusUtIsBir71ATlveUz6',\n",
      "           '_ignored': ['texto.keyword'],\n",
      "           '_index': 'boe',\n",
      "           '_score': 0.7206449,\n",
      "           '_source': {'doc_id': 'BOE-B-2023-32033',\n",
      "                       'texto': 'D. David Martín García (***4191**), en '\n",
      "                                'representación de la Comunidad de Regantes '\n",
      "                                'Finca Valijara (en formación), solicita de la '\n",
      "                                'Confederación Hidrográfica del Duero una '\n",
      "                                'modificación de características de concesión '\n",
      "                                'de un aprovechamiento de aguas subterráneas, '\n",
      "                                'otorgada a favor de D. Sebastián Martín '\n",
      "                                'Martín y D. David Martín García, expediente '\n",
      "                                'de referencia CP-22550-VA, con un caudal '\n",
      "                                'máximo instantáneo de 18 l/s, un volumen '\n",
      "                                'máximo anual de 47.700 m³ y con destino a '\n",
      "                                'riego de 30,82 ha, en el término municipal de '\n",
      "                                'Valbuena de Duero (Valladolid).'}}],\n",
      " 'max_score': 0.804345,\n",
      " 'total': {'relation': 'eq', 'value': 2}}\n"
     ]
    }
   ],
   "source": [
    "query_text = \"cantidad de agua tope\"\n",
    "knn_params = {\n",
    "    \"field\": \"embedding\",\n",
    "    \"query_vector\": model.encode(query_text),\n",
    "    \"k\": 2,\n",
    "    \"num_candidates\": 5,\n",
    "}\n",
    "params = {\n",
    "    \"index\": \"boe\",\n",
    "    \"knn\": knn_params,\n",
    "    \"_source\": [\"doc_id\", \"text\"]\n",
    "}\n",
    "res = es_client.search(**params)\n",
    "pprint(res[\"hits\"])"
   ]
  },
  {
   "cell_type": "markdown",
   "metadata": {},
   "source": [
    "## Combinado"
   ]
  },
  {
   "cell_type": "code",
   "execution_count": 23,
   "metadata": {},
   "outputs": [
    {
     "ename": "BadRequestError",
     "evalue": "BadRequestError(400, 'parsing_exception', 'unknown query [lexical_filter]')",
     "output_type": "error",
     "traceback": [
      "\u001b[0;31m---------------------------------------------------------------------------\u001b[0m",
      "\u001b[0;31mBadRequestError\u001b[0m                           Traceback (most recent call last)",
      "\u001b[1;32m/Users/pablomirallesgonzalez/Documents/masters-degree/Gestión de sistemas de datos masivos/hackathon/notebooks/workingexample_elasticsearch.ipynb Cell 10\u001b[0m line \u001b[0;36m2\n\u001b[1;32m      <a href='vscode-notebook-cell:/Users/pablomirallesgonzalez/Documents/masters-degree/Gestio%CC%81n%20de%20sistemas%20de%20datos%20masivos/hackathon/notebooks/workingexample_elasticsearch.ipynb#X21sZmlsZQ%3D%3D?line=7'>8</a>\u001b[0m knn_params \u001b[39m=\u001b[39m {\n\u001b[1;32m      <a href='vscode-notebook-cell:/Users/pablomirallesgonzalez/Documents/masters-degree/Gestio%CC%81n%20de%20sistemas%20de%20datos%20masivos/hackathon/notebooks/workingexample_elasticsearch.ipynb#X21sZmlsZQ%3D%3D?line=8'>9</a>\u001b[0m     \u001b[39m\"\u001b[39m\u001b[39mfield\u001b[39m\u001b[39m\"\u001b[39m: \u001b[39m\"\u001b[39m\u001b[39membedding\u001b[39m\u001b[39m\"\u001b[39m,\n\u001b[1;32m     <a href='vscode-notebook-cell:/Users/pablomirallesgonzalez/Documents/masters-degree/Gestio%CC%81n%20de%20sistemas%20de%20datos%20masivos/hackathon/notebooks/workingexample_elasticsearch.ipynb#X21sZmlsZQ%3D%3D?line=9'>10</a>\u001b[0m     \u001b[39m\"\u001b[39m\u001b[39mquery_vector\u001b[39m\u001b[39m\"\u001b[39m: model\u001b[39m.\u001b[39mencode(query_text),\n\u001b[1;32m     <a href='vscode-notebook-cell:/Users/pablomirallesgonzalez/Documents/masters-degree/Gestio%CC%81n%20de%20sistemas%20de%20datos%20masivos/hackathon/notebooks/workingexample_elasticsearch.ipynb#X21sZmlsZQ%3D%3D?line=10'>11</a>\u001b[0m     \u001b[39m\"\u001b[39m\u001b[39mk\u001b[39m\u001b[39m\"\u001b[39m: \u001b[39m2\u001b[39m,\n\u001b[1;32m     <a href='vscode-notebook-cell:/Users/pablomirallesgonzalez/Documents/masters-degree/Gestio%CC%81n%20de%20sistemas%20de%20datos%20masivos/hackathon/notebooks/workingexample_elasticsearch.ipynb#X21sZmlsZQ%3D%3D?line=11'>12</a>\u001b[0m     \u001b[39m\"\u001b[39m\u001b[39mnum_candidates\u001b[39m\u001b[39m\"\u001b[39m: \u001b[39m5\u001b[39m,\n\u001b[1;32m     <a href='vscode-notebook-cell:/Users/pablomirallesgonzalez/Documents/masters-degree/Gestio%CC%81n%20de%20sistemas%20de%20datos%20masivos/hackathon/notebooks/workingexample_elasticsearch.ipynb#X21sZmlsZQ%3D%3D?line=12'>13</a>\u001b[0m }\n\u001b[1;32m     <a href='vscode-notebook-cell:/Users/pablomirallesgonzalez/Documents/masters-degree/Gestio%CC%81n%20de%20sistemas%20de%20datos%20masivos/hackathon/notebooks/workingexample_elasticsearch.ipynb#X21sZmlsZQ%3D%3D?line=13'>14</a>\u001b[0m params \u001b[39m=\u001b[39m {\n\u001b[1;32m     <a href='vscode-notebook-cell:/Users/pablomirallesgonzalez/Documents/masters-degree/Gestio%CC%81n%20de%20sistemas%20de%20datos%20masivos/hackathon/notebooks/workingexample_elasticsearch.ipynb#X21sZmlsZQ%3D%3D?line=14'>15</a>\u001b[0m     \u001b[39m\"\u001b[39m\u001b[39mindex\u001b[39m\u001b[39m\"\u001b[39m: \u001b[39m\"\u001b[39m\u001b[39mboe\u001b[39m\u001b[39m\"\u001b[39m,\n\u001b[1;32m     <a href='vscode-notebook-cell:/Users/pablomirallesgonzalez/Documents/masters-degree/Gestio%CC%81n%20de%20sistemas%20de%20datos%20masivos/hackathon/notebooks/workingexample_elasticsearch.ipynb#X21sZmlsZQ%3D%3D?line=15'>16</a>\u001b[0m     \u001b[39m\"\u001b[39m\u001b[39mquery\u001b[39m\u001b[39m\"\u001b[39m: query_params,\n\u001b[1;32m     <a href='vscode-notebook-cell:/Users/pablomirallesgonzalez/Documents/masters-degree/Gestio%CC%81n%20de%20sistemas%20de%20datos%20masivos/hackathon/notebooks/workingexample_elasticsearch.ipynb#X21sZmlsZQ%3D%3D?line=16'>17</a>\u001b[0m     \u001b[39m\"\u001b[39m\u001b[39mknn\u001b[39m\u001b[39m\"\u001b[39m: knn_params,\n\u001b[1;32m     <a href='vscode-notebook-cell:/Users/pablomirallesgonzalez/Documents/masters-degree/Gestio%CC%81n%20de%20sistemas%20de%20datos%20masivos/hackathon/notebooks/workingexample_elasticsearch.ipynb#X21sZmlsZQ%3D%3D?line=17'>18</a>\u001b[0m     \u001b[39m\"\u001b[39m\u001b[39m_source\u001b[39m\u001b[39m\"\u001b[39m: [\u001b[39m\"\u001b[39m\u001b[39mdoc_id\u001b[39m\u001b[39m\"\u001b[39m, \u001b[39m\"\u001b[39m\u001b[39mtexto\u001b[39m\u001b[39m\"\u001b[39m]\n\u001b[1;32m     <a href='vscode-notebook-cell:/Users/pablomirallesgonzalez/Documents/masters-degree/Gestio%CC%81n%20de%20sistemas%20de%20datos%20masivos/hackathon/notebooks/workingexample_elasticsearch.ipynb#X21sZmlsZQ%3D%3D?line=18'>19</a>\u001b[0m }\n\u001b[0;32m---> <a href='vscode-notebook-cell:/Users/pablomirallesgonzalez/Documents/masters-degree/Gestio%CC%81n%20de%20sistemas%20de%20datos%20masivos/hackathon/notebooks/workingexample_elasticsearch.ipynb#X21sZmlsZQ%3D%3D?line=19'>20</a>\u001b[0m res \u001b[39m=\u001b[39m es_client\u001b[39m.\u001b[39msearch(\u001b[39m*\u001b[39m\u001b[39m*\u001b[39mparams)\n\u001b[1;32m     <a href='vscode-notebook-cell:/Users/pablomirallesgonzalez/Documents/masters-degree/Gestio%CC%81n%20de%20sistemas%20de%20datos%20masivos/hackathon/notebooks/workingexample_elasticsearch.ipynb#X21sZmlsZQ%3D%3D?line=20'>21</a>\u001b[0m pprint(res[\u001b[39m\"\u001b[39m\u001b[39mhits\u001b[39m\u001b[39m\"\u001b[39m])\n",
      "File \u001b[0;32m~/.micromamba/envs/master-gesbd/lib/python3.11/site-packages/elasticsearch/_sync/client/utils.py:402\u001b[0m, in \u001b[0;36m_rewrite_parameters.<locals>.wrapper.<locals>.wrapped\u001b[0;34m(*args, **kwargs)\u001b[0m\n\u001b[1;32m    399\u001b[0m         \u001b[39mexcept\u001b[39;00m \u001b[39mKeyError\u001b[39;00m:\n\u001b[1;32m    400\u001b[0m             \u001b[39mpass\u001b[39;00m\n\u001b[0;32m--> 402\u001b[0m \u001b[39mreturn\u001b[39;00m api(\u001b[39m*\u001b[39margs, \u001b[39m*\u001b[39m\u001b[39m*\u001b[39mkwargs)\n",
      "File \u001b[0;32m~/.micromamba/envs/master-gesbd/lib/python3.11/site-packages/elasticsearch/_sync/client/__init__.py:3673\u001b[0m, in \u001b[0;36mElasticsearch.search\u001b[0;34m(self, index, aggregations, aggs, allow_no_indices, allow_partial_search_results, analyze_wildcard, analyzer, batched_reduce_size, ccs_minimize_roundtrips, collapse, default_operator, df, docvalue_fields, error_trace, expand_wildcards, explain, ext, fields, filter_path, from_, highlight, human, ignore_throttled, ignore_unavailable, indices_boost, knn, lenient, max_concurrent_shard_requests, min_compatible_shard_node, min_score, pit, post_filter, pre_filter_shard_size, preference, pretty, profile, q, query, rank, request_cache, rescore, rest_total_hits_as_int, routing, runtime_mappings, script_fields, scroll, search_after, search_type, seq_no_primary_term, size, slice, sort, source, source_excludes, source_includes, stats, stored_fields, suggest, suggest_field, suggest_mode, suggest_size, suggest_text, terminate_after, timeout, track_scores, track_total_hits, typed_keys, version)\u001b[0m\n\u001b[1;32m   3671\u001b[0m \u001b[39mif\u001b[39;00m __body \u001b[39mis\u001b[39;00m \u001b[39mnot\u001b[39;00m \u001b[39mNone\u001b[39;00m:\n\u001b[1;32m   3672\u001b[0m     __headers[\u001b[39m\"\u001b[39m\u001b[39mcontent-type\u001b[39m\u001b[39m\"\u001b[39m] \u001b[39m=\u001b[39m \u001b[39m\"\u001b[39m\u001b[39mapplication/json\u001b[39m\u001b[39m\"\u001b[39m\n\u001b[0;32m-> 3673\u001b[0m \u001b[39mreturn\u001b[39;00m \u001b[39mself\u001b[39m\u001b[39m.\u001b[39mperform_request(  \u001b[39m# type: ignore[return-value]\u001b[39;00m\n\u001b[1;32m   3674\u001b[0m     \u001b[39m\"\u001b[39m\u001b[39mPOST\u001b[39m\u001b[39m\"\u001b[39m, __path, params\u001b[39m=\u001b[39m__query, headers\u001b[39m=\u001b[39m__headers, body\u001b[39m=\u001b[39m__body\n\u001b[1;32m   3675\u001b[0m )\n",
      "File \u001b[0;32m~/.micromamba/envs/master-gesbd/lib/python3.11/site-packages/elasticsearch/_sync/client/_base.py:320\u001b[0m, in \u001b[0;36mBaseClient.perform_request\u001b[0;34m(self, method, path, params, headers, body)\u001b[0m\n\u001b[1;32m    317\u001b[0m         \u001b[39mexcept\u001b[39;00m (\u001b[39mValueError\u001b[39;00m, \u001b[39mKeyError\u001b[39;00m, \u001b[39mTypeError\u001b[39;00m):\n\u001b[1;32m    318\u001b[0m             \u001b[39mpass\u001b[39;00m\n\u001b[0;32m--> 320\u001b[0m     \u001b[39mraise\u001b[39;00m HTTP_EXCEPTIONS\u001b[39m.\u001b[39mget(meta\u001b[39m.\u001b[39mstatus, ApiError)(\n\u001b[1;32m    321\u001b[0m         message\u001b[39m=\u001b[39mmessage, meta\u001b[39m=\u001b[39mmeta, body\u001b[39m=\u001b[39mresp_body\n\u001b[1;32m    322\u001b[0m     )\n\u001b[1;32m    324\u001b[0m \u001b[39m# 'X-Elastic-Product: Elasticsearch' should be on every 2XX response.\u001b[39;00m\n\u001b[1;32m    325\u001b[0m \u001b[39mif\u001b[39;00m \u001b[39mnot\u001b[39;00m \u001b[39mself\u001b[39m\u001b[39m.\u001b[39m_verified_elasticsearch:\n\u001b[1;32m    326\u001b[0m     \u001b[39m# If the header is set we mark the server as verified.\u001b[39;00m\n",
      "\u001b[0;31mBadRequestError\u001b[0m: BadRequestError(400, 'parsing_exception', 'unknown query [lexical_filter]')"
     ]
    }
   ],
   "source": [
    "query_text = \"cantidad de agua tope\"\n",
    "query_params = {\n",
    "    \"lexical_filter\": {\n",
    "        \"fields\": \"text\",\n",
    "        \"query\": \"expediente\",\n",
    "    }\n",
    "}\n",
    "knn_params = {\n",
    "    \"field\": \"embedding\",\n",
    "    \"query_vector\": model.encode(query_text),\n",
    "    \"k\": 2,\n",
    "    \"num_candidates\": 5,\n",
    "}\n",
    "params = {\n",
    "    \"index\": \"boe\",\n",
    "    \"query\": query_params,\n",
    "    \"knn\": knn_params,\n",
    "    \"_source\": [\"doc_id\", \"text\"]\n",
    "}\n",
    "res = es_client.search(**params)\n",
    "pprint(res[\"hits\"])"
   ]
  },
  {
   "cell_type": "code",
   "execution_count": null,
   "metadata": {},
   "outputs": [],
   "source": []
  }
 ],
 "metadata": {
  "kernelspec": {
   "display_name": "Python 3",
   "language": "python",
   "name": "python3"
  },
  "language_info": {
   "codemirror_mode": {
    "name": "ipython",
    "version": 3
   },
   "file_extension": ".py",
   "mimetype": "text/x-python",
   "name": "python",
   "nbconvert_exporter": "python",
   "pygments_lexer": "ipython3",
   "version": "3.11.5"
  }
 },
 "nbformat": 4,
 "nbformat_minor": 2
}
