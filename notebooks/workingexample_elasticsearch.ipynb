{
 "cells": [
  {
   "cell_type": "code",
   "execution_count": 10,
   "metadata": {},
   "outputs": [],
   "source": [
    "from elasticsearch import Elasticsearch\n",
    "from sentence_transformers import SentenceTransformer\n",
    "from dotenv import dotenv_values\n",
    "from pprint import pprint"
   ]
  },
  {
   "cell_type": "code",
   "execution_count": 6,
   "metadata": {},
   "outputs": [],
   "source": [
    "env_config = dotenv_values(\"../environment/.env\")"
   ]
  },
  {
   "cell_type": "code",
   "execution_count": 8,
   "metadata": {},
   "outputs": [],
   "source": [
    "es_client = Elasticsearch(f\"http://{env_config['ELASTICSEARCH_HOST']}:{env_config['ELASTICSEARCH_PORT']}\")"
   ]
  },
  {
   "cell_type": "code",
   "execution_count": 9,
   "metadata": {},
   "outputs": [],
   "source": [
    "model = SentenceTransformer(env_config[\"SENTENCE_TRANSFORMER_MODEL\"])"
   ]
  },
  {
   "cell_type": "markdown",
   "metadata": {},
   "source": [
    "## Todos los resultados"
   ]
  },
  {
   "cell_type": "code",
   "execution_count": 39,
   "metadata": {},
   "outputs": [
    {
     "name": "stdout",
     "output_type": "stream",
     "text": [
      "{'hits': [], 'max_score': None, 'total': {'relation': 'eq', 'value': 0}}\n"
     ]
    }
   ],
   "source": [
    "params = {\n",
    "    \"index\": \"boe\",\n",
    "    \"query\": {\"match_all\": {}},\n",
    "    \"_source\": [\"doc_id\", \"text\"]\n",
    "}\n",
    "res = es_client.search(**params)\n",
    "pprint(res[\"hits\"])"
   ]
  },
  {
   "cell_type": "markdown",
   "metadata": {},
   "source": [
    "## Resultados semánticos con KNN"
   ]
  },
  {
   "cell_type": "code",
   "execution_count": 40,
   "metadata": {},
   "outputs": [
    {
     "name": "stdout",
     "output_type": "stream",
     "text": [
      "{'hits': [], 'max_score': None, 'total': {'relation': 'eq', 'value': 0}}\n"
     ]
    }
   ],
   "source": [
    "query_text = \"cantidad de agua tope\"\n",
    "knn_params = {\n",
    "    \"field\": \"embedding\",\n",
    "    \"query_vector\": model.encode(query_text),\n",
    "    \"k\": 2,\n",
    "    \"num_candidates\": 5,\n",
    "}\n",
    "params = {\n",
    "    \"index\": \"boe\",\n",
    "    \"knn\": knn_params,\n",
    "    \"_source\": [\"doc_id\", \"text\"]\n",
    "}\n",
    "res = es_client.search(**params)\n",
    "pprint(res[\"hits\"])"
   ]
  },
  {
   "cell_type": "markdown",
   "metadata": {},
   "source": [
    "## Combinado"
   ]
  },
  {
   "cell_type": "code",
   "execution_count": 47,
   "metadata": {},
   "outputs": [
    {
     "name": "stdout",
     "output_type": "stream",
     "text": [
      "{'hits': [{'_id': '-OvttIsBir71ATlvNXOF',\n",
      "           '_index': 'boe',\n",
      "           '_score': 0.62262243,\n",
      "           '_source': {'doc_id': 'BOE-A-2023-22766',\n",
      "                       'text': '4.ª\\u2003El folleto deberá declarar '\n",
      "                               'expresamente aquellos casos en los que el '\n",
      "                               'valor liquidativo de la IIC pueda presentar '\n",
      "                               'una alta volatilidad debido a la composición '\n",
      "                               'de su cartera o a las técnicas empleadas de '\n",
      "                               'gestión de carteras.'}},\n",
      "          {'_id': 'C-vttIsBir71ATlvN3T3',\n",
      "           '_index': 'boe',\n",
      "           '_score': 0.5943013,\n",
      "           '_source': {'doc_id': 'BOE-A-2023-22766',\n",
      "                       'text': 'Los informes semestral y, en su caso, '\n",
      "                               'trimestral deberán contener información sobre '\n",
      "                               'los aspectos indicados en el artículo '\n",
      "                               'anterior, de acuerdo con los modelos '\n",
      "                               'normalizados a los que se refiere el '\n",
      "                               'artículo\\xa017.7 de la Ley\\xa035/2003, de\\xa04 '\n",
      "                               'de noviembre, salvo en lo que respecta al '\n",
      "                               'detalle de la composición de la cartera que, '\n",
      "                               'respecto de un máximo del\\xa030 por cien de '\n",
      "                               'los activos, podrá facilitarse de modo '\n",
      "                               'agregado o por categoría. La CNMV establecerá '\n",
      "                               'la forma y el plazo para la remisión del '\n",
      "                               'informe semestral y trimestral. En caso de '\n",
      "                               'publicar los informes trimestrales, éstos '\n",
      "                               'deberán cumplir los mismos requisitos que para '\n",
      "                               'la información semestral.»'}},\n",
      "          {'_id': 'JuvstIsBir71ATlvi241',\n",
      "           '_index': 'boe',\n",
      "           '_score': 0.58749235,\n",
      "           '_source': {'doc_id': 'BOE-A-2023-22764',\n",
      "                       'text': 'c)\\u2003La composición de los órganos '\n",
      "                               'colegiados de la sociedad.'}},\n",
      "          {'_id': 'MOvstIsBir71ATlv6XHA',\n",
      "           '_index': 'boe',\n",
      "           '_score': 0.58334243,\n",
      "           '_source': {'doc_id': 'BOE-A-2023-22767',\n",
      "                       'text': 'El órgano competente, basándose en los '\n",
      "                               'resultados obtenidos en el entorno, publicará '\n",
      "                               'en su portal web el informe con las '\n",
      "                               'conclusiones sobre el desarrollo, buenas '\n",
      "                               'prácticas, y recomendaciones al mismo, así '\n",
      "                               'como otros aspectos de interés de la '\n",
      "                               'aplicación experimental de la propuesta del '\n",
      "                               'Reglamento de la Unión Europea sobre la '\n",
      "                               'inteligencia artificial en el entorno. Estos '\n",
      "                               'podrán contribuir, según proceda, a los '\n",
      "                               'trabajos en curso sobre normalización y otras '\n",
      "                               'acciones preparatorias a escala de la Unión '\n",
      "                               'Europea en apoyo a la aplicación la propuesta '\n",
      "                               'del Reglamento por el que se establecen normas '\n",
      "                               'armonizadas sobre inteligencia artificial.'}},\n",
      "          {'_id': 'GevstIsBir71ATlv53EP',\n",
      "           '_index': 'boe',\n",
      "           '_score': 0.5803549,\n",
      "           '_source': {'doc_id': 'BOE-A-2023-22767',\n",
      "                       'text': '6.\\u2003El órgano competente, si así lo '\n",
      "                               'considera conveniente para el resultado del '\n",
      "                               'entorno, podrá cubrir mediante resolución la '\n",
      "                               'posición liberada por la finalización '\n",
      "                               'anticipada de las pruebas con la siguiente '\n",
      "                               'entidad que hubiera solicitado la '\n",
      "                               'participación de acuerdo con lo dispuesto en '\n",
      "                               'la convocatoria.'}},\n",
      "          {'_id': 'X-vttIsBir71ATlv3XkE',\n",
      "           '_index': 'boe',\n",
      "           '_score': 0.57910967,\n",
      "           '_source': {'doc_id': 'BOE-A-2023-22763',\n",
      "                       'text': 'b)\\u2003Determinar, junto con el órgano de '\n",
      "                               'administración, la naturaleza, la cantidad, el '\n",
      "                               'formato y la frecuencia de la información '\n",
      "                               'sobre riesgos que deba recibir el propio '\n",
      "                               'comité y el órgano de administración.'}},\n",
      "          {'_id': '4uvttIsBir71ATlvp3fn',\n",
      "           '_index': 'boe',\n",
      "           '_score': 0.578087,\n",
      "           '_source': {'doc_id': 'BOE-A-2023-22763',\n",
      "                       'text': '1.\\u2003Para valorar la capacidad de los '\n",
      "                               'miembros del órgano de administración de '\n",
      "                               'ejercer un buen gobierno de la empresa, '\n",
      "                               'conforme a lo exigido por el artículo\\xa0'\n",
      "                               '164.1.d)\\xa0de la Ley\\xa06/2023, de\\xa017 de '\n",
      "                               'marzo, se tendrá en cuenta:'}},\n",
      "          {'_id': 'duvstIsBir71ATlvdW3L',\n",
      "           '_index': 'boe',\n",
      "           '_score': 0.57717323,\n",
      "           '_source': {'doc_id': 'BOE-A-2023-22764',\n",
      "                       'text': '1.\\xa0La responsabilidad por la elaboración de '\n",
      "                               'la información pública a la que se refieren '\n",
      "                               'los artículos\\xa069.2 y\\xa071 de la Ley\\xa0'\n",
      "                               '6/2023, de\\xa017 de marzo, relativa a los '\n",
      "                               'emisores de los instrumentos negociados deberá '\n",
      "                               'recaer, al menos, sobre el emisor y los '\n",
      "                               'miembros de su órgano de administración, '\n",
      "                               'quienes serán responsables de todos los daños '\n",
      "                               'y perjuicios que hubiesen ocasionado a los '\n",
      "                               'titulares de los instrumentos financieros, '\n",
      "                               'conforme a la legislación mercantil aplicable '\n",
      "                               'a dicho emisor, como consecuencia de que la '\n",
      "                               'información no proporcione una imagen fiel del '\n",
      "                               'emisor.'}},\n",
      "          {'_id': 'RevttIsBir71ATlvPnR1',\n",
      "           '_index': 'boe',\n",
      "           '_score': 0.5763507,\n",
      "           '_source': {'doc_id': 'BOE-A-2023-22766',\n",
      "                       'text': 'c)\\u2003Una descripción de la organización '\n",
      "                               'administrativa y contable, de los medios '\n",
      "                               'técnicos y humanos adecuados a su programa de '\n",
      "                               'actividades, de los procedimientos de control '\n",
      "                               'interno y de acceso y salvaguardia de los '\n",
      "                               'sistemas informáticos, así como de los '\n",
      "                               'procedimientos y órganos adecuados de control '\n",
      "                               'interno y de comunicación para prevenir e '\n",
      "                               'impedir la realización de operaciones '\n",
      "                               'relacionadas con el blanqueo de capitales en '\n",
      "                               'las condiciones establecidas en capítulo II '\n",
      "                               'del reglamento de la Ley\\xa010/2010, de\\xa028 '\n",
      "                               'de abril, de prevención del blanqueo de '\n",
      "                               'capitales y de la financiación del terrorismo, '\n",
      "                               'aprobado por el Real Decreto\\xa0304/2014, '\n",
      "                               'de\\xa05 de mayo, por el que se aprueba el '\n",
      "                               'Reglamento de la Ley\\xa010/2010, de\\xa028 de '\n",
      "                               'abril, de prevención del blanqueo de capitales '\n",
      "                               'y de la financiación del terrorismo. La '\n",
      "                               'descripción irá acompañada, cuando fuera '\n",
      "                               'necesario, del correspondiente informe '\n",
      "                               'elaborado por un experto independiente.'}},\n",
      "          {'_id': '-uvstIsBir71ATlv43Bd',\n",
      "           '_index': 'boe',\n",
      "           '_score': 0.57335544,\n",
      "           '_source': {'doc_id': 'BOE-A-2023-22767',\n",
      "                       'text': '2.\\u2003Adicionalmente, la Subdirección '\n",
      "                               'General de Inteligencia Artificial y '\n",
      "                               'Tecnologías Habilitadoras Digitales podrá '\n",
      "                               'requerir otra información durante el '\n",
      "                               'transcurso del entorno, tanto a los '\n",
      "                               'proveedores IA participantes como a los '\n",
      "                               'usuarios participantes, con el fin de reunir '\n",
      "                               'datos de interés para la elaboración de '\n",
      "                               'documentación o conclusiones del entorno. El '\n",
      "                               'órgano competente podrá requerir la '\n",
      "                               'realización de pruebas específicas a fin de '\n",
      "                               'verificar la validez de las conclusiones.'}}],\n",
      " 'max_score': 0.62262243,\n",
      " 'total': {'relation': 'eq', 'value': 10}}\n"
     ]
    }
   ],
   "source": [
    "query_text = \"cantidad de agua tope\"\n",
    "knn_params = {\n",
    "    \"field\": \"embedding\",\n",
    "    \"query_vector\": model.encode(query_text),\n",
    "    \"k\": 10,\n",
    "    \"num_candidates\": 10,\n",
    "    \"filter\": {\n",
    "        \"match\": {\n",
    "            \"text\": \"órgano composición\",\n",
    "        },\n",
    "    },\n",
    "}\n",
    "params = {\n",
    "    \"index\": \"boe\",\n",
    "    \"knn\": knn_params,\n",
    "    \"_source\": [\"doc_id\", \"text\"]\n",
    "}\n",
    "res = es_client.search(**params)\n",
    "pprint(res[\"hits\"])"
   ]
  },
  {
   "cell_type": "code",
   "execution_count": null,
   "metadata": {},
   "outputs": [],
   "source": []
  }
 ],
 "metadata": {
  "kernelspec": {
   "display_name": "Python 3",
   "language": "python",
   "name": "python3"
  },
  "language_info": {
   "codemirror_mode": {
    "name": "ipython",
    "version": 3
   },
   "file_extension": ".py",
   "mimetype": "text/x-python",
   "name": "python",
   "nbconvert_exporter": "python",
   "pygments_lexer": "ipython3",
   "version": "3.11.5"
  }
 },
 "nbformat": 4,
 "nbformat_minor": 2
}
