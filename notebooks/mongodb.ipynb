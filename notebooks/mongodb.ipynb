{
 "cells": [
  {
   "cell_type": "code",
   "execution_count": 21,
   "metadata": {},
   "outputs": [],
   "source": [
    "import os\n",
    "import pprint\n",
    "import pymongo\n",
    "\n",
    "from xml.etree import ElementTree as ET\n",
    "from datetime import datetime\n",
    "from dotenv import dotenv_values"
   ]
  },
  {
   "cell_type": "code",
   "execution_count": 22,
   "metadata": {},
   "outputs": [],
   "source": [
    "#load .env file to dict\n",
    "env_config = dotenv_values(\"../environment/.env\")\n",
    "\n",
    "client = pymongo.MongoClient(\n",
    "    host='localhost',\n",
    "    port=int(env_config['MONGODB_PORT']),\n",
    "    username=env_config['MONGO_USER'],\n",
    "    password=env_config['MONGO_PASSWORD'],\n",
    ")"
   ]
  },
  {
   "cell_type": "code",
   "execution_count": 23,
   "metadata": {},
   "outputs": [],
   "source": [
    "db = client[\"boe_db\"]"
   ]
  },
  {
   "cell_type": "code",
   "execution_count": 24,
   "metadata": {},
   "outputs": [],
   "source": [
    "# insert into collection\n",
    "collection = db[\"boe\"]"
   ]
  },
  {
   "cell_type": "code",
   "execution_count": 30,
   "metadata": {},
   "outputs": [
    {
     "data": {
      "text/plain": [
       "'id_index'"
      ]
     },
     "execution_count": 30,
     "metadata": {},
     "output_type": "execute_result"
    }
   ],
   "source": [
    "collection.create_index([(\"identificador\", pymongo.DESCENDING)], name=\"id_index\", unique=True)"
   ]
  },
  {
   "cell_type": "code",
   "execution_count": 27,
   "metadata": {},
   "outputs": [],
   "source": [
    "# read all files in downloads folder, recursively\n",
    "def read_xml_files(path):\n",
    "    for r, _, f in os.walk(path):\n",
    "        for file in f:\n",
    "            if '.xml' not in file or \"BOE\" not in file:\n",
    "                continue\n",
    "            yield os.path.join(r, file)\n",
    "\n",
    "METADATA_FIELDS = [\n",
    "    (\"identificador\", None),\n",
    "    (\"titulo\", None),\n",
    "    (\"departamento\", None),\n",
    "    (\"fecha_publicacion\", lambda x: datetime.strptime(x, \"%Y%m%d\")),\n",
    "    (\"origen_legislativo\", None),\n",
    "    (\"rango\", None),\n",
    "]\n",
    "\n",
    "def jsonify_boe_entry(xml):\n",
    "    entry_json = {}\n",
    "\n",
    "    # get metadata\n",
    "    metadata = xml.find(\"metadatos\")\n",
    "    for tag, parser in METADATA_FIELDS:\n",
    "        element = metadata.find(tag)\n",
    "        if element is None: continue\n",
    "        text = element.text\n",
    "        entry_json[tag] = parser(text) if parser is not None else text\n",
    "    \n",
    "    # get topics\n",
    "    entry_json[\"materias\"] = [topic.text for topic in xml.findall(\".//materia\")]\n",
    "\n",
    "    # get references\n",
    "    past_refs = []\n",
    "    for ref in xml.findall(\".//anterior\"):\n",
    "        past_refs.append({\n",
    "            \"identificador\": ref.get(\"referencia\"),\n",
    "            \"texto\": ref.find(\"texto\").text,\n",
    "        })\n",
    "    entry_json[\"anteriores\"] = past_refs\n",
    "\n",
    "    future_refs = []\n",
    "    for ref in xml.findall(\".//posterior\"):\n",
    "        future_refs.append({\n",
    "            \"identificador\": ref.get(\"referencia\"),\n",
    "            \"texto\": ref.find(\"texto\").text,\n",
    "        })\n",
    "    entry_json[\"posteriores\"] = future_refs\n",
    "\n",
    "    # get XML text\n",
    "    xml_text = xml.find(\"texto\")\n",
    "    html_text = ET.tostring(xml_text, encoding='utf8', method=\"html\").decode('utf8')\n",
    "    html_text = \"\\n\".join(html_text.split(\"\\n\")[1:-1])\n",
    "    entry_json[\"texto\"] = html_text\n",
    "\n",
    "    return entry_json"
   ]
  },
  {
   "cell_type": "code",
   "execution_count": 28,
   "metadata": {},
   "outputs": [],
   "source": [
    "for filepath in read_xml_files(\"../downloads/\"):\n",
    "    # read file\n",
    "    xml = ET.parse(filepath)\n",
    "    entry_json = jsonify_boe_entry(xml)\n",
    "    collection.insert_one(entry_json)\n",
    "    "
   ]
  },
  {
   "cell_type": "code",
   "execution_count": null,
   "metadata": {},
   "outputs": [],
   "source": []
  }
 ],
 "metadata": {
  "kernelspec": {
   "display_name": "Python 3",
   "language": "python",
   "name": "python3"
  },
  "language_info": {
   "codemirror_mode": {
    "name": "ipython",
    "version": 3
   },
   "file_extension": ".py",
   "mimetype": "text/x-python",
   "name": "python",
   "nbconvert_exporter": "python",
   "pygments_lexer": "ipython3",
   "version": "3.11.5"
  }
 },
 "nbformat": 4,
 "nbformat_minor": 2
}
