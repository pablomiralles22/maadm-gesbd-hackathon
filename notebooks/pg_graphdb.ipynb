{
 "cells": [
  {
   "cell_type": "code",
   "execution_count": 22,
   "metadata": {},
   "outputs": [],
   "source": [
    "import os\n",
    "import re\n",
    "import pprint\n",
    "import pymongo\n",
    "\n",
    "from xml.etree import ElementTree as ET\n",
    "from datetime import datetime\n",
    "from dotenv import dotenv_values\n",
    "from SPARQLWrapper import SPARQLWrapper, POST, URLENCODED, DIGEST, JSON"
   ]
  },
  {
   "cell_type": "code",
   "execution_count": 90,
   "metadata": {},
   "outputs": [],
   "source": [
    "env_config = dotenv_values(\"../environment/.env\")\n",
    "\n",
    "mongo_client = pymongo.MongoClient(\n",
    "    host=env_config['MONGODB_HOST'],\n",
    "    port=int(env_config['MONGODB_PORT']),\n",
    "    username=env_config['MONGO_USER'],\n",
    "    password=env_config['MONGO_PASSWORD'],\n",
    ")\n",
    "mongo_collection = mongo_client[\"boe_db\"][\"boe\"]"
   ]
  },
  {
   "cell_type": "markdown",
   "metadata": {},
   "source": [
    "## Investigando las relaciones \"anterior\" y \"posterior\""
   ]
  },
  {
   "cell_type": "code",
   "execution_count": 13,
   "metadata": {},
   "outputs": [
    {
     "name": "stdout",
     "output_type": "stream",
     "text": [
      "{'201': 'CORRECCIÓN de errores',\n",
      " '202': 'CORRECCIÓN de erratas',\n",
      " '203': 'CORRIGE errores',\n",
      " '210': 'DEROGA',\n",
      " '230': 'DEJA SIN EFECTO',\n",
      " '231': 'SUSPENDE',\n",
      " '247': 'ENMIENDAS',\n",
      " '270': 'MODIFICA',\n",
      " '300': 'PUBLICA',\n",
      " '330': 'CITA',\n",
      " '331': 'EN RELACIÓN con',\n",
      " '401': 'PRORROGA',\n",
      " '404': 'ACTUALIZA',\n",
      " '406': 'AMPLÍA',\n",
      " '407': 'AÑADE',\n",
      " '420': 'APRUEBA',\n",
      " '426': 'TRANSPONE',\n",
      " '440': 'DE CONFORMIDAD con',\n",
      " '470': 'DECLARA',\n",
      " '490': 'DESARROLLA',\n",
      " '552': 'Recurso promovido contra',\n",
      " '693': 'DICTADA'}\n"
     ]
    }
   ],
   "source": [
    "anteriores = dict()\n",
    "## get all from collection with a \"materias\" field of more than 1 element\n",
    "for item in mongo_collection.find({\"anteriores\": {\"$exists\": True, \"$not\": {\"$size\": 0}}}):\n",
    "    for anterior in item[\"anteriores\"]:\n",
    "        relacion = anterior[\"relacion\"]\n",
    "        anteriores[relacion[\"codigo\"]] = relacion[\"texto\"]\n",
    "pprint.pprint(anteriores)"
   ]
  },
  {
   "cell_type": "code",
   "execution_count": 14,
   "metadata": {},
   "outputs": [
    {
     "name": "stdout",
     "output_type": "stream",
     "text": [
      "{'201': 'CORRECCIÓN de errores',\n",
      " '202': 'CORRECCIÓN de erratas',\n",
      " '203': 'SE CORRIGEN errores',\n",
      " '230': 'SE DEJA SIN EFECTO',\n",
      " '270': 'SE MODIFICA',\n",
      " '300': 'SE PUBLICA',\n",
      " '301': 'SE PUBLICA  Acuerdo de convalidación',\n",
      " '406': 'SE AMPLÍA',\n",
      " '420': 'SE APRUEBA'}\n"
     ]
    }
   ],
   "source": [
    "posteriores = dict()\n",
    "## get all from collection with a \"materias\" field of more than 1 element\n",
    "for item in mongo_collection.find({\"posteriores\": {\"$exists\": True, \"$not\": {\"$size\": 0}}}):\n",
    "    for anterior in item[\"posteriores\"]:\n",
    "        relacion = anterior[\"relacion\"]\n",
    "        posteriores[relacion[\"codigo\"]] = relacion[\"texto\"]\n",
    "pprint.pprint(posteriores)"
   ]
  },
  {
   "cell_type": "markdown",
   "metadata": {},
   "source": [
    "## Programando inserciones"
   ]
  },
  {
   "cell_type": "code",
   "execution_count": 3,
   "metadata": {},
   "outputs": [],
   "source": [
    "PREFIXES = \"\"\"\n",
    "PREFIX  :     <http://www.semanticweb.org/hackathon/ontology/>\n",
    "PREFIX  owl:  <http://www.w3.org/2002/07/owl#>\n",
    "PREFIX  rdf:  <http://www.w3.org/1999/02/22-rdf-syntax-ns#>\n",
    "PREFIX  xml:  <http://www.w3.org/XML/1998/namespace>\n",
    "PREFIX  xsd:  <http://www.w3.org/2001/XMLSchema#>\n",
    "PREFIX  rdfs: <http://www.w3.org/2000/01/rdf-schema#>\n",
    "PREFIX  dbpedia: <http://dbpedia.org/ontology/>\n",
    "\"\"\""
   ]
  },
  {
   "cell_type": "code",
   "execution_count": 23,
   "metadata": {},
   "outputs": [],
   "source": [
    "semantic_tuple = lambda subject, predicate, object: f\"{subject} {predicate} {object} .\""
   ]
  },
  {
   "cell_type": "code",
   "execution_count": 92,
   "metadata": {},
   "outputs": [],
   "source": [
    "# Set up the SPARQL connection to GraphDB\n",
    "sparql = SPARQLWrapper(\n",
    "    f\"http://{env_config['GRAPHDB_HOST']}:{env_config['GRAPHDB_PORT']}\"\n",
    "    f\"/repositories/{env_config['GRAPHDB_REPOSITORY']}/statements\"\n",
    ")\n",
    "sparql.setMethod(POST)"
   ]
  },
  {
   "cell_type": "code",
   "execution_count": 30,
   "metadata": {},
   "outputs": [],
   "source": [
    "def to_title_case(s):\n",
    "    return re.sub(r\"\\s+\", \"\", s.title())\n",
    "\n",
    "def to_camel_case(s):\n",
    "    title_case = to_title_case(s)\n",
    "    return title_case[0].lower() + title_case[1:]"
   ]
  },
  {
   "cell_type": "code",
   "execution_count": 45,
   "metadata": {},
   "outputs": [],
   "source": [
    "def insert_tuples(tuples):\n",
    "    tuple_lines = \"\\n\".join(tuples)\n",
    "    query = PREFIXES + \"INSERT DATA {\\n\" + tuple_lines + \"\\n}\"\n",
    "    sparql.setQuery(query=query)\n",
    "    return sparql.query()"
   ]
  },
  {
   "cell_type": "code",
   "execution_count": 62,
   "metadata": {},
   "outputs": [],
   "source": [
    "def create_range(name, code):\n",
    "    entity_name = to_title_case(name)\n",
    "    tuples = [\n",
    "        semantic_tuple(f\":{entity_name}\", \"rdf:type\", \":owl:NamedIndividual\"),\n",
    "        semantic_tuple(f\":{entity_name}\", \"rdf:type\", \":RangoLegislativo\"),\n",
    "        semantic_tuple(f\":{entity_name}\", \":nombre\", '\"{name}\"^^xsd:string'),\n",
    "        semantic_tuple(f\":{entity_name}\", \":codigo\", f'\"{code}\"^^xsd:integer'),\n",
    "    ]\n",
    "    return entity_name, tuples"
   ]
  },
  {
   "cell_type": "code",
   "execution_count": 55,
   "metadata": {},
   "outputs": [
    {
     "data": {
      "text/plain": [
       "[':OtroRango rdf:type :owl:NamedIndividual .',\n",
       " ':OtroRango rdf:type :RangoLegislativo .',\n",
       " ':OtroRango :nombre \"{name}\"^^xsd:string .',\n",
       " ':OtroRango :codigo \"-2\"^^xsd:integer .']"
      ]
     },
     "execution_count": 55,
     "metadata": {},
     "output_type": "execute_result"
    }
   ],
   "source": [
    "create_range(\"Otro rango\", -2)"
   ]
  },
  {
   "cell_type": "markdown",
   "metadata": {},
   "source": [
    "**Insertar relación anterior o posterior**\n",
    "```\n",
    ":corrigeErrores rdf:type owl:ObjectProperty ;\n",
    "                rdfs:domain :EntradaBOE ;\n",
    "                rdfs:range :EntradaBOE .\n",
    "\n",
    ":corrigeErrores rdf:type owl:NamedIndividual ,\n",
    "                         :RelacionAnterior ;\n",
    "                :codigo 203 ;\n",
    "                :nombre \"CORRIGE errores\" .\n",
    "```"
   ]
  },
  {
   "cell_type": "code",
   "execution_count": 63,
   "metadata": {},
   "outputs": [],
   "source": [
    "def create_relationship_type(name, code, is_previous):\n",
    "    entity_name = to_camel_case(name)\n",
    "    tuples = [\n",
    "        semantic_tuple(f\":{entity_name}\", \"rdf:type\", \"owl:ObjectProperty\"),\n",
    "        semantic_tuple(f\":{entity_name}\", \"rdfs:domain\", \":EntradaBOE\"),\n",
    "        semantic_tuple(f\":{entity_name}\", \"rdfs:range\", \":EntradaBOE\"),\n",
    "        semantic_tuple(f\":{entity_name}\", \"rdf:type\", \"owl:NamedIndividual\"),\n",
    "        semantic_tuple(f\":{entity_name}\", \"rdf:type\", \":RelacionAnterior\" if is_previous else \":RelacionPosterior\"),\n",
    "        semantic_tuple(f\":{entity_name}\", \":codigo\", f'\"{code}\"^^xsd:integer'),\n",
    "        semantic_tuple(f\":{entity_name}\", \":nombre\", f'\"{name}\"^^xsd:string'),\n",
    "    ]\n",
    "    return entity_name, tuples"
   ]
  },
  {
   "cell_type": "code",
   "execution_count": 64,
   "metadata": {},
   "outputs": [
    {
     "data": {
      "text/plain": [
       "('sePublicaAcuerdoDeConvalidación',\n",
       " [':sePublicaAcuerdoDeConvalidación rdf:type owl:ObjectProperty .',\n",
       "  ':sePublicaAcuerdoDeConvalidación rdfs:domain :EntradaBOE .',\n",
       "  ':sePublicaAcuerdoDeConvalidación rdfs:range :EntradaBOE .',\n",
       "  ':sePublicaAcuerdoDeConvalidación rdf:type owl:NamedIndividual .',\n",
       "  ':sePublicaAcuerdoDeConvalidación rdf:type :RelacionPosterior .',\n",
       "  ':sePublicaAcuerdoDeConvalidación :codigo \"301\"^^xsd:integer .',\n",
       "  ':sePublicaAcuerdoDeConvalidación :nombre \"SE PUBLICA  Acuerdo de convalidación\"^^xsd:string .'])"
      ]
     },
     "execution_count": 64,
     "metadata": {},
     "output_type": "execute_result"
    }
   ],
   "source": [
    "create_relationship_type(\"SE PUBLICA  Acuerdo de convalidación\", 301, False)"
   ]
  },
  {
   "cell_type": "markdown",
   "metadata": {},
   "source": [
    "Insertar departamentos y materias\n",
    "```\n",
    "\n",
    "###  http://www.semanticweb.org/hackathon/ontology#Organización_de_las_Comunidades_Autónomas\n",
    ":Organización_de_las_Comunidades_Autónomas rdf:type owl:NamedIndividual ;\n",
    "                                           rdf:type :Materia ;\n",
    "                                           :codigo 5281 ;\n",
    "                                           :nombre \"Organización de las Comunidades Autónomas\" .\n",
    "\n",
    "###  http://www.semanticweb.org/hackathon/ontology/Ministerio_de_Defensa\n",
    ":Ministerio_de_Defensa rdf:type owl:NamedIndividual ,\n",
    "                                :Departamento ;\n",
    "                       :codigo 6110 ;\n",
    "                       :nombre \"Ministerio de Defensa\" .\n",
    "```"
   ]
  },
  {
   "cell_type": "code",
   "execution_count": 65,
   "metadata": {},
   "outputs": [],
   "source": [
    "def create_topic(name, code):\n",
    "    entity_name = to_title_case(name)\n",
    "    tuples = [\n",
    "        semantic_tuple(f\":{entity_name}\", \"rdf:type\", \":owl:NamedIndividual\"),\n",
    "        semantic_tuple(f\":{entity_name}\", \"rdf:type\", \":Materia\"),\n",
    "        semantic_tuple(f\":{entity_name}\", \":nombre\", f'\"{name}\"^^xsd:string'),\n",
    "        semantic_tuple(f\":{entity_name}\", \":codigo\", f'\"{code}\"^^xsd:integer'),\n",
    "    ]\n",
    "    return entity_name, tuples\n",
    "\n",
    "def create_department(name, code):\n",
    "    entity_name = to_title_case(name)\n",
    "    tuples = [\n",
    "        semantic_tuple(f\":{entity_name}\", \"rdf:type\", \":owl:NamedIndividual\"),\n",
    "        semantic_tuple(f\":{entity_name}\", \"rdf:type\", \":Departamento\"),\n",
    "        semantic_tuple(f\":{entity_name}\", \":nombre\", f'\"{name}\"^^xsd:string'),\n",
    "        semantic_tuple(f\":{entity_name}\", \":codigo\", f'\"{code}\"^^xsd:integer'),\n",
    "    ]\n",
    "    return entity_name, tuples"
   ]
  },
  {
   "cell_type": "markdown",
   "metadata": {},
   "source": [
    "Entradas BOE\n",
    "```\n",
    "###  http://www.semanticweb.org/hackathon/ontology/BOE-A-2022-22147\n",
    ":BOE-A-2022-22147 rdf:type owl:NamedIndividual .\n",
    "\n",
    "\n",
    "###  http://www.semanticweb.org/hackathon/ontology/BOE-A-2023-17679\n",
    ":BOE-A-2023-17679 rdf:type owl:NamedIndividual ,\n",
    "                           :EntradaBOE ;\n",
    "                  :corrigeErrores :BOE-A-2022-22147 ;\n",
    "                  :departamento :Ministerio_de_Defensa ;\n",
    "                  :origenLegislativo <http://dbpedia.org/resource/España> ;\n",
    "                  :rangoLegislativo :Resolución ;\n",
    "                  :fechaPublicacion \"2023-08-01T00:00:00.000Z\"^^xsd:dateTime ;\n",
    "                  :identificador \"BOE-A-2023-17679\" ;\n",
    "                  :titulo \"Resolución 400/38323/2023, de 21 de julio, de la Subsecretaría, por la que se corrigen errores y se modifica la Resolución 400/38495/2022, de 21 de diciembre, por la que se convoca proceso selectivo para la estabilización de empleo temporal, para el acceso a la condición de personal estatutario fijo en plazas de la categoría de Enfermero/a, Fisioterapeuta y Matrona en la Red Hospitalaria de la Defensa.\" .\n",
    "\n",
    "```"
   ]
  },
  {
   "cell_type": "code",
   "execution_count": 66,
   "metadata": {},
   "outputs": [],
   "source": [
    "def create_named_individual(name):\n",
    "    tuples = [\n",
    "        semantic_tuple(f\":{name}\", \"rdf:type\", \":owl:NamedIndividual\"),\n",
    "    ]\n",
    "    return name, tuples"
   ]
  },
  {
   "cell_type": "code",
   "execution_count": 72,
   "metadata": {},
   "outputs": [],
   "source": [
    "def create_boe_entry(title, code, date, department, topics, previous, posteriors):\n",
    "    entity_name = code\n",
    "    tuples = [\n",
    "        semantic_tuple(f\":{entity_name}\", \"rdf:type\", \"owl:NamedIndividual\"),\n",
    "        semantic_tuple(f\":{entity_name}\", \"rdf:type\", \":EntradaBOE\"),\n",
    "        semantic_tuple(f\":{entity_name}\", \":titulo\", f'\"{title}\"^^xsd:string'),\n",
    "        semantic_tuple(f\":{entity_name}\", \":identificador\", f'\"{code}\"^^xsd:string'),\n",
    "        semantic_tuple(f\":{entity_name}\", \":fechaPublicacion\", f'\"{date}\"^^xsd:date'),\n",
    "    ]\n",
    "\n",
    "    if department is not None: \n",
    "        department_entity_name, department_tuples = create_department(department[\"texto\"], department[\"codigo\"])\n",
    "        tuples.extend(department_tuples)\n",
    "        tuples.append(semantic_tuple(f\":{entity_name}\", \":departamento\", f\":{department_entity_name}\"))\n",
    "    \n",
    "    # TODO: origen legislativo, debemos buscarlo en otra DB\n",
    "    \n",
    "    for topic in topics:\n",
    "        topic_entity_name, topic_tuples = create_topic(topic[\"texto\"], topic[\"codigo\"])\n",
    "        tuples.extend(topic_tuples)\n",
    "        tuples.append(semantic_tuple(f\":{entity_name}\", \":materia\", f\":{topic_entity_name}\"))\n",
    "    for prev in previous:\n",
    "        prev_entity_name, prev_tuples = create_relationship_type(prev[\"relacion\"][\"texto\"], prev[\"relacion\"][\"codigo\"], True)\n",
    "        related_code = prev[\"identificador\"]\n",
    "        tuples.extend(prev_tuples)\n",
    "        tuples.append(semantic_tuple(f\":{entity_name}\", f\":{prev_entity_name}\", f\":{related_code}\"))\n",
    "    for post in posteriors:\n",
    "        post_entity_name, post_tuples = create_relationship_type(post[\"relacion\"][\"texto\"], post[\"relacion\"][\"codigo\"], False)\n",
    "        related_code = post[\"identificador\"]\n",
    "        tuples.extend(post_tuples)\n",
    "        tuples.append(semantic_tuple(f\":{entity_name}\", f\":{post_entity_name}\", f\":{related_code}\"))\n",
    "\n",
    "    return entity_name, tuples"
   ]
  },
  {
   "cell_type": "code",
   "execution_count": 75,
   "metadata": {},
   "outputs": [
    {
     "name": "stdout",
     "output_type": "stream",
     "text": [
      "('BOE-A-2021-1234',\n",
      " [':BOE-A-2021-1234 rdf:type owl:NamedIndividual .',\n",
      "  ':BOE-A-2021-1234 rdf:type :EntradaBOE .',\n",
      "  ':BOE-A-2021-1234 :titulo \"Prueba\"^^xsd:string .',\n",
      "  ':BOE-A-2021-1234 :identificador \"BOE-A-2021-1234\"^^xsd:string .',\n",
      "  ':BOE-A-2021-1234 :fechaPublicacion \"2021-01-01\"^^xsd:date .',\n",
      "  ':MinisterioDeLaVerdad rdf:type :owl:NamedIndividual .',\n",
      "  ':MinisterioDeLaVerdad rdf:type :Departamento .',\n",
      "  ':MinisterioDeLaVerdad :nombre \"Ministerio de la Verdad\"^^xsd:string .',\n",
      "  ':MinisterioDeLaVerdad :codigo \"1\"^^xsd:integer .',\n",
      "  ':BOE-A-2021-1234 :departamento :MinisterioDeLaVerdad .',\n",
      "  ':Materia1 rdf:type :owl:NamedIndividual .',\n",
      "  ':Materia1 rdf:type :Materia .',\n",
      "  ':Materia1 :nombre \"Materia 1\"^^xsd:string .',\n",
      "  ':Materia1 :codigo \"1\"^^xsd:integer .',\n",
      "  ':BOE-A-2021-1234 :materia :Materia1 .',\n",
      "  ':Materia2 rdf:type :owl:NamedIndividual .',\n",
      "  ':Materia2 rdf:type :Materia .',\n",
      "  ':Materia2 :nombre \"Materia 2\"^^xsd:string .',\n",
      "  ':Materia2 :codigo \"2\"^^xsd:integer .',\n",
      "  ':BOE-A-2021-1234 :materia :Materia2 .',\n",
      "  ':relacion1 rdf:type owl:ObjectProperty .',\n",
      "  ':relacion1 rdfs:domain :EntradaBOE .',\n",
      "  ':relacion1 rdfs:range :EntradaBOE .',\n",
      "  ':relacion1 rdf:type owl:NamedIndividual .',\n",
      "  ':relacion1 rdf:type :RelacionAnterior .',\n",
      "  ':relacion1 :codigo \"1\"^^xsd:integer .',\n",
      "  ':relacion1 :nombre \"Relacion 1\"^^xsd:string .',\n",
      "  ':BOE-A-2021-1234 :relacion1 :BOE-A-2021-1233 .',\n",
      "  ':relacion2 rdf:type owl:ObjectProperty .',\n",
      "  ':relacion2 rdfs:domain :EntradaBOE .',\n",
      "  ':relacion2 rdfs:range :EntradaBOE .',\n",
      "  ':relacion2 rdf:type owl:NamedIndividual .',\n",
      "  ':relacion2 rdf:type :RelacionPosterior .',\n",
      "  ':relacion2 :codigo \"2\"^^xsd:integer .',\n",
      "  ':relacion2 :nombre \"Relacion 2\"^^xsd:string .',\n",
      "  ':BOE-A-2021-1234 :relacion2 :BOE-A-2021-1235 .'])\n"
     ]
    }
   ],
   "source": [
    "pprint.pprint(create_boe_entry(\n",
    "    \"Prueba\", \"BOE-A-2021-1234\", \"2021-01-01\",\n",
    "    {\"codigo\": 1, \"texto\": \"Ministerio de la Verdad\"},\n",
    "    [{\"codigo\": 1, \"texto\": \"Materia 1\"}, {\"codigo\": 2, \"texto\": \"Materia 2\"}],\n",
    "    [{\"identificador\": \"BOE-A-2021-1233\", \"relacion\": {\"codigo\": 1, \"texto\": \"Relacion 1\"}}],\n",
    "    [{\"identificador\": \"BOE-A-2021-1235\", \"relacion\": {\"codigo\": 2, \"texto\": \"Relacion 2\"}}],\n",
    "))"
   ]
  },
  {
   "cell_type": "code",
   "execution_count": 78,
   "metadata": {},
   "outputs": [
    {
     "data": {
      "text/plain": [
       "{'vary': 'Accept-Encoding',\n",
       " 'cache-control': 'no-store',\n",
       " 'content-language': 'en-US',\n",
       " 'date': 'Fri, 10 Nov 2023 18:42:45 GMT',\n",
       " 'connection': 'close',\n",
       " 'server': 'GraphDB/10.4.1 RDF4J/4.3.6'}"
      ]
     },
     "execution_count": 78,
     "metadata": {},
     "output_type": "execute_result"
    }
   ],
   "source": [
    "entity_name, tuples = create_boe_entry(\n",
    "    \"Prueba\", \"BOE-A-2021-1234\", \"2021-01-01\",\n",
    "    {\"codigo\": 1, \"texto\": \"Ministerio de la Verdad\"},\n",
    "    [{\"codigo\": 1, \"texto\": \"Materia 1\"}, {\"codigo\": 2, \"texto\": \"Materia 2\"}],\n",
    "    [{\"identificador\": \"BOE-A-2021-1233\", \"relacion\": {\"codigo\": 1, \"texto\": \"Relacion 1\"}}],\n",
    "    [{\"identificador\": \"BOE-A-2021-1235\", \"relacion\": {\"codigo\": 2, \"texto\": \"Relacion 2\"}}],\n",
    ")\n",
    "insert_tuples(tuples).info()"
   ]
  },
  {
   "cell_type": "markdown",
   "metadata": {},
   "source": [
    "## Insertando desde MongoDB"
   ]
  },
  {
   "cell_type": "code",
   "execution_count": 87,
   "metadata": {},
   "outputs": [
    {
     "name": "stdout",
     "output_type": "stream",
     "text": [
      "[':BOE-B-2023-32033 rdf:type owl:NamedIndividual .',\n",
      " ':BOE-B-2023-32033 rdf:type :EntradaBOE .',\n",
      " ':BOE-B-2023-32033 :titulo \"Anuncio de la Confederación Hidrográfica del '\n",
      " 'Duero, O.A., de información pública de una modificación de características '\n",
      " 'de una concesión de un aprovechamiento de aguas subterráneas para riego, en '\n",
      " 'el término municipal de Valbuena de Duero (Valladolid).\"^^xsd:string .',\n",
      " ':BOE-B-2023-32033 :identificador \"BOE-B-2023-32033\"^^xsd:string .',\n",
      " ':BOE-B-2023-32033 :fechaPublicacion \"2023-11-03\"^^xsd:date .',\n",
      " ':MinisterioParaLaTransiciónEcológicaYElRetoDemográfico rdf:type '\n",
      " ':owl:NamedIndividual .',\n",
      " ':MinisterioParaLaTransiciónEcológicaYElRetoDemográfico rdf:type '\n",
      " ':Departamento .',\n",
      " ':MinisterioParaLaTransiciónEcológicaYElRetoDemográfico :nombre \"Ministerio '\n",
      " 'para la Transición Ecológica y el Reto Demográfico\"^^xsd:string .',\n",
      " ':MinisterioParaLaTransiciónEcológicaYElRetoDemográfico :codigo '\n",
      " '\"9575\"^^xsd:integer .',\n",
      " ':BOE-B-2023-32033 :departamento '\n",
      " ':MinisterioParaLaTransiciónEcológicaYElRetoDemográfico .']\n"
     ]
    }
   ],
   "source": [
    "for document in mongo_collection.find({}):\n",
    "    title = document[\"titulo\"]\n",
    "    code = document[\"identificador\"]\n",
    "    date_str = document[\"fecha_publicacion\"].strftime(\"%Y-%m-%d\")\n",
    "    department = document.get(\"departamento\")\n",
    "    topics = document.get(\"materias\")\n",
    "    previous = document.get(\"anteriores\")\n",
    "    posteriors = document.get(\"posteriores\")\n",
    "    entity_name, tuples = create_boe_entry(title, code, date_str, department, topics, previous, posteriors)\n",
    "    pprint.pprint(tuples)\n",
    "    # print(insert_tuples(tuples).info())\n",
    "    break"
   ]
  },
  {
   "cell_type": "code",
   "execution_count": null,
   "metadata": {},
   "outputs": [],
   "source": []
  }
 ],
 "metadata": {
  "kernelspec": {
   "display_name": "Python 3",
   "language": "python",
   "name": "python3"
  },
  "language_info": {
   "codemirror_mode": {
    "name": "ipython",
    "version": 3
   },
   "file_extension": ".py",
   "mimetype": "text/x-python",
   "name": "python",
   "nbconvert_exporter": "python",
   "pygments_lexer": "ipython3",
   "version": "3.11.5"
  }
 },
 "nbformat": 4,
 "nbformat_minor": 2
}
