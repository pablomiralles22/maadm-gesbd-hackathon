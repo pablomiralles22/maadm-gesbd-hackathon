{
 "cells": [
  {
   "cell_type": "code",
   "execution_count": 2,
   "metadata": {},
   "outputs": [],
   "source": [
    "from SPARQLWrapper import SPARQLWrapper, POST, DIGEST, JSON"
   ]
  },
  {
   "cell_type": "code",
   "execution_count": 3,
   "metadata": {},
   "outputs": [
    {
     "ename": "EndPointNotFound",
     "evalue": "EndPointNotFound: It was not possible to connect to the given endpoint: check it is correct. \n\nResponse:\nb'Unknown repository: your_repository'",
     "output_type": "error",
     "traceback": [
      "\u001b[0;31m---------------------------------------------------------------------------\u001b[0m",
      "\u001b[0;31mHTTPError\u001b[0m                                 Traceback (most recent call last)",
      "File \u001b[0;32m~/.micromamba/envs/master-gesbd/lib/python3.11/site-packages/SPARQLWrapper/Wrapper.py:926\u001b[0m, in \u001b[0;36mSPARQLWrapper._query\u001b[0;34m(self)\u001b[0m\n\u001b[1;32m    925\u001b[0m \u001b[39melse\u001b[39;00m:\n\u001b[0;32m--> 926\u001b[0m     response \u001b[39m=\u001b[39m urlopener(request)\n\u001b[1;32m    927\u001b[0m \u001b[39mreturn\u001b[39;00m response, \u001b[39mself\u001b[39m\u001b[39m.\u001b[39mreturnFormat\n",
      "File \u001b[0;32m~/.micromamba/envs/master-gesbd/lib/python3.11/urllib/request.py:216\u001b[0m, in \u001b[0;36murlopen\u001b[0;34m(url, data, timeout, cafile, capath, cadefault, context)\u001b[0m\n\u001b[1;32m    215\u001b[0m     opener \u001b[39m=\u001b[39m _opener\n\u001b[0;32m--> 216\u001b[0m \u001b[39mreturn\u001b[39;00m opener\u001b[39m.\u001b[39mopen(url, data, timeout)\n",
      "File \u001b[0;32m~/.micromamba/envs/master-gesbd/lib/python3.11/urllib/request.py:525\u001b[0m, in \u001b[0;36mOpenerDirector.open\u001b[0;34m(self, fullurl, data, timeout)\u001b[0m\n\u001b[1;32m    524\u001b[0m     meth \u001b[39m=\u001b[39m \u001b[39mgetattr\u001b[39m(processor, meth_name)\n\u001b[0;32m--> 525\u001b[0m     response \u001b[39m=\u001b[39m meth(req, response)\n\u001b[1;32m    527\u001b[0m \u001b[39mreturn\u001b[39;00m response\n",
      "File \u001b[0;32m~/.micromamba/envs/master-gesbd/lib/python3.11/urllib/request.py:634\u001b[0m, in \u001b[0;36mHTTPErrorProcessor.http_response\u001b[0;34m(self, request, response)\u001b[0m\n\u001b[1;32m    633\u001b[0m \u001b[39mif\u001b[39;00m \u001b[39mnot\u001b[39;00m (\u001b[39m200\u001b[39m \u001b[39m<\u001b[39m\u001b[39m=\u001b[39m code \u001b[39m<\u001b[39m \u001b[39m300\u001b[39m):\n\u001b[0;32m--> 634\u001b[0m     response \u001b[39m=\u001b[39m \u001b[39mself\u001b[39m\u001b[39m.\u001b[39mparent\u001b[39m.\u001b[39merror(\n\u001b[1;32m    635\u001b[0m         \u001b[39m'\u001b[39m\u001b[39mhttp\u001b[39m\u001b[39m'\u001b[39m, request, response, code, msg, hdrs)\n\u001b[1;32m    637\u001b[0m \u001b[39mreturn\u001b[39;00m response\n",
      "File \u001b[0;32m~/.micromamba/envs/master-gesbd/lib/python3.11/urllib/request.py:563\u001b[0m, in \u001b[0;36mOpenerDirector.error\u001b[0;34m(self, proto, *args)\u001b[0m\n\u001b[1;32m    562\u001b[0m args \u001b[39m=\u001b[39m (\u001b[39mdict\u001b[39m, \u001b[39m'\u001b[39m\u001b[39mdefault\u001b[39m\u001b[39m'\u001b[39m, \u001b[39m'\u001b[39m\u001b[39mhttp_error_default\u001b[39m\u001b[39m'\u001b[39m) \u001b[39m+\u001b[39m orig_args\n\u001b[0;32m--> 563\u001b[0m \u001b[39mreturn\u001b[39;00m \u001b[39mself\u001b[39m\u001b[39m.\u001b[39m_call_chain(\u001b[39m*\u001b[39margs)\n",
      "File \u001b[0;32m~/.micromamba/envs/master-gesbd/lib/python3.11/urllib/request.py:496\u001b[0m, in \u001b[0;36mOpenerDirector._call_chain\u001b[0;34m(self, chain, kind, meth_name, *args)\u001b[0m\n\u001b[1;32m    495\u001b[0m func \u001b[39m=\u001b[39m \u001b[39mgetattr\u001b[39m(handler, meth_name)\n\u001b[0;32m--> 496\u001b[0m result \u001b[39m=\u001b[39m func(\u001b[39m*\u001b[39margs)\n\u001b[1;32m    497\u001b[0m \u001b[39mif\u001b[39;00m result \u001b[39mis\u001b[39;00m \u001b[39mnot\u001b[39;00m \u001b[39mNone\u001b[39;00m:\n",
      "File \u001b[0;32m~/.micromamba/envs/master-gesbd/lib/python3.11/urllib/request.py:643\u001b[0m, in \u001b[0;36mHTTPDefaultErrorHandler.http_error_default\u001b[0;34m(self, req, fp, code, msg, hdrs)\u001b[0m\n\u001b[1;32m    642\u001b[0m \u001b[39mdef\u001b[39;00m \u001b[39mhttp_error_default\u001b[39m(\u001b[39mself\u001b[39m, req, fp, code, msg, hdrs):\n\u001b[0;32m--> 643\u001b[0m     \u001b[39mraise\u001b[39;00m HTTPError(req\u001b[39m.\u001b[39mfull_url, code, msg, hdrs, fp)\n",
      "\u001b[0;31mHTTPError\u001b[0m: HTTP Error 404: ",
      "\nDuring handling of the above exception, another exception occurred:\n",
      "\u001b[0;31mEndPointNotFound\u001b[0m                          Traceback (most recent call last)",
      "\u001b[1;32m/Users/pablomirallesgonzalez/Documents/masters-degree/Gestión de sistemas de datos masivos/hackathon/notebooks/sparql.ipynb Cell 2\u001b[0m line \u001b[0;36m1\n\u001b[1;32m      <a href='vscode-notebook-cell:/Users/pablomirallesgonzalez/Documents/masters-degree/Gestio%CC%81n%20de%20sistemas%20de%20datos%20masivos/hackathon/notebooks/sparql.ipynb#W0sZmlsZQ%3D%3D?line=6'>7</a>\u001b[0m sparql\u001b[39m.\u001b[39msetQuery(\u001b[39m\"\"\"\u001b[39m\n\u001b[1;32m      <a href='vscode-notebook-cell:/Users/pablomirallesgonzalez/Documents/masters-degree/Gestio%CC%81n%20de%20sistemas%20de%20datos%20masivos/hackathon/notebooks/sparql.ipynb#W0sZmlsZQ%3D%3D?line=7'>8</a>\u001b[0m \u001b[39m    PREFIX ex: <http://example.com/ontology#>\u001b[39m\n\u001b[1;32m      <a href='vscode-notebook-cell:/Users/pablomirallesgonzalez/Documents/masters-degree/Gestio%CC%81n%20de%20sistemas%20de%20datos%20masivos/hackathon/notebooks/sparql.ipynb#W0sZmlsZQ%3D%3D?line=8'>9</a>\u001b[0m \u001b[39m    INSERT DATA \u001b[39m\u001b[39m{\u001b[39m\n\u001b[0;32m   (...)\u001b[0m\n\u001b[1;32m     <a href='vscode-notebook-cell:/Users/pablomirallesgonzalez/Documents/masters-degree/Gestio%CC%81n%20de%20sistemas%20de%20datos%20masivos/hackathon/notebooks/sparql.ipynb#W0sZmlsZQ%3D%3D?line=11'>12</a>\u001b[0m \u001b[39m    }\u001b[39m\n\u001b[1;32m     <a href='vscode-notebook-cell:/Users/pablomirallesgonzalez/Documents/masters-degree/Gestio%CC%81n%20de%20sistemas%20de%20datos%20masivos/hackathon/notebooks/sparql.ipynb#W0sZmlsZQ%3D%3D?line=12'>13</a>\u001b[0m \u001b[39m\"\"\"\u001b[39m)\n\u001b[1;32m     <a href='vscode-notebook-cell:/Users/pablomirallesgonzalez/Documents/masters-degree/Gestio%CC%81n%20de%20sistemas%20de%20datos%20masivos/hackathon/notebooks/sparql.ipynb#W0sZmlsZQ%3D%3D?line=14'>15</a>\u001b[0m \u001b[39m# Execute the query\u001b[39;00m\n\u001b[0;32m---> <a href='vscode-notebook-cell:/Users/pablomirallesgonzalez/Documents/masters-degree/Gestio%CC%81n%20de%20sistemas%20de%20datos%20masivos/hackathon/notebooks/sparql.ipynb#W0sZmlsZQ%3D%3D?line=15'>16</a>\u001b[0m sparql\u001b[39m.\u001b[39mquery()\n",
      "File \u001b[0;32m~/.micromamba/envs/master-gesbd/lib/python3.11/site-packages/SPARQLWrapper/Wrapper.py:960\u001b[0m, in \u001b[0;36mSPARQLWrapper.query\u001b[0;34m(self)\u001b[0m\n\u001b[1;32m    942\u001b[0m \u001b[39mdef\u001b[39;00m \u001b[39mquery\u001b[39m(\u001b[39mself\u001b[39m) \u001b[39m-\u001b[39m\u001b[39m>\u001b[39m \u001b[39m\"\u001b[39m\u001b[39mQueryResult\u001b[39m\u001b[39m\"\u001b[39m:\n\u001b[1;32m    943\u001b[0m \u001b[39m    \u001b[39m\u001b[39m\"\"\"\u001b[39;00m\n\u001b[1;32m    944\u001b[0m \u001b[39m    Execute the query.\u001b[39;00m\n\u001b[1;32m    945\u001b[0m \u001b[39m    Exceptions can be raised if either the URI is wrong or the HTTP sends back an error (this is also the\u001b[39;00m\n\u001b[0;32m   (...)\u001b[0m\n\u001b[1;32m    958\u001b[0m \u001b[39m    :rtype: :class:`QueryResult` instance\u001b[39;00m\n\u001b[1;32m    959\u001b[0m \u001b[39m    \"\"\"\u001b[39;00m\n\u001b[0;32m--> 960\u001b[0m     \u001b[39mreturn\u001b[39;00m QueryResult(\u001b[39mself\u001b[39m\u001b[39m.\u001b[39m_query())\n",
      "File \u001b[0;32m~/.micromamba/envs/master-gesbd/lib/python3.11/site-packages/SPARQLWrapper/Wrapper.py:932\u001b[0m, in \u001b[0;36mSPARQLWrapper._query\u001b[0;34m(self)\u001b[0m\n\u001b[1;32m    930\u001b[0m     \u001b[39mraise\u001b[39;00m QueryBadFormed(e\u001b[39m.\u001b[39mread())\n\u001b[1;32m    931\u001b[0m \u001b[39melif\u001b[39;00m e\u001b[39m.\u001b[39mcode \u001b[39m==\u001b[39m \u001b[39m404\u001b[39m:\n\u001b[0;32m--> 932\u001b[0m     \u001b[39mraise\u001b[39;00m EndPointNotFound(e\u001b[39m.\u001b[39mread())\n\u001b[1;32m    933\u001b[0m \u001b[39melif\u001b[39;00m e\u001b[39m.\u001b[39mcode \u001b[39m==\u001b[39m \u001b[39m401\u001b[39m:\n\u001b[1;32m    934\u001b[0m     \u001b[39mraise\u001b[39;00m Unauthorized(e\u001b[39m.\u001b[39mread())\n",
      "\u001b[0;31mEndPointNotFound\u001b[0m: EndPointNotFound: It was not possible to connect to the given endpoint: check it is correct. \n\nResponse:\nb'Unknown repository: your_repository'"
     ]
    }
   ],
   "source": [
    "# Set up the SPARQL connection to GraphDB\n",
    "sparql = SPARQLWrapper(\"http://localhost:7200/repositories/your_repository/statements\")\n",
    "sparql.setHTTPAuth(DIGEST)\n",
    "sparql.setMethod(POST)\n",
    "\n",
    "# Define your SPARQL query for data insertion\n",
    "sparql.setQuery(\"\"\"\n",
    "    PREFIX ex: <http://example.com/ontology#>\n",
    "    INSERT DATA {\n",
    "        ex:individual1 a ex:YourClass ;\n",
    "            ex:hasProperty \"Some Value\" .\n",
    "    }\n",
    "\"\"\")\n",
    "\n",
    "# Execute the query\n",
    "sparql.query()\n"
   ]
  },
  {
   "cell_type": "code",
   "execution_count": null,
   "metadata": {},
   "outputs": [],
   "source": []
  }
 ],
 "metadata": {
  "kernelspec": {
   "display_name": "Python 3",
   "language": "python",
   "name": "python3"
  },
  "language_info": {
   "codemirror_mode": {
    "name": "ipython",
    "version": 3
   },
   "file_extension": ".py",
   "mimetype": "text/x-python",
   "name": "python",
   "nbconvert_exporter": "python",
   "pygments_lexer": "ipython3",
   "version": "3.11.5"
  }
 },
 "nbformat": 4,
 "nbformat_minor": 2
}
