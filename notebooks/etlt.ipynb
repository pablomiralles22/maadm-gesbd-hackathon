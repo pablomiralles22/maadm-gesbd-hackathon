{
 "cells": [
  {
   "cell_type": "code",
   "execution_count": 1,
   "metadata": {},
   "outputs": [
    {
     "name": "stderr",
     "output_type": "stream",
     "text": [
      "/Users/pablomirallesgonzalez/micromamba/envs/master-gesbd/lib/python3.11/site-packages/tqdm/auto.py:21: TqdmWarning: IProgress not found. Please update jupyter and ipywidgets. See https://ipywidgets.readthedocs.io/en/stable/user_install.html\n",
      "  from .autonotebook import tqdm as notebook_tqdm\n"
     ]
    }
   ],
   "source": [
    "import pymongo\n",
    "import os\n",
    "from transformers import pipeline\n",
    "\n",
    "from pymongo import MongoClient\n",
    "from dotenv import dotenv_values\n",
    "\n",
    "env_config = dotenv_values(\"./environment/.env\")"
   ]
  },
  {
   "cell_type": "code",
   "execution_count": 2,
   "metadata": {},
   "outputs": [],
   "source": [
    "client = MongoClient(\n",
    "    \"mongodb\",\n",
    "    username=env_config.get('MONGO_USER'),\n",
    "    password=env_config.get('MONGO_PASSWORD'),\n",
    "    port=env_config.get('MONGO_PORT'),\n",
    ")\n",
    "db = client[\"20minutos\"]"
   ]
  },
  {
   "cell_type": "code",
   "execution_count": 3,
   "metadata": {},
   "outputs": [
    {
     "name": "stderr",
     "output_type": "stream",
     "text": [
      "Downloading pytorch_model.bin: 100%|██████████| 496M/496M [11:58<00:00, 691kB/s] \n",
      "Downloading (…)okenizer_config.json: 100%|██████████| 1.07k/1.07k [00:00<00:00, 3.58MB/s]\n",
      "Downloading (…)olve/main/vocab.json: 100%|██████████| 851k/851k [00:01<00:00, 814kB/s]\n",
      "Downloading (…)olve/main/merges.txt: 100%|██████████| 509k/509k [00:00<00:00, 923kB/s]\n",
      "Downloading (…)/main/tokenizer.json: 100%|██████████| 1.46M/1.46M [00:01<00:00, 860kB/s]\n",
      "Downloading (…)cial_tokens_map.json: 100%|██████████| 772/772 [00:00<00:00, 2.28MB/s]\n"
     ]
    },
    {
     "name": "stdout",
     "output_type": "stream",
     "text": [
      "[]\n"
     ]
    }
   ],
   "source": [
    "nlp = pipeline(\"ner\", model=\"PlanTL-GOB-ES/roberta-base-bne-capitel-ner\")\n"
   ]
  },
  {
   "cell_type": "code",
   "execution_count": 6,
   "metadata": {},
   "outputs": [
    {
     "name": "stdout",
     "output_type": "stream",
     "text": [
      "[]\n"
     ]
    }
   ],
   "source": [
    "example = \"Me llamo francisco javier y vivo en madrid.\"\n",
    "\n",
    "ner_results = nlp(example)\n",
    "print(ner_results)"
   ]
  },
  {
   "cell_type": "code",
   "execution_count": null,
   "metadata": {},
   "outputs": [],
   "source": []
  }
 ],
 "metadata": {
  "kernelspec": {
   "display_name": "Python 3",
   "language": "python",
   "name": "python3"
  },
  "language_info": {
   "codemirror_mode": {
    "name": "ipython",
    "version": 3
   },
   "file_extension": ".py",
   "mimetype": "text/x-python",
   "name": "python",
   "nbconvert_exporter": "python",
   "pygments_lexer": "ipython3",
   "version": "3.11.5"
  }
 },
 "nbformat": 4,
 "nbformat_minor": 2
}
