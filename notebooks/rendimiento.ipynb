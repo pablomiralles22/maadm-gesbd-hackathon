{
 "cells": [
  {
   "cell_type": "code",
   "execution_count": 1,
   "metadata": {},
   "outputs": [],
   "source": [
    "#!pip install python-dotenv pymongo elasticsearch matplotlib SPARQLWrapper sentence_transformers"
   ]
  },
  {
   "cell_type": "code",
   "execution_count": 2,
   "metadata": {},
   "outputs": [],
   "source": [
    "from dotenv import dotenv_values\n",
    "import pymongo\n",
    "from elasticsearch import Elasticsearch\n",
    "import matplotlib.pyplot as plt\n",
    "import random\n",
    "from datetime import datetime, timedelta\n",
    "import time\n",
    "from SPARQLWrapper import SPARQLWrapper, POST, JSON, CSV\n",
    "from dateutil.relativedelta import relativedelta\n",
    "from sentence_transformers import SentenceTransformer\n",
    "import os\n",
    "import subprocess\n",
    "import pprint"
   ]
  },
  {
   "cell_type": "markdown",
   "metadata": {},
   "source": [
    "# Configuracion entorno"
   ]
  },
  {
   "cell_type": "code",
   "execution_count": 3,
   "metadata": {},
   "outputs": [],
   "source": [
    "env_config = dotenv_values(\"../.env\")"
   ]
  },
  {
   "cell_type": "code",
   "execution_count": 4,
   "metadata": {},
   "outputs": [],
   "source": [
    "mongo_client = pymongo.MongoClient(\n",
    "    host=env_config['MONGODB_HOST'],\n",
    "    port=int(env_config['MONGODB_PORT']),\n",
    "    username=env_config['MONGO_USER'],\n",
    "    password=env_config['MONGO_PASSWORD'],\n",
    ")\n",
    "mongo_collection = mongo_client[\"boe_db\"][\"boe\"]"
   ]
  },
  {
   "cell_type": "code",
   "execution_count": 5,
   "metadata": {},
   "outputs": [],
   "source": [
    "es_client = Elasticsearch(f\"http://{env_config['ELASTICSEARCH_HOST']}:{env_config['ELASTICSEARCH_PORT']}\")\n",
    "model = SentenceTransformer(env_config[\"SENTENCE_TRANSFORMER_MODEL\"])"
   ]
  },
  {
   "cell_type": "code",
   "execution_count": 6,
   "metadata": {},
   "outputs": [],
   "source": [
    "sparql = SPARQLWrapper(\n",
    "    f\"http://{env_config['GRAPHDB_HOST']}:{env_config['GRAPHDB_PORT']}\"\n",
    "    f\"/repositories/{env_config['GRAPHDB_REPOSITORY']}\"\n",
    ")\n",
    "sparql.setMethod(POST)"
   ]
  },
  {
   "cell_type": "markdown",
   "metadata": {},
   "source": [
    "# Pruebas de rendimiento"
   ]
  },
  {
   "cell_type": "markdown",
   "metadata": {},
   "source": [
    "## Aux funcs"
   ]
  },
  {
   "cell_type": "code",
   "execution_count": 7,
   "metadata": {},
   "outputs": [],
   "source": [
    "def load_data(start_date, end_date):\n",
    "    current_start_date_str = start_date.strftime('%Y-%m-%d')\n",
    "    current_end_date_str = end_date.strftime('%Y-%m-%d')\n",
    "\n",
    "    print(f\"Fecha inicio: {current_start_date_str}\")\n",
    "    print(f\"Fecha fin: {current_end_date_str}\")\n",
    "    print(\"Cargando datos en mongo\")\n",
    "    os.popen(f\"python3 ../scripts/load_mongodb.py --env-file ../.env --path ../downloads dates -s {current_start_date_str} -e {current_end_date_str}\").read()\n",
    "    print(\"Cargando datos en elastic\")\n",
    "    #os.popen(f\"python3 ../scripts/load_elasticsearch.py --env-file ../.env -c 20 dates -s {current_start_date_str} -e {current_end_date_str}\").read()\n",
    "    print(\"Cargando datos en graphdb\")\n",
    "    os.popen(f\"python3 ../scripts/load_graphdb.py --env-file ../.env dates -s {current_start_date_str} -e {current_end_date_str}\").read()\n",
    "    "
   ]
  },
  {
   "cell_type": "code",
   "execution_count": 8,
   "metadata": {},
   "outputs": [],
   "source": [
    "def batch_timing_mongo(batch_querys):\n",
    "    \n",
    "    timer_start = time.time()\n",
    "    for query in batch_querys:\n",
    "        mongo_collection.find(query)\n",
    "    timer_end = time.time()\n",
    "\n",
    "    elapsed_time = timer_end - timer_start\n",
    "    print(f\"Tiempo de ejecución para {len(batch_querys)} querys: {elapsed_time:.5f}\")\n",
    "    return elapsed_time\n"
   ]
  },
  {
   "cell_type": "code",
   "execution_count": 9,
   "metadata": {},
   "outputs": [],
   "source": [
    "def batch_timing_graph(batch_querys):\n",
    "    \n",
    "    timer_start = time.time()\n",
    "    for query in batch_querys:\n",
    "        sparql.setReturnFormat(JSON)\n",
    "        sparql.setQuery(query)\n",
    "        results = sparql.query().convert()\n",
    "    timer_end = time.time()\n",
    "\n",
    "    elapsed_time = timer_end - timer_start\n",
    "    print(f\"Tiempo de ejecución para {len(batch_querys)} querys: {elapsed_time:.5f}\")\n",
    "    return elapsed_time"
   ]
  },
  {
   "cell_type": "markdown",
   "metadata": {},
   "source": [
    "## Tamaño BD variable"
   ]
  },
  {
   "cell_type": "code",
   "execution_count": 10,
   "metadata": {},
   "outputs": [],
   "source": [
    "n_repeticiones = 1000\n",
    "start_date_data = datetime.strptime('2023-01-01', '%Y-%m-%d')\n",
    "one_month = relativedelta(months=1)"
   ]
  },
  {
   "cell_type": "markdown",
   "metadata": {},
   "source": [
    "### Limpieza de datos previos y configuración BDs"
   ]
  },
  {
   "cell_type": "code",
   "execution_count": 11,
   "metadata": {},
   "outputs": [
    {
     "name": "stdout",
     "output_type": "stream",
     "text": [
      "Error al limpiar graphdb\n",
      "QueryBadFormed: A bad request has been sent to the endpoint: probably the SPARQL query is badly formed. \n",
      "\n",
      "Response:\n",
      "b'Missing parameter: query'\n"
     ]
    }
   ],
   "source": [
    "# clean mongo\n",
    "mongo_collection.delete_many({})\n",
    "mongo_collection.drop()\n",
    "# clean elastic\n",
    "try:\n",
    "    es_client.indices.delete(index=\"boe\")\n",
    "except:\n",
    "    pass\n",
    "# clean graphdb\n",
    "query = \"\"\"\n",
    "DELETE { ?s ?p ?o }\n",
    "WHERE { ?s ?p ?o }\n",
    "\"\"\"\n",
    "sparql.setReturnFormat(JSON)\n",
    "sparql.setQuery(query)\n",
    "try:\n",
    "    results = sparql.query().convert()\n",
    "except Exception as e:\n",
    "    print('Error al limpiar graphdb') #No funciona desde python, se debe hacer manualmente\n",
    "    print(e)"
   ]
  },
  {
   "cell_type": "code",
   "execution_count": 12,
   "metadata": {},
   "outputs": [
    {
     "name": "stdout",
     "output_type": "stream",
     "text": [
      "Setting up MongoDB...\n",
      "Done!\n",
      "Setting up Elasticsearch...\n",
      "Index does not exist. Creating...\n",
      "Done!\n",
      "Setting up GraphDB...\n",
      "{\"message\":\"Repository boe already exists.\"}\n",
      "{'vary': 'Accept-Encoding', 'cache-control': 'no-store', 'content-language': 'en-US', 'date': 'Tue, 14 Nov 2023 21:27:45 GMT', 'connection': 'close', 'server': 'GraphDB/10.4.1 RDF4J/4.3.6'}\n",
      "\n"
     ]
    }
   ],
   "source": [
    "print(os.popen(\"python3 ../scripts/setup_dbs.py --env-file ../.env --graphdb-repo-init-file ../rdf/graphdb_init.ttl --graphdb-init-query ../rdf/graphdb_init_query.txt\").read())\n",
    "time.sleep(10)"
   ]
  },
  {
   "cell_type": "code",
   "execution_count": 13,
   "metadata": {},
   "outputs": [
    {
     "name": "stdout",
     "output_type": "stream",
     "text": [
      "Number of documents in mongo: 0\n",
      "Number of documents in elastic: 0\n",
      "Number of triples in graphdb: 177\n"
     ]
    }
   ],
   "source": [
    "#check number of documents in mongo\n",
    "print(f\"Number of documents in mongo: {mongo_collection.count_documents({})}\")\n",
    "#check number of documents in elastic\n",
    "print(f\"Number of documents in elastic: {es_client.count(index='boe')['count']}\")\n",
    "#check number of triples in graphdb\n",
    "query_count_triples = \"\"\"\n",
    "    SELECT (COUNT(*) as ?count)\n",
    "    WHERE { ?s ?p ?o }\n",
    "\"\"\"\n",
    "sparql.setQuery(query_count_triples)\n",
    "sparql.setReturnFormat(JSON)\n",
    "results = sparql.query().convert()\n",
    "print(f\"Number of triples in graphdb: {results['results']['bindings'][0]['count']['value']}\")"
   ]
  },
  {
   "cell_type": "markdown",
   "metadata": {},
   "source": [
    "### MongoDB"
   ]
  },
  {
   "cell_type": "markdown",
   "metadata": {},
   "source": [
    "#### Por fecha"
   ]
  },
  {
   "cell_type": "code",
   "execution_count": 14,
   "metadata": {},
   "outputs": [],
   "source": [
    "def mongo_by_date(end_date):\n",
    "    batch_querys = []\n",
    "    for i in range(n_repeticiones):\n",
    "        start_date = start_date_data + timedelta(days=int(random.random() * (end_date - start_date_data).days))\n",
    "        end_date = start_date + timedelta(days=1)\n",
    "        query_fecha = {\n",
    "                    \"fecha_publicacion\": {\n",
    "                        \"$gte\": start_date,\n",
    "                        \"$lte\": end_date,\n",
    "                    }\n",
    "                }\n",
    "        batch_querys.append(query_fecha)\n",
    "    return batch_timing_mongo(batch_querys)/n_repeticiones"
   ]
  },
  {
   "cell_type": "markdown",
   "metadata": {},
   "source": [
    "#### Por indentificador"
   ]
  },
  {
   "cell_type": "code",
   "execution_count": 15,
   "metadata": {},
   "outputs": [],
   "source": [
    "def mongo_by_id():\n",
    "    batch_querys = []\n",
    "    identificadores = mongo_collection.distinct('identificador')\n",
    "    for i in range(n_repeticiones):\n",
    "        query_identificador = {\n",
    "                    \"identificador\": random.choice(identificadores)\n",
    "                }\n",
    "        batch_querys.append(query_identificador)\n",
    "    return batch_timing_mongo(batch_querys)/n_repeticiones"
   ]
  },
  {
   "cell_type": "markdown",
   "metadata": {},
   "source": [
    "#### Por materia"
   ]
  },
  {
   "cell_type": "code",
   "execution_count": 16,
   "metadata": {},
   "outputs": [],
   "source": [
    "def mongo_by_materia():\n",
    "    batch_querys = []\n",
    "    codigos = mongo_collection.distinct('materias.codigo')\n",
    "    for i in range(n_repeticiones):\n",
    "        query_codigo = {\n",
    "                    \"materias.codigo\": random.choice(codigos)\n",
    "                }\n",
    "        batch_querys.append(query_codigo)\n",
    "    return batch_timing_mongo(batch_querys)/n_repeticiones"
   ]
  },
  {
   "cell_type": "markdown",
   "metadata": {},
   "source": [
    "### GraphDB"
   ]
  },
  {
   "cell_type": "code",
   "execution_count": 17,
   "metadata": {},
   "outputs": [],
   "source": [
    "PREFIXES = \"\"\"\n",
    "PREFIX  :     <http://www.semanticweb.org/hackathon/ontology/>\n",
    "PREFIX  owl:  <http://www.w3.org/2002/07/owl#>\n",
    "PREFIX  rdf:  <http://www.w3.org/1999/02/22-rdf-syntax-ns#>\n",
    "PREFIX  xml:  <http://www.w3.org/XML/1998/namespace>\n",
    "PREFIX  xsd:  <http://www.w3.org/2001/XMLSchema#>\n",
    "PREFIX  rdfs: <http://www.w3.org/2000/01/rdf-schema#>\n",
    "\"\"\""
   ]
  },
  {
   "cell_type": "markdown",
   "metadata": {},
   "source": [
    "#### Por fecha"
   ]
  },
  {
   "cell_type": "code",
   "execution_count": 18,
   "metadata": {},
   "outputs": [],
   "source": [
    "def encode_date(date):\n",
    "    return f'\"{date.strftime(\"%Y-%m-%d\")}\"^^xsd:date'"
   ]
  },
  {
   "cell_type": "code",
   "execution_count": 19,
   "metadata": {},
   "outputs": [],
   "source": [
    "def graph_by_date(end_date):\n",
    "    batch_querys = []\n",
    "    for i in range(n_repeticiones):\n",
    "        date = start_date_data + timedelta(days=int(random.random() * (end_date - start_date_data).days))\n",
    "        query_fecha = PREFIXES + f\"\"\"SELECT ?entradaBOE\n",
    "                                WHERE {{\n",
    "                                    ?entradaBOE rdf:type :EntradaBOE .\n",
    "                                    ?entradaBOE :fechaPublicacion {encode_date(date)} .\n",
    "                                }}\n",
    "                                \"\"\"  \n",
    "        batch_querys.append(query_fecha)\n",
    "    return batch_timing_graph(batch_querys)/n_repeticiones"
   ]
  },
  {
   "cell_type": "markdown",
   "metadata": {},
   "source": [
    "#### Por indentificador"
   ]
  },
  {
   "cell_type": "code",
   "execution_count": 20,
   "metadata": {},
   "outputs": [],
   "source": [
    "def graph_by_id():\n",
    "    batch_querys = []\n",
    "    identificadores = mongo_collection.distinct('identificador')\n",
    "    for i in range(n_repeticiones):\n",
    "        query_identificador = PREFIXES + f\"\"\"SELECT ?entradaBOE\n",
    "                                WHERE {{\n",
    "                                    ?entradaBOE rdf:type :EntradaBOE .\n",
    "                                    ?entradaBOE :identificador \"{random.choice(identificadores)}\" .\n",
    "                                }}\n",
    "                                \"\"\"     \n",
    "        batch_querys.append(query_identificador)\n",
    "    return batch_timing_graph(batch_querys)/n_repeticiones"
   ]
  },
  {
   "cell_type": "markdown",
   "metadata": {},
   "source": [
    "### Lanzamiento de pruebas"
   ]
  },
  {
   "cell_type": "code",
   "execution_count": 21,
   "metadata": {},
   "outputs": [
    {
     "name": "stdout",
     "output_type": "stream",
     "text": [
      "Fecha inicio: 2023-01-01\n",
      "Fecha fin: 2023-02-01\n",
      "Cargando datos en mongo\n",
      "Cargando datos en elastic\n",
      "Cargando datos en graphdb\n",
      "Number of documents in mongo: 5966\n",
      "Number of documents in elastic: 0\n",
      "Number of triples in graphdb: 46958\n",
      "Fecha:\n",
      "Tiempo de ejecución para 1000 querys: 0.00466\n",
      "Tiempo de ejecución para 1000 querys: 3.21344\n",
      "Identificador:\n",
      "Tiempo de ejecución para 1000 querys: 0.00433\n",
      "Tiempo de ejecución para 1000 querys: 2.37431\n",
      "Materia:\n",
      "Tiempo de ejecución para 1000 querys: 0.00421\n",
      "\n",
      "\n",
      "==============================\n",
      "Fecha inicio: 2023-02-01\n",
      "Fecha fin: 2023-03-01\n",
      "Cargando datos en mongo\n",
      "Cargando datos en elastic\n",
      "Cargando datos en graphdb\n",
      "Number of documents in mongo: 11585\n",
      "Number of documents in elastic: 0\n",
      "Number of triples in graphdb: 88873\n",
      "Fecha:\n",
      "Tiempo de ejecución para 1000 querys: 0.00427\n",
      "Tiempo de ejecución para 1000 querys: 3.25067\n",
      "Identificador:\n",
      "Tiempo de ejecución para 1000 querys: 0.00398\n",
      "Tiempo de ejecución para 1000 querys: 2.37803\n",
      "Materia:\n",
      "Tiempo de ejecución para 1000 querys: 0.00437\n",
      "\n",
      "\n",
      "==============================\n",
      "Fecha inicio: 2023-03-01\n",
      "Fecha fin: 2023-04-01\n",
      "Cargando datos en mongo\n",
      "Cargando datos en elastic\n",
      "Cargando datos en graphdb\n",
      "Number of documents in mongo: 18086\n",
      "Number of documents in elastic: 0\n",
      "Number of triples in graphdb: 136254\n",
      "Fecha:\n",
      "Tiempo de ejecución para 1000 querys: 0.00406\n",
      "Tiempo de ejecución para 1000 querys: 3.25468\n",
      "Identificador:\n",
      "Tiempo de ejecución para 1000 querys: 0.00399\n",
      "Tiempo de ejecución para 1000 querys: 2.34708\n",
      "Materia:\n",
      "Tiempo de ejecución para 1000 querys: 0.00362\n",
      "\n",
      "\n",
      "==============================\n",
      "Fecha inicio: 2023-04-01\n",
      "Fecha fin: 2023-05-01\n",
      "Cargando datos en mongo\n",
      "Cargando datos en elastic\n",
      "Cargando datos en graphdb\n",
      "Number of documents in mongo: 23363\n",
      "Number of documents in elastic: 0\n",
      "Number of triples in graphdb: 173725\n",
      "Fecha:\n",
      "Tiempo de ejecución para 1000 querys: 0.00433\n",
      "Tiempo de ejecución para 1000 querys: 3.27608\n",
      "Identificador:\n",
      "Tiempo de ejecución para 1000 querys: 0.00400\n",
      "Tiempo de ejecución para 1000 querys: 2.35351\n",
      "Materia:\n",
      "Tiempo de ejecución para 1000 querys: 0.00403\n",
      "\n",
      "\n",
      "==============================\n",
      "Fecha inicio: 2023-05-01\n",
      "Fecha fin: 2023-06-01\n",
      "Cargando datos en mongo\n",
      "Cargando datos en elastic\n",
      "Cargando datos en graphdb\n",
      "Number of documents in mongo: 29524\n",
      "Number of documents in elastic: 0\n",
      "Number of triples in graphdb: 216629\n",
      "Fecha:\n",
      "Tiempo de ejecución para 1000 querys: 0.00436\n",
      "Tiempo de ejecución para 1000 querys: 3.16977\n",
      "Identificador:\n",
      "Tiempo de ejecución para 1000 querys: 0.00404\n",
      "Tiempo de ejecución para 1000 querys: 2.42938\n",
      "Materia:\n",
      "Tiempo de ejecución para 1000 querys: 0.00433\n",
      "\n",
      "\n",
      "==============================\n",
      "Fecha inicio: 2023-06-01\n",
      "Fecha fin: 2023-07-01\n",
      "Cargando datos en mongo\n",
      "Cargando datos en elastic\n",
      "Cargando datos en graphdb\n",
      "Number of documents in mongo: 35583\n",
      "Number of documents in elastic: 0\n",
      "Number of triples in graphdb: 258157\n",
      "Fecha:\n",
      "Tiempo de ejecución para 1000 querys: 0.00452\n",
      "Tiempo de ejecución para 1000 querys: 3.30683\n",
      "Identificador:\n",
      "Tiempo de ejecución para 1000 querys: 0.00407\n",
      "Tiempo de ejecución para 1000 querys: 2.34575\n",
      "Materia:\n",
      "Tiempo de ejecución para 1000 querys: 0.00423\n",
      "\n",
      "\n",
      "==============================\n",
      "Fecha inicio: 2023-07-01\n",
      "Fecha fin: 2023-08-01\n",
      "Cargando datos en mongo\n",
      "Cargando datos en elastic\n",
      "Cargando datos en graphdb\n",
      "Number of documents in mongo: 40724\n",
      "Number of documents in elastic: 0\n",
      "Number of triples in graphdb: 294845\n",
      "Fecha:\n",
      "Tiempo de ejecución para 1000 querys: 0.00431\n",
      "Tiempo de ejecución para 1000 querys: 3.18918\n",
      "Identificador:\n",
      "Tiempo de ejecución para 1000 querys: 0.00404\n",
      "Tiempo de ejecución para 1000 querys: 2.35514\n",
      "Materia:\n",
      "Tiempo de ejecución para 1000 querys: 0.00431\n",
      "\n",
      "\n",
      "==============================\n",
      "Fecha inicio: 2023-08-01\n",
      "Fecha fin: 2023-09-01\n",
      "Cargando datos en mongo\n",
      "Cargando datos en elastic\n",
      "Cargando datos en graphdb\n",
      "Number of documents in mongo: 43714\n",
      "Number of documents in elastic: 0\n",
      "Number of triples in graphdb: 315094\n",
      "Fecha:\n",
      "Tiempo de ejecución para 1000 querys: 0.00465\n",
      "Tiempo de ejecución para 1000 querys: 3.15344\n",
      "Identificador:\n",
      "Tiempo de ejecución para 1000 querys: 0.00426\n",
      "Tiempo de ejecución para 1000 querys: 2.35039\n",
      "Materia:\n",
      "Tiempo de ejecución para 1000 querys: 0.00409\n",
      "\n",
      "\n",
      "==============================\n",
      "Fecha inicio: 2023-09-01\n",
      "Fecha fin: 2023-10-01\n",
      "Cargando datos en mongo\n",
      "Cargando datos en elastic\n",
      "Cargando datos en graphdb\n",
      "Number of documents in mongo: 48631\n",
      "Number of documents in elastic: 0\n",
      "Number of triples in graphdb: 347463\n",
      "Fecha:\n",
      "Tiempo de ejecución para 1000 querys: 0.00439\n",
      "Tiempo de ejecución para 1000 querys: 3.20401\n",
      "Identificador:\n",
      "Tiempo de ejecución para 1000 querys: 0.00410\n",
      "Tiempo de ejecución para 1000 querys: 2.31440\n",
      "Materia:\n",
      "Tiempo de ejecución para 1000 querys: 0.00423\n",
      "\n",
      "\n",
      "==============================\n",
      "Fecha inicio: 2023-10-01\n",
      "Fecha fin: 2023-11-01\n",
      "Cargando datos en mongo\n",
      "Cargando datos en elastic\n",
      "Cargando datos en graphdb\n",
      "Number of documents in mongo: 54279\n",
      "Number of documents in elastic: 0\n",
      "Number of triples in graphdb: 385175\n",
      "Fecha:\n",
      "Tiempo de ejecución para 1000 querys: 0.00418\n",
      "Tiempo de ejecución para 1000 querys: 3.15621\n",
      "Identificador:\n",
      "Tiempo de ejecución para 1000 querys: 0.00407\n",
      "Tiempo de ejecución para 1000 querys: 2.35805\n",
      "Materia:\n",
      "Tiempo de ejecución para 1000 querys: 0.00434\n",
      "\n",
      "\n",
      "==============================\n",
      "Fecha inicio: 2023-11-01\n",
      "Fecha fin: 2023-12-01\n",
      "Cargando datos en mongo\n",
      "Cargando datos en elastic\n",
      "Cargando datos en graphdb\n",
      "Number of documents in mongo: 56256\n",
      "Number of documents in elastic: 0\n",
      "Number of triples in graphdb: 398145\n",
      "Fecha:\n",
      "Tiempo de ejecución para 1000 querys: 0.00442\n",
      "Tiempo de ejecución para 1000 querys: 3.08629\n",
      "Identificador:\n",
      "Tiempo de ejecución para 1000 querys: 0.00421\n",
      "Tiempo de ejecución para 1000 querys: 2.36829\n",
      "Materia:\n",
      "Tiempo de ejecución para 1000 querys: 0.00426\n",
      "\n",
      "\n",
      "==============================\n",
      "Fecha inicio: 2023-12-01\n",
      "Fecha fin: 2024-01-01\n",
      "Cargando datos en mongo\n",
      "Cargando datos en elastic\n",
      "Cargando datos en graphdb\n",
      "Number of documents in mongo: 56256\n",
      "Number of documents in elastic: 0\n",
      "Number of triples in graphdb: 398145\n",
      "Fecha:\n",
      "Tiempo de ejecución para 1000 querys: 0.00443\n",
      "Tiempo de ejecución para 1000 querys: 3.01840\n",
      "Identificador:\n",
      "Tiempo de ejecución para 1000 querys: 0.00412\n",
      "Tiempo de ejecución para 1000 querys: 2.38607\n",
      "Materia:\n",
      "Tiempo de ejecución para 1000 querys: 0.00433\n",
      "\n",
      "\n",
      "==============================\n"
     ]
    }
   ],
   "source": [
    "times_mongo = {}\n",
    "times_graph = {}\n",
    "for i in range(12):\n",
    "    times_mongo_tipos = {}\n",
    "    times_graph_tipos = {}\n",
    "\n",
    "    current_start_date = start_date_data + one_month * i\n",
    "    current_end_date = start_date_data + one_month * (i + 1)\n",
    "    \n",
    "    load_data(current_start_date, current_end_date)\n",
    "    \n",
    "    n_docs = mongo_collection.count_documents({})\n",
    "    sparql.setQuery(query_count_triples)\n",
    "    sparql.setReturnFormat(JSON)\n",
    "    results = sparql.query().convert()\n",
    "    n_triples = results['results']['bindings'][0]['count']['value']\n",
    "\n",
    "    print(f\"Number of documents in mongo: {n_docs}\")\n",
    "    print(f\"Number of documents in elastic: {es_client.count(index='boe')['count']}\")\n",
    "    print(f\"Number of triples in graphdb: {n_triples}\")\n",
    "    \n",
    "    print('Fecha:')\n",
    "    times_mongo_tipos['date'] = mongo_by_date(current_end_date)\n",
    "    times_graph_tipos['date'] = graph_by_date(current_end_date)\n",
    "    print('Identificador:')\n",
    "    times_mongo_tipos['id'] = mongo_by_id()\n",
    "    times_graph_tipos['id'] = graph_by_id()\n",
    "    print('Materia:')\n",
    "    times_mongo_tipos['materia'] = mongo_by_materia()\n",
    "    \n",
    "    times_mongo[n_docs] = times_mongo_tipos\n",
    "    times_graph[n_triples] = times_graph_tipos\n",
    "\n",
    "    print('\\n')\n",
    "    print(30*'=')"
   ]
  },
  {
   "cell_type": "code",
   "execution_count": 22,
   "metadata": {},
   "outputs": [
    {
     "name": "stdout",
     "output_type": "stream",
     "text": [
      "{5966: {'date': 4.657268524169922e-06,\n",
      "        'id': 4.325628280639649e-06,\n",
      "        'materia': 4.213094711303711e-06},\n",
      " 11585: {'date': 4.266262054443359e-06,\n",
      "         'id': 3.9844512939453124e-06,\n",
      "         'materia': 4.374027252197266e-06},\n",
      " 18086: {'date': 4.055976867675781e-06,\n",
      "         'id': 3.992557525634765e-06,\n",
      "         'materia': 3.6237239837646484e-06},\n",
      " 23363: {'date': 4.331827163696289e-06,\n",
      "         'id': 3.998517990112305e-06,\n",
      "         'materia': 4.029989242553711e-06},\n",
      " 29524: {'date': 4.362344741821289e-06,\n",
      "         'id': 4.041910171508789e-06,\n",
      "         'materia': 4.332542419433594e-06},\n",
      " 35583: {'date': 4.520893096923828e-06,\n",
      "         'id': 4.065275192260742e-06,\n",
      "         'materia': 4.225969314575196e-06},\n",
      " 40724: {'date': 4.308700561523437e-06,\n",
      "         'id': 4.039525985717774e-06,\n",
      "         'materia': 4.306554794311523e-06},\n",
      " 43714: {'date': 4.650354385375976e-06,\n",
      "         'id': 4.261255264282227e-06,\n",
      "         'materia': 4.087448120117187e-06},\n",
      " 48631: {'date': 4.386425018310547e-06,\n",
      "         'id': 4.099607467651367e-06,\n",
      "         'materia': 4.231929779052734e-06},\n",
      " 54279: {'date': 4.183530807495117e-06,\n",
      "         'id': 4.072666168212891e-06,\n",
      "         'materia': 4.336833953857422e-06},\n",
      " 56256: {'date': 4.4276714324951175e-06,\n",
      "         'id': 4.1248798370361324e-06,\n",
      "         'materia': 4.332780838012695e-06}}\n"
     ]
    }
   ],
   "source": [
    "pprint.pprint(times_mongo)"
   ]
  },
  {
   "cell_type": "code",
   "execution_count": 23,
   "metadata": {},
   "outputs": [
    {
     "name": "stdout",
     "output_type": "stream",
     "text": [
      "{'136254': {'date': 0.003254676580429077, 'id': 0.0023470845222473146},\n",
      " '173725': {'date': 0.003276076078414917, 'id': 0.002353510618209839},\n",
      " '216629': {'date': 0.003169771909713745, 'id': 0.002429383993148804},\n",
      " '258157': {'date': 0.003306825876235962, 'id': 0.002345750570297241},\n",
      " '294845': {'date': 0.0031891849040985108, 'id': 0.0023551411628723144},\n",
      " '315094': {'date': 0.003153438329696655, 'id': 0.002350390672683716},\n",
      " '347463': {'date': 0.0032040112018585204, 'id': 0.0023144018650054932},\n",
      " '385175': {'date': 0.003156207323074341, 'id': 0.002358051300048828},\n",
      " '398145': {'date': 0.0030183961391448974, 'id': 0.002386073350906372},\n",
      " '46958': {'date': 0.0032134382724761964, 'id': 0.002374314785003662},\n",
      " '88873': {'date': 0.003250674486160278, 'id': 0.002378026485443115}}\n"
     ]
    }
   ],
   "source": [
    "pprint.pprint(times_graph)"
   ]
  },
  {
   "cell_type": "markdown",
   "metadata": {},
   "source": [
    "#### Plot de resultados"
   ]
  },
  {
   "cell_type": "code",
   "execution_count": 24,
   "metadata": {},
   "outputs": [
    {
     "data": {
      "image/png": "[encoded data removed]",
      "text/plain": [
       "<Figure size 640x480 with 1 Axes>"
      ]
     },
     "metadata": {},
     "output_type": "display_data"
    }
   ],
   "source": [
    "x = list(times_mongo.keys())\n",
    "y = {k: [v['date'], v['id'], v['materia']] for k, v in times_mongo.items()}\n",
    "y = list(y.values())\n",
    "plt.plot(x, y)\n",
    "plt.legend(['fecha', 'identificador', 'materia'])\n",
    "plt.xlabel('Número de documentos')\n",
    "plt.ylabel('Tiempo de ejecución (s)')\n",
    "plt.show()"
   ]
  },
  {
   "cell_type": "markdown",
   "metadata": {},
   "source": [
    "## Tamaño BD fijo"
   ]
  },
  {
   "cell_type": "code",
   "execution_count": 25,
   "metadata": {},
   "outputs": [],
   "source": [
    "n_querys_mongo = [1000, 5000, 10000, 50000, 100000, 500000, 1000000]\n",
    "n_querys_graph = [100, 500, 1000, 5000, 10000]"
   ]
  },
  {
   "cell_type": "markdown",
   "metadata": {},
   "source": [
    "### MongoDB"
   ]
  },
  {
   "cell_type": "code",
   "execution_count": 26,
   "metadata": {},
   "outputs": [],
   "source": [
    "times_mongo = {}"
   ]
  },
  {
   "cell_type": "markdown",
   "metadata": {},
   "source": [
    "#### Por fecha"
   ]
  },
  {
   "cell_type": "code",
   "execution_count": 27,
   "metadata": {},
   "outputs": [
    {
     "name": "stdout",
     "output_type": "stream",
     "text": [
      "Tiempo de ejecución para 1000 querys: 0.00430\n",
      "Tiempo de ejecución para 5000 querys: 0.02301\n",
      "Tiempo de ejecución para 10000 querys: 0.04355\n",
      "Tiempo de ejecución para 50000 querys: 0.21323\n",
      "Tiempo de ejecución para 100000 querys: 0.41409\n",
      "Tiempo de ejecución para 500000 querys: 2.07643\n",
      "Tiempo de ejecución para 1000000 querys: 3.81489\n"
     ]
    }
   ],
   "source": [
    "times_dates = {}\n",
    "start_date_data = datetime.strptime('2023-01-01', '%Y-%m-%d')\n",
    "\n",
    "for n in n_querys_mongo:\n",
    "    batch_querys = []\n",
    "    for i in range(n):\n",
    "        start_date = start_date_data + timedelta(days=int(random.random() * 365))\n",
    "        end_date = start_date + timedelta(days=1)\n",
    "        query_fecha = {\n",
    "                    \"fecha_publicacion\": {\n",
    "                        \"$gte\": start_date,\n",
    "                        \"$lte\": end_date,\n",
    "                    }\n",
    "                }\n",
    "        batch_querys.append(query_fecha)\n",
    "    times_dates[n] = batch_timing_mongo(batch_querys)\n",
    "\n",
    "times_mongo['fecha'] = times_dates"
   ]
  },
  {
   "cell_type": "markdown",
   "metadata": {},
   "source": [
    "#### Por indentificador"
   ]
  },
  {
   "cell_type": "code",
   "execution_count": 28,
   "metadata": {},
   "outputs": [
    {
     "name": "stdout",
     "output_type": "stream",
     "text": [
      "Tiempo de ejecución para 1000 querys: 0.00370\n",
      "Tiempo de ejecución para 5000 querys: 0.02078\n",
      "Tiempo de ejecución para 10000 querys: 0.04308\n",
      "Tiempo de ejecución para 50000 querys: 0.20616\n",
      "Tiempo de ejecución para 100000 querys: 0.41965\n",
      "Tiempo de ejecución para 500000 querys: 2.06467\n",
      "Tiempo de ejecución para 1000000 querys: 4.16754\n"
     ]
    }
   ],
   "source": [
    "identificadores = mongo_collection.distinct('identificador')\n",
    "times_identificadores = {}\n",
    "for n in n_querys_mongo:\n",
    "    batch_querys = []\n",
    "    for i in range(n):\n",
    "        query_identificador = {\n",
    "                    \"identificador\": random.choice(identificadores)\n",
    "                }\n",
    "        batch_querys.append(query_identificador)\n",
    "    times_identificadores[n] = batch_timing_mongo(batch_querys)\n",
    "times_mongo['identificador'] = times_identificadores"
   ]
  },
  {
   "cell_type": "markdown",
   "metadata": {},
   "source": [
    "#### Por materia"
   ]
  },
  {
   "cell_type": "code",
   "execution_count": 29,
   "metadata": {},
   "outputs": [
    {
     "name": "stdout",
     "output_type": "stream",
     "text": [
      "Tiempo de ejecución para 1000 querys: 0.00438\n",
      "Tiempo de ejecución para 5000 querys: 0.02099\n",
      "Tiempo de ejecución para 10000 querys: 0.04197\n",
      "Tiempo de ejecución para 50000 querys: 0.21725\n",
      "Tiempo de ejecución para 100000 querys: 0.39649\n",
      "Tiempo de ejecución para 500000 querys: 1.86215\n",
      "Tiempo de ejecución para 1000000 querys: 4.17828\n"
     ]
    }
   ],
   "source": [
    "codigos = mongo_collection.distinct('materias.codigo')\n",
    "\n",
    "for n in n_querys_mongo:\n",
    "    batch_querys = []\n",
    "    for i in range(n):\n",
    "        query_codigo = {\n",
    "                    \"materias.codigo\": random.choice(codigos)\n",
    "                }\n",
    "        batch_querys.append(query_codigo)\n",
    "    times_identificadores[n] = batch_timing_mongo(batch_querys)\n",
    "times_mongo['codigo'] = times_identificadores"
   ]
  },
  {
   "cell_type": "markdown",
   "metadata": {},
   "source": [
    "#### Plot de resultados"
   ]
  },
  {
   "cell_type": "code",
   "execution_count": 30,
   "metadata": {},
   "outputs": [
    {
     "data": {
      "image/png": "[encoded data removed]",
      "text/plain": [
       "<Figure size 1000x1000 with 1 Axes>"
      ]
     },
     "metadata": {},
     "output_type": "display_data"
    }
   ],
   "source": [
    "fig, ax = plt.subplots()\n",
    "fig.set_size_inches(10, 10)\n",
    "for query_type in times_mongo:\n",
    "    ax.plot(n_querys_mongo, times_mongo[query_type].values(), label=query_type)\n",
    "ax.set(xlabel='n_querys', ylabel='time (s)', title='Time vs num querys')\n",
    "ax.grid()\n",
    "ax.legend()\n",
    "plt.show()"
   ]
  },
  {
   "cell_type": "markdown",
   "metadata": {},
   "source": [
    "### GraphDB"
   ]
  },
  {
   "cell_type": "code",
   "execution_count": 31,
   "metadata": {},
   "outputs": [],
   "source": [
    "times_graph = {}"
   ]
  },
  {
   "cell_type": "code",
   "execution_count": 32,
   "metadata": {},
   "outputs": [],
   "source": [
    "PREFIXES = \"\"\"\n",
    "PREFIX  :     <http://www.semanticweb.org/hackathon/ontology/>\n",
    "PREFIX  owl:  <http://www.w3.org/2002/07/owl#>\n",
    "PREFIX  rdf:  <http://www.w3.org/1999/02/22-rdf-syntax-ns#>\n",
    "PREFIX  xml:  <http://www.w3.org/XML/1998/namespace>\n",
    "PREFIX  xsd:  <http://www.w3.org/2001/XMLSchema#>\n",
    "PREFIX  rdfs: <http://www.w3.org/2000/01/rdf-schema#>\n",
    "\"\"\""
   ]
  },
  {
   "cell_type": "markdown",
   "metadata": {},
   "source": [
    "#### Por fecha"
   ]
  },
  {
   "cell_type": "code",
   "execution_count": 33,
   "metadata": {},
   "outputs": [],
   "source": [
    "def encode_date(date):\n",
    "    return f'\"{date.strftime(\"%Y-%m-%d\")}\"^^xsd:date'"
   ]
  },
  {
   "cell_type": "code",
   "execution_count": 34,
   "metadata": {},
   "outputs": [
    {
     "name": "stdout",
     "output_type": "stream",
     "text": [
      "Tiempo de ejecución para 100 querys: 0.34137\n",
      "Tiempo de ejecución para 500 querys: 1.54768\n",
      "Tiempo de ejecución para 1000 querys: 3.11355\n",
      "Tiempo de ejecución para 5000 querys: 15.39192\n",
      "Tiempo de ejecución para 10000 querys: 30.45997\n"
     ]
    }
   ],
   "source": [
    "times_dates = {}\n",
    "start_date_data = datetime.strptime('2023-01-01', '%Y-%m-%d')\n",
    "\n",
    "for n in n_querys_graph:\n",
    "    batch_querys = []\n",
    "    for i in range(n):\n",
    "        date = start_date_data + timedelta(days=int(random.random() * 365))\n",
    "        query_fecha = PREFIXES + f\"\"\"SELECT ?entradaBOE\n",
    "                                WHERE {{\n",
    "                                    ?entradaBOE rdf:type :EntradaBOE .\n",
    "                                    ?entradaBOE :fechaPublicacion {encode_date(date)} .\n",
    "                                }}\n",
    "                                \"\"\"  \n",
    "        batch_querys.append(query_fecha)\n",
    "    times_dates[n] = batch_timing_graph(batch_querys)\n",
    "\n",
    "times_graph['fecha'] = times_dates"
   ]
  },
  {
   "cell_type": "markdown",
   "metadata": {},
   "source": [
    "#### Por indentificador"
   ]
  },
  {
   "cell_type": "code",
   "execution_count": 35,
   "metadata": {},
   "outputs": [
    {
     "name": "stdout",
     "output_type": "stream",
     "text": [
      "Tiempo de ejecución para 100 querys: 0.24710\n",
      "Tiempo de ejecución para 500 querys: 1.16922\n",
      "Tiempo de ejecución para 1000 querys: 2.46481\n",
      "Tiempo de ejecución para 5000 querys: 12.31082\n",
      "Tiempo de ejecución para 10000 querys: 24.31893\n"
     ]
    }
   ],
   "source": [
    "identificadores = mongo_collection.distinct('identificador')\n",
    "times_identificadores = {}\n",
    "for n in n_querys_graph:\n",
    "    batch_querys = []\n",
    "    for i in range(n):\n",
    "        query_identificador = PREFIXES + f\"\"\"SELECT ?entradaBOE\n",
    "                                WHERE {{\n",
    "                                    ?entradaBOE rdf:type :EntradaBOE .\n",
    "                                    ?entradaBOE :identificador \"{random.choice(identificadores)}\" .\n",
    "                                }}\n",
    "                                \"\"\"     \n",
    "        batch_querys.append(query_identificador)\n",
    "    times_identificadores[n] = batch_timing_graph(batch_querys)\n",
    "times_graph['identificador'] = times_identificadores"
   ]
  },
  {
   "cell_type": "markdown",
   "metadata": {},
   "source": [
    "#### Plot de resultados"
   ]
  },
  {
   "cell_type": "code",
   "execution_count": 36,
   "metadata": {},
   "outputs": [
    {
     "data": {
      "image/png": "[encoded data removed]",
      "text/plain": [
       "<Figure size 1000x1000 with 1 Axes>"
      ]
     },
     "metadata": {},
     "output_type": "display_data"
    }
   ],
   "source": [
    "fig, ax = plt.subplots()\n",
    "fig.set_size_inches(10, 10)\n",
    "for query_type in times_graph:\n",
    "    ax.plot(n_querys_graph, times_graph[query_type].values(), label=query_type)\n",
    "ax.set(xlabel='n_querys', ylabel='time (s)', title='Time vs num querys')\n",
    "ax.grid()\n",
    "ax.legend()\n",
    "plt.show()"
   ]
  }
 ],
 "metadata": {
  "kernelspec": {
   "display_name": "Python 3 (ipykernel)",
   "language": "python",
   "name": "python3"
  },
  "language_info": {
   "codemirror_mode": {
    "name": "ipython",
    "version": 3
   },
   "file_extension": ".py",
   "mimetype": "text/x-python",
   "name": "python",
   "nbconvert_exporter": "python",
   "pygments_lexer": "ipython3",
   "version": "3.10.12"
  }
 },
 "nbformat": 4,
 "nbformat_minor": 4
}
