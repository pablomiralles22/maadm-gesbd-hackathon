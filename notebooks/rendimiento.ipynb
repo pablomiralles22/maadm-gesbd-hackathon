{
 "cells": [
  {
   "cell_type": "code",
   "execution_count": null,
   "metadata": {},
   "outputs": [],
   "source": [
    "from dotenv import dotenv_values\n",
    "import pymongo\n",
    "from elasticsearch import Elasticsearch\n",
    "import matplotlib.pyplot as plt\n",
    "import random\n",
    "from datetime import datetime, timedelta\n",
    "import time\n",
    "from SPARQLWrapper import SPARQLWrapper, POST, JSON, CSV\n",
    "from dateutil.relativedelta import relativedelta\n",
    "from sentence_transformers import SentenceTransformer\n",
    "import os\n",
    "import subprocess"
   ]
  },
  {
   "cell_type": "markdown",
   "metadata": {},
   "source": [
    "# Configuracion entorno"
   ]
  },
  {
   "cell_type": "code",
   "execution_count": null,
   "metadata": {},
   "outputs": [],
   "source": [
    "env_config = dotenv_values(\"../.env\")"
   ]
  },
  {
   "cell_type": "code",
   "execution_count": null,
   "metadata": {},
   "outputs": [],
   "source": [
    "mongo_client = pymongo.MongoClient(\n",
    "    host=env_config['MONGODB_HOST'],\n",
    "    port=int(env_config['MONGODB_PORT']),\n",
    "    username=env_config['MONGO_USER'],\n",
    "    password=env_config['MONGO_PASSWORD'],\n",
    ")\n",
    "mongo_collection = mongo_client[\"boe_db\"][\"boe\"]"
   ]
  },
  {
   "cell_type": "code",
   "execution_count": null,
   "metadata": {},
   "outputs": [],
   "source": [
    "es_client = Elasticsearch(f\"http://{env_config['ELASTICSEARCH_HOST']}:{env_config['ELASTICSEARCH_PORT']}\")\n",
    "model = SentenceTransformer(env_config[\"SENTENCE_TRANSFORMER_MODEL\"])"
   ]
  },
  {
   "cell_type": "code",
   "execution_count": null,
   "metadata": {},
   "outputs": [],
   "source": [
    "sparql = SPARQLWrapper(\n",
    "    f\"http://{env_config['GRAPHDB_HOST']}:{env_config['GRAPHDB_PORT']}\"\n",
    "    f\"/repositories/{env_config['GRAPHDB_REPOSITORY']}\"\n",
    ")\n",
    "sparql.setMethod(POST)"
   ]
  },
  {
   "cell_type": "markdown",
   "metadata": {},
   "source": [
    "# Pruebas de rendimiento"
   ]
  },
  {
   "cell_type": "markdown",
   "metadata": {},
   "source": [
    "## Aux funcs"
   ]
  },
  {
   "cell_type": "code",
   "execution_count": null,
   "metadata": {},
   "outputs": [],
   "source": [
    "def load_data(start_date, end_date):\n",
    "    current_start_date_str = start_date.strftime('%Y-%m-%d')\n",
    "    current_end_date_str = end_date.strftime('%Y-%m-%d')\n",
    "\n",
    "    print(f\"Fecha inicio: {current_start_date_str}\")\n",
    "    print(f\"Fecha fin: {current_end_date_str}\")\n",
    "    print(\"Cargando datos en mongo\")\n",
    "    os.popen(f\"python ../scripts/load_mongodb.py --env-file ../.env --path ../downloads dates -s {current_start_date_str} -e {current_end_date_str}\").read()\n",
    "    print(\"Cargando datos en elastic\")\n",
    "    #os.popen(f\"python ../scripts/load_elasticsearch.py --env-file ../.env -c 20 dates -s {current_start_date_str} -e {current_end_date_str}\").read()\n",
    "    print(\"Cargando datos en graphdb\")\n",
    "    os.popen(f\"python ../scripts/load_graphdb.py --env-file ../.env dates -s {current_start_date_str} -e {current_end_date_str}\").read()\n",
    "    "
   ]
  },
  {
   "cell_type": "code",
   "execution_count": null,
   "metadata": {},
   "outputs": [],
   "source": [
    "def batch_timing_mongo(batch_querys):\n",
    "    \n",
    "    timer_start = time.time()\n",
    "    for query in batch_querys:\n",
    "        mongo_collection.find(query)\n",
    "    timer_end = time.time()\n",
    "\n",
    "    elapsed_time = timer_end - timer_start\n",
    "    print(f\"Tiempo de ejecución para {len(batch_querys)} querys: {elapsed_time:.5f}\")\n",
    "    return elapsed_time\n"
   ]
  },
  {
   "cell_type": "code",
   "execution_count": null,
   "metadata": {},
   "outputs": [],
   "source": [
    "def batch_timing_graph(batch_querys):\n",
    "    \n",
    "    timer_start = time.time()\n",
    "    for query in batch_querys:\n",
    "        sparql.setReturnFormat(JSON)\n",
    "        sparql.setQuery(query)\n",
    "        results = sparql.query().convert()\n",
    "    timer_end = time.time()\n",
    "\n",
    "    elapsed_time = timer_end - timer_start\n",
    "    print(f\"Tiempo de ejecución para {len(batch_querys)} querys: {elapsed_time:.5f}\")\n",
    "    return elapsed_time"
   ]
  },
  {
   "cell_type": "markdown",
   "metadata": {},
   "source": [
    "## Tamaño BD variable"
   ]
  },
  {
   "cell_type": "code",
   "execution_count": null,
   "metadata": {},
   "outputs": [],
   "source": [
    "n_repeticiones = 1000\n",
    "start_date_data = datetime.strptime('2023-10-01', '%Y-%m-%d')\n",
    "one_month = relativedelta(months=1)"
   ]
  },
  {
   "cell_type": "markdown",
   "metadata": {},
   "source": [
    "### Limpieza de datos previos y configuración BDs"
   ]
  },
  {
   "cell_type": "code",
   "execution_count": null,
   "metadata": {},
   "outputs": [],
   "source": [
    "# clean mongo\n",
    "mongo_collection.delete_many({})\n",
    "mongo_collection.drop()\n",
    "# clean elastic\n",
    "try:\n",
    "    es_client.indices.delete(index=\"boe\")\n",
    "except:\n",
    "    pass\n",
    "# clean graphdb\n",
    "query = \"\"\"\n",
    "DELETE { ?s ?p ?o }\n",
    "WHERE { ?s ?p ?o }\n",
    "\"\"\"\n",
    "sparql.setReturnFormat(JSON)\n",
    "sparql.setQuery(query)\n",
    "try:\n",
    "    results = sparql.query().convert()\n",
    "except Exception as e:\n",
    "    print('Error al limpiar graphdb') #No funciona desde python, se debe hacer manualmente\n",
    "    print(e)"
   ]
  },
  {
   "cell_type": "code",
   "execution_count": null,
   "metadata": {},
   "outputs": [],
   "source": [
    "print(os.popen(\"python ../scripts/setup_dbs.py --env-file ../.env --graphdb-repo-init-file ../rdf/graphdb_init.ttl --graphdb-init-query ../rdf/graphdb_init_query.txt\").read())\n",
    "time.sleep(10)"
   ]
  },
  {
   "cell_type": "code",
   "execution_count": null,
   "metadata": {},
   "outputs": [],
   "source": [
    "#check number of documents in mongo\n",
    "print(f\"Number of documents in mongo: {mongo_collection.count_documents({})}\")\n",
    "#check number of documents in elastic\n",
    "print(f\"Number of documents in elastic: {es_client.count(index='boe')['count']}\")\n",
    "#check number of triples in graphdb\n",
    "query_count_triples = \"\"\"\n",
    "    SELECT (COUNT(*) as ?count)\n",
    "    WHERE { ?s ?p ?o }\n",
    "\"\"\"\n",
    "sparql.setQuery(query_count_triples)\n",
    "sparql.setReturnFormat(JSON)\n",
    "results = sparql.query().convert()\n",
    "print(f\"Number of triples in graphdb: {results['results']['bindings'][0]['count']['value']}\")"
   ]
  },
  {
   "cell_type": "markdown",
   "metadata": {},
   "source": [
    "### MongoDB"
   ]
  },
  {
   "cell_type": "markdown",
   "metadata": {},
   "source": [
    "#### Por fecha"
   ]
  },
  {
   "cell_type": "code",
   "execution_count": null,
   "metadata": {},
   "outputs": [],
   "source": [
    "def mongo_by_date(end_date):\n",
    "    batch_querys = []\n",
    "    for i in range(n_repeticiones):\n",
    "        start_date = start_date_data + timedelta(days=int(random.random() * (end_date - start_date_data).days))\n",
    "        end_date = start_date + timedelta(days=1)\n",
    "        query_fecha = {\n",
    "                    \"fecha_publicacion\": {\n",
    "                        \"$gte\": start_date,\n",
    "                        \"$lte\": end_date,\n",
    "                    }\n",
    "                }\n",
    "        batch_querys.append(query_fecha)\n",
    "    return batch_timing_mongo(batch_querys)/n_repeticiones"
   ]
  },
  {
   "cell_type": "markdown",
   "metadata": {},
   "source": [
    "#### Por indentificador"
   ]
  },
  {
   "cell_type": "code",
   "execution_count": null,
   "metadata": {},
   "outputs": [],
   "source": [
    "def mongo_by_id():\n",
    "    batch_querys = []\n",
    "    identificadores = mongo_collection.distinct('identificador')\n",
    "    for i in range(n_repeticiones):\n",
    "        query_identificador = {\n",
    "                    \"identificador\": random.choice(identificadores)\n",
    "                }\n",
    "        batch_querys.append(query_identificador)\n",
    "    return batch_timing_mongo(batch_querys)/n_repeticiones"
   ]
  },
  {
   "cell_type": "markdown",
   "metadata": {},
   "source": [
    "#### Por materia"
   ]
  },
  {
   "cell_type": "code",
   "execution_count": null,
   "metadata": {},
   "outputs": [],
   "source": [
    "def mongo_by_materia():\n",
    "    batch_querys = []\n",
    "    codigos = mongo_collection.distinct('materias.codigo')\n",
    "    for i in range(n_repeticiones):\n",
    "        query_codigo = {\n",
    "                    \"materias.codigo\": random.choice(codigos)\n",
    "                }\n",
    "        batch_querys.append(query_codigo)\n",
    "    return batch_timing_mongo(batch_querys)/n_repeticiones"
   ]
  },
  {
   "cell_type": "markdown",
   "metadata": {},
   "source": [
    "### GraphDB"
   ]
  },
  {
   "cell_type": "code",
   "execution_count": null,
   "metadata": {},
   "outputs": [],
   "source": [
    "PREFIXES = \"\"\"\n",
    "PREFIX  :     <http://www.semanticweb.org/hackathon/ontology/>\n",
    "PREFIX  owl:  <http://www.w3.org/2002/07/owl#>\n",
    "PREFIX  rdf:  <http://www.w3.org/1999/02/22-rdf-syntax-ns#>\n",
    "PREFIX  xml:  <http://www.w3.org/XML/1998/namespace>\n",
    "PREFIX  xsd:  <http://www.w3.org/2001/XMLSchema#>\n",
    "PREFIX  rdfs: <http://www.w3.org/2000/01/rdf-schema#>\n",
    "\"\"\""
   ]
  },
  {
   "cell_type": "markdown",
   "metadata": {},
   "source": [
    "#### Por fecha"
   ]
  },
  {
   "cell_type": "code",
   "execution_count": null,
   "metadata": {},
   "outputs": [],
   "source": [
    "def encode_date(date):\n",
    "    return f'\"{date.strftime(\"%Y-%m-%d\")}\"^^xsd:date'"
   ]
  },
  {
   "cell_type": "code",
   "execution_count": null,
   "metadata": {},
   "outputs": [],
   "source": [
    "def graph_by_date(end_date):\n",
    "    batch_querys = []\n",
    "    for i in range(n_repeticiones):\n",
    "        date = start_date_data + timedelta(days=int(random.random() * (end_date - start_date_data).days))\n",
    "        query_fecha = PREFIXES + f\"\"\"SELECT ?entradaBOE\n",
    "                                WHERE {{\n",
    "                                    ?entradaBOE rdf:type :EntradaBOE .\n",
    "                                    ?entradaBOE :fechaPublicacion {encode_date(date)} .\n",
    "                                }}\n",
    "                                \"\"\"  \n",
    "        batch_querys.append(query_fecha)\n",
    "    return batch_timing_graph(batch_querys)/n_repeticiones"
   ]
  },
  {
   "cell_type": "markdown",
   "metadata": {},
   "source": [
    "#### Por indentificador"
   ]
  },
  {
   "cell_type": "code",
   "execution_count": null,
   "metadata": {},
   "outputs": [],
   "source": [
    "def graph_by_id():\n",
    "    batch_querys = []\n",
    "    identificadores = mongo_collection.distinct('identificador')\n",
    "    for i in range(n_repeticiones):\n",
    "        query_identificador = PREFIXES + f\"\"\"SELECT ?entradaBOE\n",
    "                                WHERE {{\n",
    "                                    ?entradaBOE rdf:type :EntradaBOE .\n",
    "                                    ?entradaBOE :identificador \"{random.choice(identificadores)}\" .\n",
    "                                }}\n",
    "                                \"\"\"     \n",
    "        batch_querys.append(query_identificador)\n",
    "    return batch_timing_graph(batch_querys)/n_repeticiones"
   ]
  },
  {
   "cell_type": "markdown",
   "metadata": {},
   "source": [
    "### Lanzamiento de pruebas"
   ]
  },
  {
   "cell_type": "code",
   "execution_count": null,
   "metadata": {},
   "outputs": [],
   "source": [
    "times_mongo = {}\n",
    "times_graph = {}\n",
    "for i in range(12):\n",
    "    times_mongo_tipos = {}\n",
    "    times_graph_tipos = {}\n",
    "\n",
    "    current_start_date = start_date_data + one_month * i\n",
    "    current_end_date = current_start_date + one_month * (i + 1)\n",
    "    \n",
    "    load_data(current_start_date, current_end_date)\n",
    "    \n",
    "    n_docs = mongo_collection.count_documents({})\n",
    "    sparql.setQuery(query_count_triples)\n",
    "    sparql.setReturnFormat(JSON)\n",
    "    results = sparql.query().convert()\n",
    "    n_triples = results['results']['bindings'][0]['count']['value']\n",
    "\n",
    "    print(f\"Number of documents in mongo: {n_docs}\")\n",
    "    print(f\"Number of documents in elastic: {es_client.count(index='boe')['count']}\")\n",
    "    print(f\"Number of triples in graphdb: {n_triples}\")\n",
    "    \n",
    "    print('Fecha:')\n",
    "    times_mongo_tipos['date'] = mongo_by_date(current_end_date)\n",
    "    times_graph_tipos['date'] = graph_by_date(current_end_date)\n",
    "    print('Identificador:')\n",
    "    times_mongo_tipos['id'] = mongo_by_id()\n",
    "    times_graph_tipos['id'] = graph_by_id()\n",
    "    print('Materia:')\n",
    "    times_mongo_tipos['materia'] = mongo_by_materia()\n",
    "    \n",
    "    times_mongo_tipos[n_docs] = times_mongo_tipos\n",
    "    times_graph_tipos[n_triples] = times_graph_tipos\n",
    "\n",
    "    print('\\n')\n",
    "    print(30*'=')"
   ]
  },
  {
   "cell_type": "code",
   "execution_count": null,
   "metadata": {},
   "outputs": [],
   "source": [
    "pprint.pprint(times_mongo)"
   ]
  },
  {
   "cell_type": "code",
   "execution_count": null,
   "metadata": {},
   "outputs": [],
   "source": [
    "pprint.pprint(times_graph)"
   ]
  },
  {
   "cell_type": "markdown",
   "metadata": {},
   "source": [
    "#### Plot de resultados"
   ]
  },
  {
   "cell_type": "code",
   "execution_count": null,
   "metadata": {},
   "outputs": [],
   "source": [
    "x = list(times_mongo.keys())\n",
    "y = {k: [v['date'], v['id'], v['materia']] for k, v in times_mongo.items()}\n",
    "y = list(y.values())\n",
    "plt.plot(x, y)\n",
    "plt.legend(['fecha', 'identificador', 'materia'])\n",
    "plt.xlabel('Número de documentos')\n",
    "plt.ylabel('Tiempo de ejecución (s)')\n",
    "plt.show()"
   ]
  },
  {
   "cell_type": "markdown",
   "metadata": {},
   "source": [
    "## Tamaño BD fijo"
   ]
  },
  {
   "cell_type": "code",
   "execution_count": null,
   "metadata": {},
   "outputs": [],
   "source": [
    "n_querys_mongo = [1000, 5000, 10000, 50000, 100000, 500000, 1000000]\n",
    "n_querys_graph = [100, 500, 1000, 5000, 10000]"
   ]
  },
  {
   "cell_type": "markdown",
   "metadata": {},
   "source": [
    "### MongoDB"
   ]
  },
  {
   "cell_type": "code",
   "execution_count": null,
   "metadata": {},
   "outputs": [],
   "source": [
    "times_mongo = {}"
   ]
  },
  {
   "cell_type": "markdown",
   "metadata": {},
   "source": [
    "#### Por fecha"
   ]
  },
  {
   "cell_type": "code",
   "execution_count": null,
   "metadata": {},
   "outputs": [],
   "source": [
    "times_dates = {}\n",
    "start_date_data = datetime.strptime('2023-01-01', '%Y-%m-%d')\n",
    "\n",
    "for n in n_querys_mongo:\n",
    "    batch_querys = []\n",
    "    for i in range(n):\n",
    "        start_date = start_date_data + timedelta(days=int(random.random() * 365))\n",
    "        end_date = start_date + timedelta(days=1)\n",
    "        query_fecha = {\n",
    "                    \"fecha_publicacion\": {\n",
    "                        \"$gte\": start_date,\n",
    "                        \"$lte\": end_date,\n",
    "                    }\n",
    "                }\n",
    "        batch_querys.append(query_fecha)\n",
    "    times_dates[n] = batch_timing_mongo(batch_querys)\n",
    "\n",
    "times_mongo['fecha'] = times_dates"
   ]
  },
  {
   "cell_type": "markdown",
   "metadata": {},
   "source": [
    "#### Por indentificador"
   ]
  },
  {
   "cell_type": "code",
   "execution_count": null,
   "metadata": {},
   "outputs": [],
   "source": [
    "identificadores = mongo_collection.distinct('identificador')\n",
    "times_identificadores = {}\n",
    "for n in n_querys_mongo:\n",
    "    batch_querys = []\n",
    "    for i in range(n):\n",
    "        query_identificador = {\n",
    "                    \"identificador\": random.choice(identificadores)\n",
    "                }\n",
    "        batch_querys.append(query_identificador)\n",
    "    times_identificadores[n] = batch_timing_mongo(batch_querys)\n",
    "times_mongo['identificador'] = times_identificadores"
   ]
  },
  {
   "cell_type": "markdown",
   "metadata": {},
   "source": [
    "#### Por materia"
   ]
  },
  {
   "cell_type": "code",
   "execution_count": null,
   "metadata": {},
   "outputs": [],
   "source": [
    "codigos = mongo_collection.distinct('materias.codigo')\n",
    "\n",
    "for n in n_querys_mongo:\n",
    "    batch_querys = []\n",
    "    for i in range(n):\n",
    "        query_codigo = {\n",
    "                    \"materias.codigo\": random.choice(codigos)\n",
    "                }\n",
    "        batch_querys.append(query_codigo)\n",
    "    times_identificadores[n] = batch_timing_mongo(batch_querys)\n",
    "times_mongo['codigo'] = times_identificadores"
   ]
  },
  {
   "cell_type": "markdown",
   "metadata": {},
   "source": [
    "#### Plot de resultados"
   ]
  },
  {
   "cell_type": "code",
   "execution_count": null,
   "metadata": {},
   "outputs": [],
   "source": [
    "fig, ax = plt.subplots()\n",
    "fig.set_size_inches(10, 10)\n",
    "for query_type in times_mongo:\n",
    "    ax.plot(n_querys_mongo, times_mongo[query_type].values(), label=query_type)\n",
    "ax.set(xlabel='n_querys', ylabel='time (s)', title='Time vs num querys')\n",
    "ax.grid()\n",
    "ax.legend()\n",
    "plt.show()"
   ]
  },
  {
   "cell_type": "markdown",
   "metadata": {},
   "source": [
    "### GraphDB"
   ]
  },
  {
   "cell_type": "code",
   "execution_count": null,
   "metadata": {},
   "outputs": [],
   "source": [
    "times_graph = {}"
   ]
  },
  {
   "cell_type": "code",
   "execution_count": null,
   "metadata": {},
   "outputs": [],
   "source": [
    "PREFIXES = \"\"\"\n",
    "PREFIX  :     <http://www.semanticweb.org/hackathon/ontology/>\n",
    "PREFIX  owl:  <http://www.w3.org/2002/07/owl#>\n",
    "PREFIX  rdf:  <http://www.w3.org/1999/02/22-rdf-syntax-ns#>\n",
    "PREFIX  xml:  <http://www.w3.org/XML/1998/namespace>\n",
    "PREFIX  xsd:  <http://www.w3.org/2001/XMLSchema#>\n",
    "PREFIX  rdfs: <http://www.w3.org/2000/01/rdf-schema#>\n",
    "\"\"\""
   ]
  },
  {
   "cell_type": "markdown",
   "metadata": {},
   "source": [
    "#### Por fecha"
   ]
  },
  {
   "cell_type": "code",
   "execution_count": null,
   "metadata": {},
   "outputs": [],
   "source": [
    "def encode_date(date):\n",
    "    return f'\"{date.strftime(\"%Y-%m-%d\")}\"^^xsd:date'"
   ]
  },
  {
   "cell_type": "code",
   "execution_count": null,
   "metadata": {},
   "outputs": [],
   "source": [
    "times_dates = {}\n",
    "start_date_data = datetime.strptime('2023-01-01', '%Y-%m-%d')\n",
    "\n",
    "for n in n_querys_graph:\n",
    "    batch_querys = []\n",
    "    for i in range(n):\n",
    "        date = start_date_data + timedelta(days=int(random.random() * 365))\n",
    "        query_fecha = PREFIXES + f\"\"\"SELECT ?entradaBOE\n",
    "                                WHERE {{\n",
    "                                    ?entradaBOE rdf:type :EntradaBOE .\n",
    "                                    ?entradaBOE :fechaPublicacion {encode_date(date)} .\n",
    "                                }}\n",
    "                                \"\"\"  \n",
    "        batch_querys.append(query_fecha)\n",
    "    times_dates[n] = batch_timing_graph(batch_querys)\n",
    "\n",
    "times_graph['fecha'] = times_dates"
   ]
  },
  {
   "cell_type": "markdown",
   "metadata": {},
   "source": [
    "#### Por indentificador"
   ]
  },
  {
   "cell_type": "code",
   "execution_count": null,
   "metadata": {},
   "outputs": [],
   "source": [
    "identificadores = mongo_collection.distinct('identificador')\n",
    "times_identificadores = {}\n",
    "for n in n_querys_graph:\n",
    "    batch_querys = []\n",
    "    for i in range(n):\n",
    "        query_identificador = PREFIXES + f\"\"\"SELECT ?entradaBOE\n",
    "                                WHERE {{\n",
    "                                    ?entradaBOE rdf:type :EntradaBOE .\n",
    "                                    ?entradaBOE :identificador \"{random.choice(identificadores)}\" .\n",
    "                                }}\n",
    "                                \"\"\"     \n",
    "        batch_querys.append(query_identificador)\n",
    "    times_identificadores[n] = batch_timing_graph(batch_querys)\n",
    "times_graph['identificador'] = times_identificadores"
   ]
  },
  {
   "cell_type": "markdown",
   "metadata": {},
   "source": [
    "#### Plot de resultados"
   ]
  },
  {
   "cell_type": "code",
   "execution_count": null,
   "metadata": {},
   "outputs": [],
   "source": [
    "fig, ax = plt.subplots()\n",
    "fig.set_size_inches(10, 10)\n",
    "for query_type in times_graph:\n",
    "    ax.plot(n_querys_graph, times_graph[query_type].values(), label=query_type)\n",
    "ax.set(xlabel='n_querys', ylabel='time (s)', title='Time vs num querys')\n",
    "ax.grid()\n",
    "ax.legend()\n",
    "plt.show()"
   ]
  }
 ],
 "metadata": {
  "kernelspec": {
   "display_name": "venv310",
   "language": "python",
   "name": "python3"
  },
  "language_info": {
   "codemirror_mode": {
    "name": "ipython",
    "version": 3
   },
   "file_extension": ".py",
   "mimetype": "text/x-python",
   "name": "python",
   "nbconvert_exporter": "python",
   "pygments_lexer": "ipython3",
   "version": "3.10.0rc2"
  }
 },
 "nbformat": 4,
 "nbformat_minor": 2
}
